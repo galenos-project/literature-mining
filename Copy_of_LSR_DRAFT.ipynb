{
  "nbformat": 4,
  "nbformat_minor": 0,
  "metadata": {
    "colab": {
      "provenance": [],
      "authorship_tag": "ABX9TyO6NuJrUyexfMNL51Ne2B1t",
      "include_colab_link": true
    },
    "kernelspec": {
      "name": "python3",
      "display_name": "Python 3"
    },
    "language_info": {
      "name": "python"
    },
    "widgets": {
      "application/vnd.jupyter.widget-state+json": {
        "cba388cac37448449d02f141fbddb47c": {
          "model_module": "@jupyter-widgets/output",
          "model_name": "OutputModel",
          "model_module_version": "1.0.0",
          "state": {
            "_dom_classes": [],
            "_model_module": "@jupyter-widgets/output",
            "_model_module_version": "1.0.0",
            "_model_name": "OutputModel",
            "_view_count": null,
            "_view_module": "@jupyter-widgets/output",
            "_view_module_version": "1.0.0",
            "_view_name": "OutputView",
            "layout": "IPY_MODEL_3aaba54b28bf4be0b52c5d6649c64416",
            "msg_id": "",
            "outputs": [
              {
                "output_type": "display_data",
                "data": {
                  "text/plain": "\u001b[32m⠼\u001b[0m Encoding vocabulary\n",
                  "text/html": "<pre style=\"white-space:pre;overflow-x:auto;line-height:normal;font-family:Menlo,'DejaVu Sans Mono',consolas,'Courier New',monospace\"><span style=\"color: #008000; text-decoration-color: #008000\">⠼</span> Encoding vocabulary\n</pre>\n"
                },
                "metadata": {}
              }
            ]
          }
        },
        "3aaba54b28bf4be0b52c5d6649c64416": {
          "model_module": "@jupyter-widgets/base",
          "model_name": "LayoutModel",
          "model_module_version": "1.2.0",
          "state": {
            "_model_module": "@jupyter-widgets/base",
            "_model_module_version": "1.2.0",
            "_model_name": "LayoutModel",
            "_view_count": null,
            "_view_module": "@jupyter-widgets/base",
            "_view_module_version": "1.2.0",
            "_view_name": "LayoutView",
            "align_content": null,
            "align_items": null,
            "align_self": null,
            "border": null,
            "bottom": null,
            "display": null,
            "flex": null,
            "flex_flow": null,
            "grid_area": null,
            "grid_auto_columns": null,
            "grid_auto_flow": null,
            "grid_auto_rows": null,
            "grid_column": null,
            "grid_gap": null,
            "grid_row": null,
            "grid_template_areas": null,
            "grid_template_columns": null,
            "grid_template_rows": null,
            "height": null,
            "justify_content": null,
            "justify_items": null,
            "left": null,
            "margin": null,
            "max_height": null,
            "max_width": null,
            "min_height": null,
            "min_width": null,
            "object_fit": null,
            "object_position": null,
            "order": null,
            "overflow": null,
            "overflow_x": null,
            "overflow_y": null,
            "padding": null,
            "right": null,
            "top": null,
            "visibility": null,
            "width": null
          }
        },
        "a498358a21ff44b3b1d83c4b521fb157": {
          "model_module": "@jupyter-widgets/output",
          "model_name": "OutputModel",
          "model_module_version": "1.0.0",
          "state": {
            "_dom_classes": [],
            "_model_module": "@jupyter-widgets/output",
            "_model_module_version": "1.0.0",
            "_model_name": "OutputModel",
            "_view_count": null,
            "_view_module": "@jupyter-widgets/output",
            "_view_module_version": "1.0.0",
            "_view_name": "OutputView",
            "layout": "IPY_MODEL_d7dd23a8bb7947ca9c3f8e55c4ddf433",
            "msg_id": "",
            "outputs": [
              {
                "output_type": "display_data",
                "data": {
                  "text/plain": "\u001b[32m⠸\u001b[0m Encoding vocabulary\n",
                  "text/html": "<pre style=\"white-space:pre;overflow-x:auto;line-height:normal;font-family:Menlo,'DejaVu Sans Mono',consolas,'Courier New',monospace\"><span style=\"color: #008000; text-decoration-color: #008000\">⠸</span> Encoding vocabulary\n</pre>\n"
                },
                "metadata": {}
              }
            ]
          }
        },
        "d7dd23a8bb7947ca9c3f8e55c4ddf433": {
          "model_module": "@jupyter-widgets/base",
          "model_name": "LayoutModel",
          "model_module_version": "1.2.0",
          "state": {
            "_model_module": "@jupyter-widgets/base",
            "_model_module_version": "1.2.0",
            "_model_name": "LayoutModel",
            "_view_count": null,
            "_view_module": "@jupyter-widgets/base",
            "_view_module_version": "1.2.0",
            "_view_name": "LayoutView",
            "align_content": null,
            "align_items": null,
            "align_self": null,
            "border": null,
            "bottom": null,
            "display": null,
            "flex": null,
            "flex_flow": null,
            "grid_area": null,
            "grid_auto_columns": null,
            "grid_auto_flow": null,
            "grid_auto_rows": null,
            "grid_column": null,
            "grid_gap": null,
            "grid_row": null,
            "grid_template_areas": null,
            "grid_template_columns": null,
            "grid_template_rows": null,
            "height": null,
            "justify_content": null,
            "justify_items": null,
            "left": null,
            "margin": null,
            "max_height": null,
            "max_width": null,
            "min_height": null,
            "min_width": null,
            "object_fit": null,
            "object_position": null,
            "order": null,
            "overflow": null,
            "overflow_x": null,
            "overflow_y": null,
            "padding": null,
            "right": null,
            "top": null,
            "visibility": null,
            "width": null
          }
        }
      }
    }
  },
  "cells": [
    {
      "cell_type": "markdown",
      "metadata": {
        "id": "view-in-github",
        "colab_type": "text"
      },
      "source": [
        "<a href=\"https://colab.research.google.com/github/galenos-project/literature-mining/blob/main/Copy_of_LSR_DRAFT.ipynb\" target=\"_parent\"><img src=\"https://colab.research.google.com/assets/colab-badge.svg\" alt=\"Open In Colab\"/></a>"
      ]
    },
    {
      "cell_type": "code",
      "source": [
        "pip install pymed"
      ],
      "metadata": {
        "colab": {
          "base_uri": "https://localhost:8080/"
        },
        "id": "unCW0MW-GtkW",
        "outputId": "b9ea3e3d-a15d-4d4b-8026-35b40b5a07c9"
      },
      "execution_count": null,
      "outputs": [
        {
          "output_type": "stream",
          "name": "stdout",
          "text": [
            "Requirement already satisfied: pymed in /usr/local/lib/python3.10/dist-packages (0.8.9)\n",
            "Requirement already satisfied: requests>=2.20.0 in /usr/local/lib/python3.10/dist-packages (from pymed) (2.31.0)\n",
            "Requirement already satisfied: charset-normalizer<4,>=2 in /usr/local/lib/python3.10/dist-packages (from requests>=2.20.0->pymed) (3.3.2)\n",
            "Requirement already satisfied: idna<4,>=2.5 in /usr/local/lib/python3.10/dist-packages (from requests>=2.20.0->pymed) (3.6)\n",
            "Requirement already satisfied: urllib3<3,>=1.21.1 in /usr/local/lib/python3.10/dist-packages (from requests>=2.20.0->pymed) (2.0.7)\n",
            "Requirement already satisfied: certifi>=2017.4.17 in /usr/local/lib/python3.10/dist-packages (from requests>=2.20.0->pymed) (2024.2.2)\n"
          ]
        }
      ]
    },
    {
      "cell_type": "markdown",
      "source": [
        "## PubMed search for literature: Depression, Anxiety, Psychosis AND Psychadelics AND published between 2014-2024"
      ],
      "metadata": {
        "id": "AJWpmn9NKG2U"
      }
    },
    {
      "cell_type": "code",
      "execution_count": null,
      "metadata": {
        "colab": {
          "base_uri": "https://localhost:8080/"
        },
        "id": "Kt4roMYUGcyc",
        "outputId": "9caf657a-2d95-43fe-a9c9-889b1f340b2f"
      },
      "outputs": [
        {
          "output_type": "stream",
          "name": "stdout",
          "text": [
            "  pubmed_id                                              title  \\\n",
            "0  27793241  Seizure due to multiple drugs intoxication: a ...   \n",
            "1  25529756  Efficacy of ranitidine in olanzapine-induced w...   \n",
            "2  25148542  Characterization and evaluation of self-nanoem...   \n",
            "3  27136907  Pharmacokinetic profile after multiple deltoid...   \n",
            "4  26706484  Pregabalin Treatment of a Patient With Complex...   \n",
            "\n",
            "                                          journal  \\\n",
            "0  Brazilian journal of anesthesiology (Elsevier)   \n",
            "1                Early intervention in psychiatry   \n",
            "2                                   Drug delivery   \n",
            "3       Clinical pharmacology in drug development   \n",
            "4                             Pediatric neurology   \n",
            "\n",
            "                                            abstract  \\\n",
            "0  The mechanism of the antidepressant effect of ...   \n",
            "1  Weight gain has long been recognized as a side...   \n",
            "2  The purpose of this work was to develop self-n...   \n",
            "3  Paliperidone palmitate (PP) is a once-monthly ...   \n",
            "4  Complex regional pain syndrome (CRPS) is a pai...   \n",
            "\n",
            "                                            keywords  \n",
            "0  [Bupripion, Bupropiona, Convulsão, Intensive c...  \n",
            "1              [olanzapine, ranitidine, weight gain]  \n",
            "2  [Bioavailability enhancement, food effect, sel...  \n",
            "3  [atypical long-acting injectable, deltoid and ...  \n",
            "4  [complex regional pain syndrome, depression, p...  \n"
          ]
        }
      ],
      "source": [
        "#PubMed Search string and results\n",
        "\n",
        "from pymed import PubMed\n",
        "import pandas as pd\n",
        "\n",
        "pubmed = PubMed(tool=\"PubMedSearcher\", email=\"avahomiar@gmail.com\")\n",
        "\n",
        "search_term = \"(((mood) OR (depress*) OR (affective disorder)) OR ((psychosis) OR (schizo*) OR (psychotic))) AND ((psychedelic OR hallucinogen OR entheogen OR hallucinogenic OR psychotropic)) AND (2014/2024[Date - Publication])\"\n",
        "results = pubmed.query(search_term)\n",
        "articleList = []\n",
        "articleInfo = []\n",
        "\n",
        "for article in results:\n",
        "    articleDict = article.toDict()\n",
        "    articleList.append(articleDict)\n",
        "\n",
        "for article in articleList:\n",
        "    pubmedId = article['pubmed_id'].partition('\\n')[0]\n",
        "    articleInfo.append({\n",
        "        u'pubmed_id': pubmedId,\n",
        "        u'title': article['title'],\n",
        "        u'journal': article['journal'],\n",
        "        u'abstract': article['abstract'],})\n",
        "\n",
        "    # keywords available\n",
        "    if 'keywords' in article:\n",
        "        articleInfo[-1]['keywords'] = article['keywords']\n",
        "\n",
        "articlesPD = pd.DataFrame.from_dict(articleInfo)\n",
        "export_csv = articlesPD.to_csv(r'C:\\Users\\ahomiar\\OneDrive - Nexus365\\Desktop\\export_dataframe.csv', index=None, header=True)\n",
        "\n",
        "print(articlesPD.head())\n"
      ]
    },
    {
      "cell_type": "markdown",
      "source": [
        "##Using articles from search results to combine all sections"
      ],
      "metadata": {
        "id": "3i23NLXXKbt_"
      }
    },
    {
      "cell_type": "code",
      "source": [
        "for article in results:\n",
        "    articleDict = article.toDict()\n",
        "\n",
        "    # Combine title, abstract, and keywords into one text\n",
        "    text = f\"{articleDict['title']}\\n{articleDict.get('abstract', '')}\\n{' '.join(articleDict.get('keywords', []))}\"\n",
        "\n",
        "    articleDict['text'] = text\n",
        "    articleList.append(articleDict)\n",
        "\n",
        "articlesPD = pd.DataFrame.from_dict(articleList)\n",
        "export_csv = articlesPD.to_csv(r'C:\\Users\\ahomiar\\OneDrive - Nexus365\\Desktop\\export_dataframe.csv', index=None, header=True)\n",
        "\n",
        "print(articlesPD)\n"
      ],
      "metadata": {
        "colab": {
          "base_uri": "https://localhost:8080/"
        },
        "id": "wVwWoJDEG_K4",
        "outputId": "4e3c6e16-51cc-46cd-8483-b5a3fd63e46a"
      },
      "execution_count": null,
      "outputs": [
        {
          "output_type": "stream",
          "name": "stdout",
          "text": [
            "                                            pubmed_id  \\\n",
            "0                                            27793241   \n",
            "1                                            25529756   \n",
            "2                                            25148542   \n",
            "3                                            27136907   \n",
            "4                                            26706484   \n",
            "..                                                ...   \n",
            "95  25628381\\n17981266\\n21123312\\n21677641\\n164699...   \n",
            "96                                           25626189   \n",
            "97                                           25624181   \n",
            "98                                           25619678   \n",
            "99                                           25619432   \n",
            "\n",
            "                                                title  \\\n",
            "0   Seizure due to multiple drugs intoxication: a ...   \n",
            "1   Efficacy of ranitidine in olanzapine-induced w...   \n",
            "2   Characterization and evaluation of self-nanoem...   \n",
            "3   Pharmacokinetic profile after multiple deltoid...   \n",
            "4   Pregabalin Treatment of a Patient With Complex...   \n",
            "..                                                ...   \n",
            "95  Antidepressant effects of TrkB ligands on depr...   \n",
            "96  The impact of socio-economic factors on suicid...   \n",
            "97  Persistent perceptual disturbances after lithi...   \n",
            "98  Depersonalization/derealization disorder after...   \n",
            "99  Effects of remission speed and improvement of ...   \n",
            "\n",
            "                                             abstract  \\\n",
            "0   The mechanism of the antidepressant effect of ...   \n",
            "1   Weight gain has long been recognized as a side...   \n",
            "2   The purpose of this work was to develop self-n...   \n",
            "3   Paliperidone palmitate (PP) is a once-monthly ...   \n",
            "4   Complex regional pain syndrome (CRPS) is a pai...   \n",
            "..                                                ...   \n",
            "95  Brain-derived neurotrophic factor (BDNF) and i...   \n",
            "96                                               None   \n",
            "97                                               None   \n",
            "98                                               None   \n",
            "99  Major depressive disorder (MDD) presents neuro...   \n",
            "\n",
            "                                             keywords  \\\n",
            "0   [Bupripion, Bupropiona, Convulsão, Intensive c...   \n",
            "1               [olanzapine, ranitidine, weight gain]   \n",
            "2   [Bioavailability enhancement, food effect, sel...   \n",
            "3   [atypical long-acting injectable, deltoid and ...   \n",
            "4   [complex regional pain syndrome, depression, p...   \n",
            "..                                                ...   \n",
            "95  [BDNF-TrkB signaling, hippocampus, inflammatio...   \n",
            "96                                                 []   \n",
            "97                                                 []   \n",
            "98                                                 []   \n",
            "99  [Antidepressant response, Cognitive improvemen...   \n",
            "\n",
            "                                              journal publication_date  \\\n",
            "0      Brazilian journal of anesthesiology (Elsevier)       2016-10-30   \n",
            "1                    Early intervention in psychiatry       2016-10-21   \n",
            "2                                       Drug delivery       2016-10-18   \n",
            "3           Clinical pharmacology in drug development       2016-05-04   \n",
            "4                                 Pediatric neurology       2015-12-27   \n",
            "..                                                ...              ...   \n",
            "95  The international journal of neuropsychopharma...       2015-01-30   \n",
            "96  The journal of mental health policy and economics       2015-01-30   \n",
            "97                                     Psychosomatics       2015-01-28   \n",
            "98                                     Psychosomatics       2015-01-27   \n",
            "99                                Psychiatry research       2015-01-27   \n",
            "\n",
            "                                              authors methods  \\\n",
            "0   [{'lastname': 'Gulec', 'firstname': 'Handan', ...    None   \n",
            "1   [{'lastname': 'Mehta', 'firstname': 'Varun S',...    None   \n",
            "2   [{'lastname': 'Miao', 'firstname': 'Yanfei', '...    None   \n",
            "3   [{'lastname': 'Rossenu', 'firstname': 'Stefaan...    None   \n",
            "4   [{'lastname': 'Saltık', 'firstname': 'Sema', '...    None   \n",
            "..                                                ...     ...   \n",
            "95  [{'lastname': 'Zhang', 'firstname': 'Ji-chun',...    None   \n",
            "96  [{'lastname': 'Moscarelli', 'firstname': 'Mass...    None   \n",
            "97  [{'lastname': 'Feldman', 'firstname': 'William...    None   \n",
            "98  [{'lastname': 'McEvoy', 'firstname': 'Katherin...    None   \n",
            "99  [{'lastname': 'Gudayol-Ferré', 'firstname': 'E...    None   \n",
            "\n",
            "                                          conclusions  \\\n",
            "0                                                None   \n",
            "1           Ranitidine at doses of 150 and 300 mg day   \n",
            "2                                                None   \n",
            "3                                                None   \n",
            "4   Detailed psycological and psychiatric evaluati...   \n",
            "..                                                ...   \n",
            "95                                               None   \n",
            "96                                               None   \n",
            "97                                               None   \n",
            "98                                               None   \n",
            "99                                               None   \n",
            "\n",
            "                                              results  \\\n",
            "0                                                None   \n",
            "1   All patients were comparable with respect to t...   \n",
            "2                                                None   \n",
            "3                                                None   \n",
            "4                                                None   \n",
            "..                                                ...   \n",
            "95  LPS caused a reduction of BDNF in the CA3 and ...   \n",
            "96                                               None   \n",
            "97                                               None   \n",
            "98                                               None   \n",
            "99                                               None   \n",
            "\n",
            "                                           copyrights  \\\n",
            "0   Copyright © 2014 Sociedade Brasileira de Anest...   \n",
            "1               © 2014 Wiley Publishing Asia Pty Ltd.   \n",
            "2                                                None   \n",
            "3   © 2014, The American College of Clinical Pharm...   \n",
            "4   Copyright © 2016 Elsevier Inc. All rights rese...   \n",
            "..                                                ...   \n",
            "95  © The Author 2015. Published by Oxford Univers...   \n",
            "96                                               None   \n",
            "97                                               None   \n",
            "98                                               None   \n",
            "99  Copyright © 2014 Elsevier Ireland Ltd. All rig...   \n",
            "\n",
            "                                    doi  \\\n",
            "0           10.1016/j.bjane.2014.02.013   \n",
            "1                     10.1111/eip.12205   \n",
            "2          10.3109/10717544.2014.950768   \n",
            "3                      10.1002/cpdd.144   \n",
            "4   10.1016/j.pediatrneurol.2014.01.015   \n",
            "..                                  ...   \n",
            "95                  10.1093/ijnp/pyu077   \n",
            "96                                 None   \n",
            "97           10.1016/j.psym.2014.08.002   \n",
            "98           10.1016/j.psym.2014.08.001   \n",
            "99       10.1016/j.psychres.2014.11.079   \n",
            "\n",
            "                                                  xml  \n",
            "0   [[[], [<Element 'Year' at 0x78e3b6f0a890>, <El...  \n",
            "1   [[[], [<Element 'Year' at 0x78e396e0a1b0>, <El...  \n",
            "2   [[[], [<Element 'Year' at 0x78e3b5f827f0>, <El...  \n",
            "3   [[[], [<Element 'Year' at 0x78e3a56595d0>, <El...  \n",
            "4   [[[], [<Element 'Year' at 0x78e396e026b0>, <El...  \n",
            "..                                                ...  \n",
            "95  [[[], [<Element 'Year' at 0x78e3a53d1490>, <El...  \n",
            "96  [[[], [<Element 'Year' at 0x78e3a53a2c00>, <El...  \n",
            "97  [[[], [<Element 'Year' at 0x78e3a53a8f40>, <El...  \n",
            "98  [[[], [<Element 'Year' at 0x78e3940303b0>, <El...  \n",
            "99  [[[], [<Element 'Year' at 0x78e394033740>, <El...  \n",
            "\n",
            "[100 rows x 13 columns]\n"
          ]
        }
      ]
    },
    {
      "cell_type": "markdown",
      "source": [
        "##Combining all sections of all articles to create one text --> corpus"
      ],
      "metadata": {
        "id": "bQhMGFNNKieR"
      }
    },
    {
      "cell_type": "code",
      "source": [
        "search_term = \"(((mood) OR (depress*) OR (affective disorder)) OR ((psychosis) OR (schizo*) OR (psychotic))) AND ((psychedelic OR hallucinogen OR entheogen OR hallucinogenic OR psychotropic)) AND (2014/2024[Date - Publication])\"\n",
        "results = pubmed.query(search_term)\n",
        "articleList = []\n",
        "articleInfo = []\n",
        "corpus = \"\"\n",
        "\n",
        "for article in results:\n",
        "    articleDict = article.toDict()\n",
        "\n",
        "    # Combine title, abstract, and keywords into one text\n",
        "    text = f\"{articleDict['title']}\\n{articleDict.get('abstract', '')}\\n{' '.join(articleDict.get('keywords', []))}\"\n",
        "\n",
        "    # Append text to corpus\n",
        "    corpus += text + \"\\n\"\n",
        "\n",
        "    articleDict['text'] = text\n",
        "    articleList.append(articleDict)\n",
        "\n",
        "articlesPD = pd.DataFrame.from_dict(articleList)\n",
        "export_csv = articlesPD.to_csv(r'C:\\Users\\ahomiar\\OneDrive - Nexus365\\Desktop\\export_dataframe.csv', index=None, header=True)\n",
        "\n",
        "print(corpus)\n"
      ],
      "metadata": {
        "colab": {
          "base_uri": "https://localhost:8080/"
        },
        "id": "QG2Sm8IfHKsT",
        "outputId": "27d7c3d7-889b-43dd-f54c-bc99cb278ac0"
      },
      "execution_count": null,
      "outputs": [
        {
          "output_type": "stream",
          "name": "stdout",
          "text": [
            "Seizure due to multiple drugs intoxication: a case report.\n",
            "The mechanism of the antidepressant effect of bupropion is not fully understood. Besides, using it in the treatment of depression, it is found to be effective in reducing withdrawal symptoms due to smoking cessation. A 28-year-old female patient with a history of depression was admitted to emergency department an hour after ingestion of bupropion, quetiapine, and levothyroxine in high doses to commit suicide. While accepting her into the Intensive Care Unit, she was awake, alert, disoriented and agitated. After 2h, the patient had a generalized tonic-clonic seizure. The necessary treatment was given and 9h later with hemodynamic improvement, the patients' mental status improved. Bupropion may cause unusual behaviors such as delusions, paranoia, hallucinations, or confusion. The risk of seizure is strongly dose-dependent. We want to emphasize the importance of early gastric lavage and administration of activated charcoal.\n",
            "Bupripion Bupropiona Convulsão Intensive care unit Seizure Unidade de terapia intensiva\n",
            "Efficacy of ranitidine in olanzapine-induced weight gain: a dose-response study.\n",
            "Weight gain has long been recognized as a side-effect of atypical antipsychotic drugs. Numerous new approaches have been tried for prevention of weight gain, the H2 blockers being one of them. The study was conducted with the aim to evaluate the efficacy of ranitidine in olanzapine-induced weight gain at two fixed doses of 150 and 300 mg day\n",
            "Seventy-five inpatients with an ICD-10-DCR diagnosis of schizophrenia as their first episode were randomized into three groups of 25 patients each, receiving 150 mg day\n",
            "All patients were comparable with respect to their weight and BMI at baseline. When a change in the weight and BMI was assessed at 4 and 8 weeks from baseline, no significant difference was observed between the three groups.\n",
            "Ranitidine at doses of 150 and 300 mg day\n",
            "olanzapine ranitidine weight gain\n",
            "Characterization and evaluation of self-nanoemulsifying sustained-release pellet formulation of ziprasidone with enhanced bioavailability and no food effect.\n",
            "The purpose of this work was to develop self-nanomulsifying drug delivery systems (SNEDDS) in sustained-release pellets of ziprasidone to enhance the oral bioavailability and overcome the food effect of ziprasidone. Preformulation studies including screening of excipients for solubility and pseudo-ternary phase diagrams suggested the suitability of Capmul MCM as oil phase, Labrasol as surfactant, and PEG 400 as co-surfactant for preparation of self-nanoemulsifying formulations. Preliminary composition of the SNEDDS formulations were selected from the pseudo-ternary phase diagrams. The prepared ziprasidone-SNEDDS formulations were characterized for self-emulsification time, effect of pH and robustness to dilution, droplet size analysis and zeta potential. The optimized ziprasidone-SNEDDS were used to prepare ziprasidone-SNEDDS sustained-release pellets via extrusion-spheronization method. The pellets were characterized for SEM, particle size, droplet size distribution and zeta potential. In vitro drug release studies indicated the ziprsidone-SNEDDS sustained-release pellets showed sustained release profiles with 90% released within 10 h. The ziprsidone-SNEDDS sustained-release pellets were administered to fasted and fed beagle dogs and their pharmacokinetics were compared to commercial formulation of Zeldox as a control. Pharmacokinetic studies in beagle dogs showed ziprasidone with prolonged actions and enhanced bioavailability with no food effect was achieved simultaneously in ziprsidone-SNEDDS sustained-release pellets compared with Zeldox in fed state. The results indicated a sustained release with prolonged actions of schizophrenia and bipolar disorder treatment.\n",
            "Bioavailability enhancement food effect self-nanoemulsifying sustained release ziprasidone\n",
            "Pharmacokinetic profile after multiple deltoid or gluteal intramuscular injections of paliperidone palmitate in patients with schizophrenia.\n",
            "Paliperidone palmitate (PP) is a once-monthly long-acting injectable antipsychotic approved for the treatment of schizophrenia in many countries. To evaluate the different injection-site options, we compared the pharmacokinetic profile of paliperidone after multiple injections of PP 100 mg eq. (156 mg of PP, equivalent to 100 mg of paliperidone) on days 1, 8, 36, and 64 into the deltoid (n = 24) or gluteal muscle (n = 25) in patients with schizophrenia. After four injections in the deltoid muscle, paliperidone exposure was higher for AUCτ and Cmax , compared with the gluteal muscle (geometric mean AUCτ -based ratio: 120% [90% CI: 93.1-154.7%], and geometric mean Cmax -based ratio: 130% [90% CI: 100.6-168.9%]). The mean [SD] fluctuation index was higher, with a larger interpatient variability, after deltoid-injections (75.9% [30.9%]) than gluteal-injections (58.5% [14.3%]). The median tmax was similar for both sites. PP was generally tolerable in patients, with more favorable local-site tolerability for gluteal-injection. In conclusion, to achieve therapeutic-concentrations quickly, the first-two injections of PP are best administered into the deltoid muscle, whereas thereafter maintenance-injections can be administered either in the deltoid or gluteal muscle.\n",
            "atypical long-acting injectable deltoid and gluteal muscle paliperidone palmitate pharmacokinetics schizophrenia\n",
            "Pregabalin Treatment of a Patient With Complex Regional Pain Syndrome.\n",
            "Complex regional pain syndrome (CRPS) is a painful and disabling neurovascular condition. There is no consensus on the etiopathogenesis or the treatment. We present a patient with CRPS type 1 accompanied by a psychiatric disorder to discuss the relationship between CRPS and psychiatric disease and to emphasize the response of this case to treatment with pregabalin.\n",
            "A 15-year-old girl presented with swelling, severe pain, edema, hyperesthesia, allodynia, and sweating changes in the left arm and was diagnosed as CRPS type 1. The presence of disturbed family relations was revealed on psychiatric examination, and a diagnosis of major depression was made. Her symptoms did not respond to selective serotonin reuptake inhibitors and noradrenergic and specific serotonergic antidepressives, gabapentin, or stellate ganglion blockage, but the patient's pain resolved with pregabalin. Symptom-oriented measures and psychiatric support enabled ongoing treatment. A social services evaluation led to her being placed in the care of social services to protect her from the chaotic and traumatic family life.\n",
            "Detailed psycological and psychiatric evaluation is recommended in individuals with CRPS because psychiatric support and improvement of associated psychosocial concerns in addition to pregabalin seems to facilitate treatments in some patients.\n",
            "complex regional pain syndrome depression pain pregabalin\n",
            "A rare case of acute Clozapine- related thrombogenic myocarditis.\n",
            "None\n",
            "\n",
            "Latent Bipolarity In Unipolar Depression: Experimental Findings, Conceptual Analysis And Implications For Treatment Strategies.\n",
            "Previous studies have suggested that the two opposite poles of psychomotor disturbances in unipolar depression (UD) - retardation and agitation - require different treatment strategies as the psychomotor overactivation requires an augmentation of the antidepressant therapy with mood stabilizers and/or atypical antipsychotics.\n",
            "The aim of the present study was to objectively identify and measure the psycho-motor disturbances in UD using differentiation between activity and reactivity.\n",
            "An equilibriometric movement pattern analysis system that allows differentiation between psychomotor activity and reactivity was applied in 58 unipolar depressive patients and 76 healthy controls.\n",
            "Compared to controls, the patients as a group were significantly slower in their psychomotor reactivity. However, the subsequent subgrouping according to the direction of deviation of their objective psychomotor parameters revealed a disinhibition of psychomotor activity and/or reactivity in about one half of them. Such a contradictory combination of clinically manifested depressive mood and subclinically detected manic-like psychomotor overactivation might be regarded as belonging to the bipolar spectrum, since it was admitted that manic psychomotor disinhibition in unipolar depressive patients uncovers a latent bipolarity.\n",
            "Not only prototypical depressive inhibition, but also prototypical manic-like disinhibition may underlie clinically manifested UD. Since the combination between depressive mood and psychomotor overactivation multiplies the suicidal risk, we may presume that the timely detection of this combination at a subclinical level would contribute to an earlier and more effective suicidal prevention by an objectively-guided optimization of pharmacological treatment.\n",
            "\n",
            "Depressive Disorders in Indian Context : A Review and Clinical Update for Physicians.\n",
            "Depression is a common, treatable disorder which continues to remain under-detected in the primary care settings. With an average national deficit of 77% for psychiatrists in India, there is a need to mobilise more resources to deal with depressive disorders. Therefore, it is pertinent that the physicians are sensitised and trained for recognition and treatment of depressive disorders. Patients with mild to moderate depression, non-psychotic or somatised depression can be managed in primary care settings by general physicians. Unless specifically screened, depression may remain under-recognised and untreated in primary care/medical settings. The article reviews the available Indian research on depression and provide a clinical update to screen, diagnose and manage depression, especially aimed at physicians.\n",
            "\n",
            "Magnetic Resonance Imaging Measures of Brain Structure to Predict Antidepressant Treatment Outcome in Major Depressive Disorder.\n",
            "Less than 50% of patients with Major Depressive Disorder (MDD) reach symptomatic remission with their initial antidepressant medication (ADM). There are currently no objective measures with which to reliably predict which individuals will achieve remission to ADMs.\n",
            "157 participants with MDD from the International Study to Predict Optimized Treatment in Depression (iSPOT-D) underwent baseline MRIs and completed eight weeks of treatment with escitalopram, sertraline or venlafaxine-ER. A score at week 8 of 7 or less on the 17 item Hamilton Rating Scale for Depression defined remission. Receiver Operator Characteristics (ROC) analysis using the first 50% participants was performed to define decision trees of baseline MRI volumetric and connectivity (fractional anisotropy) measures that differentiated non-remitters from remitters with maximal sensitivity and specificity. These decision trees were tested for replication in the remaining participants.\n",
            "Overall, 35% of all participants achieved remission. ROC analyses identified two decision trees that predicted a high probability of non-remission and that were replicated: 1. Left middle frontal volume < 14 · 8 mL & right angular gyrus volume > 6 · 3 mL identified 55% of non-remitters with 85% accuracy; and 2. Fractional anisotropy values in the left cingulum bundle < 0 · 63, right superior fronto-occipital fasciculus < 0 · 54 and right superior longitudinal fasciculus < 0 · 50 identified 15% of the non-remitters with 84% accuracy. All participants who met criteria for both decision trees were correctly identified as non-remitters.\n",
            "Pretreatment MRI measures seem to reliably identify a subset of patients who do not remit with a first step medication that includes one of these commonly used medications. Findings are consistent with a neuroanatomical basis for non-remission in depressed patients.\n",
            "Brain Resource Ltd is the sponsor for the iSPOT-D study (NCT00693849).\n",
            "Biomarker predictors Decision trees Diffusion tensor imaging Magnetic resonance imaging Major depressive disorder Remission Replication iSPOT-D\n",
            "How Can We Predict Treatment Outcome for Depression?\n",
            "None\n",
            "\n",
            "[INFLUENCE OF REAMBERIN® AND CYCLOFERON® ON CONCETRATION OF \"AVERAGE MOLECULES\" IN SERUM OF PATIENTS WITH RECCURENT DEPRESSIVE DISORDERS IN OUTPATIENT OBSERVATION].\n",
            "The influence Reamberin® and Cycloferon® concentration \"average molecules\" in the serum of patients with the recurrent depressive disorders (RDD) was investigated. It was set that the use of these drugs helps to normalize the concentration of \"average molecules\". which indicates that the elimination of the syndrome of \"metabolic\" intoxication. Based on the data, we can consider it appropriate inclusion Reamberin® and Cycloferon® in the therapeutic treatment of patients with RDR.\n",
            "\n",
            "Trends in the use of antidepressants among older adults: Bambuí Project.\n",
            "OBJECTIVE To analyze the trends and factors associated with the antidepressant use among older adults. METHODS This population-based study evaluated older adults in 1997 (n = 351, baseline) and the survivors at the 15th follow-up year (n = 462, in 2012) among the aging cohort of Bambuí. The prevalence of antidepressant use was estimated, and the most commonly used antidepressants each year were identified. Prevalence ratios with 95% confidence intervals were estimated using Poisson regression with robust variance to investigate differences in the prevalence of use between 1997 and 2012. RESULTS The overall consumption of antidepressants (PR = 2.87, 95%CI 1.94;4.25) and of selective serotonin reuptake inhibitors (PR = 7.50, 95%CI 3.74;15.02) was significantly higher in 2012. However, no significant difference was observed in the use of tricyclic antidepressants between the two cohorts (PR = 0.89, 95%CI 0.49;1.62). In the 2012 cohort, antidepressant use was associated with females, increased age, increased income (≥ 4 minimum wages), self-assessment of health as reasonable, and attending ≥ 5 medical consultations in the last 12 months. CONCLUSIONS The increased consumption of antidepressants in the period due to increased use of selective serotonin reuptake inhibitors was consistent with results observed in international studies of different population groups and contexts. The positive correlation observed between antidepressant use and family income may be a warning of possible inequalities in access to mental health services.\n",
            "Analisar a tendência e os fatores associados ao uso de antidepressivos por idosos mais velhos.\n",
            "Estudo de base populacional com idosos integrantes da linha base (n = 351, em 1997) e dos sobreviventes no 15º seguimento (n = 462, em 2012) da coorte idosa de Bambuí. Estimou-se a prevalência do consumo de antidepressivos e foram identificados os antidepressivos mais consumidos em cada ano. Razões de prevalência com intervalos de confiança de 95% foram estimadas por meio da regressão de Poisson, com variância robusta, na investigação de diferenças de prevalência no uso do medicamento entre os dois anos.\n",
            "O consumo global de antidepressivo (RP = 2,87; IC95% 1,94;4,25) e do grupo dos inibidores seletivos da recaptura da serotonina (RP = 7,50; IC95% 3,74;15,02) foi significativamente maior em 2012. Entretanto, não foi observada diferença significativa no consumo de antidepressivos tricíclicos entre as duas coortes (RP = 0,89; IC95% 0,49;1,62). Na coorte recente (2012), o uso de antidepressivos mostrou-se associado ao sexo feminino, à idade e à renda (≥ 4 salários mínimos) mais elevadas, à autoavaliação da saúde como razoável e à realização de cinco ou mais consultas médicas nos últimos 12 meses.\n",
            "O crescimento do consumo de antidepressivos no período, devido ao aumento no uso dos inibidores seletivos da recaptura da serotonina, mostrou-se consistente com o observado em estudos internacionais, com diferentes populações e contextos. A associação positiva observada em relação à renda alerta para possível desigualdade no acesso aos serviços de saúde mental.\n",
            "\n",
            "Neuroleptic malignant syndrome probably induced by asenapine.\n",
            "None\n",
            "\n",
            "Aripiprazole monotherapy can relieve ruminations in a case with nonpsychotic depression.\n",
            "None\n",
            "\n",
            "Hyponatremia masquerading as panic symptoms in bipolar affective disorder.\n",
            "None\n",
            "\n",
            "Fluoxetine-induced pulmonary hypertension in a patient with schizophrenia.\n",
            "None\n",
            "\n",
            "Pharmacological management of persistent hostility and aggression in persons with schizophrenia spectrum disorders: a systematic review.\n",
            "The incidence of aggressive behaviors is higher among persons with schizophrenia spectrum disorders (SSDs) than among persons without such disorders. This phenomenon represents a risk to the well-being of patients, their families, and society. The authors undertook a systematic review of the English language literature to determine the efficacy of neuropharmacological agents for the management of hostility and aggression among persons with SSDs. The search combined findings from the Medline, EMBASE, and PsycINFO databases. Ninety-two full text articles were identified that reported relevant findings. The American Academy of Neurology criteria were used to determine levels of evidence. Paliperidone-extended release is probably effective for the management of hostility among inpatients with SSDs who have not been preselected for aggression (Level B). Clozapine is possibly more effective than haloperidol for the management of overt aggression and possibly more effective than chlorpromazine for the management of hostility among inpatients with SSDs who have not been preselected for aggression (Level C). Clozapine is also possibly more effective than olanzapine or haloperidol for reducing aggression among selected physically assaultive inpatients (Level C). Adjunctive propranolol, valproic acid, and famotidine are possibly effective for reducing some aspects of hostility or aggression among inpatients with SSDs (Level C). Paliperidone-extended release currently appears to be the agent for the management of hostility among inpatients with SSDs for which there is the strongest evidence of efficacy.\n",
            "\n",
            "Psychopharmacological potentials of methanol leaf extract of Securinega virosa Roxb (Ex Willd) Baill. in mice.\n",
            "Schizophrenia is a highly disabling chronic psychiatric illness. The existing antipsychotic agents are associated with untoward effects and drug interactions leading to the intensification of search for newer agents with better efficacy and safety profile. Securinega virosa is a commonly used medicinal plant in African traditional medicine. The decoction of the leaves of the plant in combination with other plants is used in the management of mental illness. In this study, we evaluate the antipsychotic potential of the methanol leaf extract (25, 50 and 100 mg kg(-1)) of the plant using apomorphine-induced stereotypic climbing behavior and swim-induced grooming tests, all in mice. The CNS depressant effect was also evaluated using ketamine-induced sleep test mice. The extract at the highest dose tested (100 mg kg(-1)) significantly reduced the apomorphine (1 mg kg(-1))-induced stereotypic climbing behavior after 30 min. Similarly, haloperidol (2 mg kg(-1)), the standard agent significantly (p<0.001) decreased the mean climbing behavior. In the swim-induced grooming test, the extract significantly (p<0.01) and dose-dependently decreased the total grooming time. Similarly, haloperidol (2 mg kg(-1)) significantly (p<0.001) decreased the mean grooming activity. The extract significantly increased the total ketamine-induced sleep duration at doses of 50 and 100 mg kg(-1). These findings suggest that the extract possesses antipsychotic and sedative potentials and lend credence to the ethnomedical use of the leaves of the plant in the management of mental illness.\n",
            "\n",
            "Psychopharmacological treatment of delirium: does earlier treatment and scheduled dosing improve outcomes?\n",
            "The goals of this study were to examine how dosing strategies and timeliness of antipsychotic medication initiation would affect delirium duration.\n",
            "This is a retrospective paper and electronic record review of patients in an academic hospital who had been diagnosed with delirium. Forty-two patients met inclusion criteria. Quantitative and qualitative data on the course of delirium was gathered, as well as important demographic and medical variables.\n",
            "There were no significant differences in duration of delirium between the scheduled and PRN groups using survival analysis, although the test was marginally significant (log rank test, p<0.06). Those who received treatment within 24 hours of recognition had significantly shorter durations of delirium compared to those who began treatment after 24 hours (log rank test, p<0.006).\n",
            "These data suggest that early psychopharmacological treatment of delirium can reduce duration. Future research needs to investigate prompt and scheduled medication dosing strategies for treatment of delirium symptoms.\n",
            "\n",
            "Sertraline-induced microscopic colitis.\n",
            "None\n",
            "\n",
            "[Intranasal application of a thyrotropin-releasing hormone attenuates state-anxiety of the rats].\n",
            "During the experiments we investigated the influence of thyrotropin-releasing hormone (TRH) on the changes in the behaviour of white rat (Rattus norvegicus) males (n = 90), induced by light uncontrolled impact. After two-week procedure of handling male rats were tested using elevated plus-maze to determine the basal level of anxiety, locomotor and investigative activity and emotionality. A month later we investigated the influence of intranasal administration of TRH-solution (10(-10) M) in a volume of 20 mkl on the anxiety-level increase, induced by stress: short electric foot-shocks. Four hours later animals were tested in the elevated plus-maze. In vehicle-treated animals we detected the increase of anxiety and emotionality level and the decrease of locomotor and investigative activity. In contrast there was no increase of anxiety and emotionality in TRH-treated rats. As to the locomotor and investigative activity, it decreased in TRH-treated animals as well as inthe vehicle-treated. It shows the specific influence on the level of anxiety, which doesn't affect other components of stress-induced behavioral changes Present results suggest TRH as a potential anxiolitic.\n",
            "\n",
            "Venlafaxine inhibits apoptosis of hippocampal neurons by up-regulating brain-derived neurotrophic factor in a rat depression model.\n",
            "The effect of venlafaxine on the expression of brain-derived neurotrophic factor (BDNF) in rat hippocampal neurons was studied, as well as its inhibitory effect on apoptosis of hippocampal neurons. Differences in behavioral ability between the depression model group and the venlafaxine treatment group were observed in behavioral, sucrose-water and open field tests. The rat hippocampal tissue was sliced, stained and observed for BDNF distribution by immunohistochemistry. Apoptosis of hippocampal neurons was detected by TUNEL. BDNF expression in the hippocampal tissue was detected by Western blot. Injury and apoptosis of the hippocampal tissue were observed by electron microscopy. Behavioral test showed that venlafaxine effectively improved the behavioral abilities of depressed rats. Immunohistochemistry showed that venlafaxine markedly increased BDNF expression in the rat hippocampus. TUNEL showed that venlafaxine markedly inhibited apoptosis of hippocampal neurons, which was also confirmed by electron microscopic observation of the pathologic sections. Venlafaxine improved the expression of BDNF by influencing the PI3k/PKB/eNOS pathway and repressed the apoptosis of hippocampal neurons.\n",
            "\n",
            "[Effects of stimulation and blockade of D2-dopaminergic receptors on behavior In gonadectomized male rats].\n",
            "The present study aims to perform the comparative assessment of stimulation and blockade for D2-dopaminergic receptors in depression-like behavior in male rats with deficiency of androgen hormones. Two weeks after surgery, GDX rats began 14 days of treatment with vehicle, a low dose of testosterone propionate (0.5 mg/kg, s.c.), quinpirole (0.1 mg/kg, i.p.), sulpiride (10.0 mg/kg, i.p.), quinpirole plus testosterone propionate or sulpiride plus testosterone propionate. The animals were then tested in forced swimming test (FST) and the open field test (OFT). Quinpirole administered alone or in a combination with a low dose of testosterone propionate resulted in antidepressant-like effect in GDX rats in the FST. Repeated treatment of quinpirole and testosterone propionate profoundly increased antidepressant-like effect of the single substances they exert per se. Application of neither quinpirole nor quinpirole plus testosterone propionate led to any changes of behavioral reactions in GDX rats in the OFT, except increased grooming behavior. On the contrary, sulpiride treatment failed to alter depression-like behavior in GDX rats in the FST. In addition, sulpiride blocked the antidepressant-like effect of testosterone propionate in GDX rats and its combination with a low dose of testosterone propionate induced prodepressant-like effect in GDX rats. Co-administration of sulpiride with testosterone propionate or its single application increased frequency of rearing and grooming in GDX rats in the OFT. In summary, the results of the present study suggest that stimulation of D2-dopaminergic receptors results in antidepressant-like effect at androgen deficiency in male rats, while blockade of D2-dopaminergic receptors resulted in prodepressant-like effect.\n",
            "\n",
            "Evaluation of the role of NMDA receptor function in antidepressant-like activity. A new study with citalopram and fluoxetine in the forced swim test in mice.\n",
            "The NMDA/glutamate receptors are involved in the mechanism of antidepressant activity.\n",
            "The present study was designed to investigate the effect of NMDA receptor ligands (agonists and antagonists of glutamate sites) on the antidepressant-like activity of selective serotonin reuptake inhibitors (SSRIs), citalopram and fluoxetine, in the forced swim test in mice.\n",
            "The antidepressant activity (reduction in immobility time) of citalopram but not of fluoxetine was antagonized by N-methyl-D-aspartate acid and enhanced by CGP37849 (antagonist of the NMDA receptor).\n",
            "The present literature data indicate that the antidepressant-like activity of conventional antidepressants is generally affected by the NMDA receptor, although by modulation from different sites of the complex. Thus, it supports the issue of the ability of NMDA receptor antagonists to enhance the antidepressant action in human depression.\n",
            "CGP 37849 Citalopram Fluoxetine Forced swim test NMDA\n",
            "Antidepressant-like effect of modafinil in mice: Evidence for the involvement of the dopaminergic neurotransmission.\n",
            "Modafinil is a wake-promoting agent that provides wide ranges of neurological effects. There is evidence that it can produce antidepressant effects. This study investigated the antidepressant effect of modafinil in the tail suspension (TST) in mice.\n",
            "Different doses of modafinil was intraperitoneally (ip) administrated and then animals were subjected to TST and/or open field test (OFT). Moreover, the implication of the dopaminergic neurotransmission in modafinil's antidepressant effect was studied. For this purpose, animals were pretreated with haloperidol (non-selective dopamine receptor antagonist), or SCH23390 and sulpiride (the dopamine D1 and D2 receptor antagonist, respectively), then were assessed by TST. The possible effect of sub-effective dose of modafinil in combination with sub-therapeutic doses of standard antidepressants was also evaluated in separate groups.\n",
            "Modafinil (75 mg/kg, ip) produced antidepressant effect in TST, as compared to a control group, without any alterations in ambulation in OFT. Pretreatment of mice with haloperidol (0.2mg/kg, ip) and sulpride (50mg/kg, ip) blocked the anti-immobility effect of modafinil (75 mg/kg, ip). We also found that the administration of SCH23390 (0.05 mg/kg, sc) couldn't antagonize the antidepressant effects of modafinil. In addition, a sub-effective dose of modafinil (50mg/kg, ip) potentiated the sub-effective doses of standard antidepressants including of bupropion (1mg/kg, ip), fluoxetine (1mg/kg, ip) and imipramine (0.1mg/kg, ip) and reduced immobility time in TST.\n",
            "Results show that modafinil induced an antidepressant property in TST and this effect apparently was mediated through interaction with the dopaminergic (D2 receptors) system.\n",
            "D(2) dopamine receptor Depression Mice Modafinil Tail suspension test\n",
            "[Production and assessing release of imipramine and magnesium from tablets].\n",
            "In the pharmaceutical technology there is a trend to produce tablets composed of several medicinal substances to increase therapeutic effect and reduce the frequency of drug administration. In the literature there are reports concerning pharmacological studies in which a potentiation of the effects has been observed after a co-administration of antidepressant imipramine and magnesium. Currently, there is no formulation on the market comprising imipramine and magnesium, therefore, it was decided to produce uncoated tablets. In order to prepare the tablets by direct compression, it was necessary to select suitable excipients.\n",
            "The aim of the study was to elaborate the composition and to prepare the tablets with imipramine and magnesium, as well as to assess the quality of the tablets by physical characteristics and by the release study of the active substances.\n",
            "In order to prepare the tablets, compositions of different polymers and other excipients were added. The tablets were produced by direct compression method in a tablet press. Physical properties of the obtained tablets and the release of the active substances into an acidic medium in a paddle apparatus were tested. The contents of imipramine and magnesium were determined by different methods: spectrophotometrically and atomic absorption spectrometry, respectively.\n",
            "The composition of excipients necessary to produce tablets comprising imipramine and magnesium was established. All of prepared tablets were in compliance with the pharmacopoeial requirements. The release tests showed that above 80% of imipramine was released within 20-35 min and 80-76% of magnesium up to 45 min from the composed tablets and one-ingredient tablets, respectively.\n",
            "The compositions of excipients for tablets consisting of imipramine and magnesium were presented. The active substances were released within 45 min in the acidic medium, and the administration of these substances in the composed tablets did not affect pharmaceutical availability.\n",
            "\n",
            "Antidepressant self-discontinuation: results from the collaborative psychiatric epidemiology surveys.\n",
            "The goal of this study was to examine the extent and correlates of self-discontinuation of antidepressant medications without physician advice.\n",
            "Among 1,411 participants of the nationally representative Collaborative Psychiatric Epidemiology Surveys who reported using antidepressants in the past year, sociodemographic and clinical correlates of self-discontinuation of medication without physician advice or approval were examined, along with participants' reasons for discontinuation.\n",
            "A total of 313 (22%) antidepressant users in the preceding year reported discontinuing their antidepressant medication without physician advice or approval. Older individuals had reduced odds of self-discontinuing antidepressants. Participants with an anxiety or substance use disorder and those prescribed an antidepressant by a provider other than a psychiatrist had higher odds of self-discontinuation. Participants with public insurance had lower odds of self-discontinuation than those with private insurance. The two most commonly reported reasons for self-discontinuation of antidepressants were side effects and experiencing no benefit from the medication.\n",
            "Physicians prescribing antidepressants need to clearly communicate the expected benefits of treatment, the minimum duration of use required to experience benefits, and the potential side effects of these medications, particularly to younger patients, those with anxiety disorders, and patients treated in general medical settings, all of whom have increased odds of self-discontinuation.\n",
            "\n",
            "ON-OFF Effects of Dopaminergic Therapy on Psychiatric Symptoms in Parkinson's Disease.\n",
            "Psychiatric manifestations of Parkinson's disease (PD) are a cause of significant disability and the impact of dopaminergic medications is unclear. Using standardized rating scales, the authors tested the hypothesis that anxiety, depression, and apathy vary in the ON versus OFF states in PD in 33 PD patients and 29 healthy age- and education-matched controls. PD patients had significantly higher anxiety, depression, and apathy scores than control participants, regardless of ON-OFF state. Anxiety scores were higher in PD patients on relative to off dopaminergic medication. The ON-OFF difference in anxiety related to degree of improvement in motor function but not illness duration.\n",
            "\n",
            "Author's response.\n",
            "None\n",
            "\n",
            "The effects of dietary tryptophan on affective disorders.\n",
            "Using a randomized crossover study design, 25 healthy young adults were examined for differences in anxiety, depression, and mood after consuming a high tryptophan and a low tryptophan diet for 4days each. There was a 2week washout between the diets. A within-subjects analysis of the participants' mood indicated significantly (p<.01) more positive affect scores after consuming a high tryptophan diet as compared to a low tryptophan diet. Negative affect differences between the diets were not statistically significant (p>.05). Also, consuming more dietary tryptophan resulted in (p<.05) less depressive symptoms and decreased anxiety.\n",
            "\n",
            "[Glutamate receptors genes polymorphism and the risk of paranoid schizophrenia in Russians and tatars from the Republic of Bashkortostan].\n",
            "Schizophrenia is a severe mental disorder that affects about 1% of the world population, leading to disability and social exclusion. Glutamatergic neurotransmission is a violation of one of the main hypotheses put forward to explain the neurobiological mechanisms of schizophrenia. Post mortem studies have found changes in the degree of affinity glutamate receptors, their transcription, and altered expression of their subunits in the prefrontal cortex, hippocampus, and thalamus in patients with schizophrenia. As a result of genetic studies of gene family encoding ionotropic AMPA and kainate glutamate receptors in schizophrenia, ambiguous results were received. The association of polymorphic variants of genes GRIA2 and GRIK2 with paranoid schizophrenia and response to therapy with haloperidol in Russian and Tatar of the Republic of Bashkortostan was conducted in the present study. DNA samples of 257 patients with paranoid schizophrenia and of 349 healthy controls of Russian and Tatar ethnic group living in the Republic of Bashkortostan were involved into the present study. In the result of the present study: (1) high risk genetic markers of paranoid schizophrenia (PSZ) were obtained: in Russians-GR4IA2*CCC (OR = 9.60) and in Tatars-GRIK2*ATG (OR = 3.5), GRIK2*TGG (OR = 3.12) (2) The following low risk genetic markers of PSZ were revealed: in Tatars-GRIA2*T/T (rs43025506) of GRIA2 gene (OR = 0.34); in Russians.- GRIA2*CCT (OR = 0.481). (3) Genetic markers of low haloperido! treatment efficacy in respect of negative and positive symptoms GRIK2*T/T (rs2227281) of GRIK2 gene and GRAL42*C/C in Russians, GRIK2*A/A (rs995640) of GRIK2 gene in Tatars. (4) Genetic markers of low haloperidol treatment efficacy in respect of positive symptoms GRL42*C/C in Russians. The results of the present study support the hypothesis of the involvement of glutamate receptor genes in schizophrenia pathway. Considerable inter-ethnic'diversity of genetic risk factors for this disease was revealed.\n",
            "\n",
            "Less is more--possible option in the treatment of depression.\n",
            "Depression is an illness of modern society, which affects population of different age. Etiological factors differ, and frustration factors as a cause of depression are multiplying. Each new episode presents difficulties, both for patients and psychiatrists. Despite the increasing number of antidepressants we use in treatment, it is sometimes hard to notice an efficient antidepressant in an optimal-efficient dose. In resistant cases we apply combinations of psychopharmacs, and the choice of the same depends on the leading symptoms. We will present the case of a 67-year-old patient where a depressive episode (in the terms of a reccurent major depressive disorder) lasts for one year. During this period she was treated as outpatient and inpatient with several antidepresants in combinations with other psychopharmacotherapeutical drugs. Despite regular treatment, mental state was worsening. Clinical presentation was indicating developing of dementia (behavior, cognition outges), which we excluded through diagnostic process. Psychopharmacological combinations (antidepresants, mood stabilizators, antypschotics, anxsiolotix) were not efficant. Progression of simptoms leads to rehospitalisation. In further treatmen, we followed the principle \"Less is more\" which resulted with an expected and satisfactory outcome.\n",
            "\n",
            "Detection and treatment of mental health issues by pediatric PCPs in New York State: an evaluation of Project TEACH.\n",
            "The authors evaluated Project TEACH (PT), a statewide training and consultation program for pediatric primary care providers (PCPs) on identification and treatment of mental health conditions.\n",
            "An intervention group of 176 PCPs who volunteered for PT training was compared with a stratified random sample of 200 PCPs who did not receive PT training. Data on prescription practices, diagnoses, and follow-up care were from New York State Medicaid files (2009-2013) for youths seen by the trained (N=21,784) and untrained (N=46,607) PCPs.\n",
            "The percentage of children prescribed psychotropic medication increased after PT training (9% to 12%, p<.001), a larger increase than in the untrained group (4% to 5%, p<.001) (comparison, p<.001). Fewer differences were noted in diagnoses and in medication use and follow-up care among children with depression.\n",
            "This intervention may have an impact on providers' behaviors, but further research is needed to clarify its effectiveness.\n",
            "\n",
            "First outpatient follow-up after psychiatric hospitalization: does one size fit all?\n",
            "Claims-based indicators of follow-up within seven and 30 days after psychiatric discharge have face validity as quality measures: early follow-up may improve disease management and guide appropriate service use. Yet these indicators are rarely examined empirically. This study assessed their association with subsequent health care utilization for adults with comorbid conditions.\n",
            "Postdischarge follow-up and subsequent utilization were examined among adults enrolled in North Carolina Medicaid who were discharged with claims-based diagnoses of depression or schizophrenia and not readmitted within 30 days. A total of 24,934 discharges (18,341 individuals) in fiscal years 2008-2010 were analyzed. Follow-up was categorized as occurring within 0-7 days, 8-30 days, or none in 30 days. Outcomes in the subsequent six months included psychotropic medication claims, adherence (proportion of days covered), number of hospital admissions, emergency department visits, and outpatient visits.\n",
            "Follow-up within seven days was associated with greater medication adherence and outpatient utilization, compared with no follow-up in 30 days. This was observed for both follow-up with a mental health provider and with any provider. Adults receiving mental health follow-up within seven days had equivalent, or lower, subsequent inpatient and emergency department utilization as those without follow-up within 30 days. However, adults receiving follow-up with any provider within seven days were more likely than those with no follow-up to have an inpatient admission or emergency department visit in the subsequent six months. Few differences in subsequent utilization were observed between mental health follow-up within seven days versus eight to 30 days.\n",
            "For patients not readmitted within 30 days, follow-up within 30 days appeared to be beneficial on the basis of subsequent service utilization.\n",
            "\n",
            "Tricyclic and SSRI usage influences the association between BMI and health risk factors.\n",
            "To determine if selective-serotonin reuptake inhibitors (SSRIs) and tricyclic antidepressants (TCAs) influence the association between obesity and cardiovascular disease risk, participants from the Third National Health and Nutrition Examination Survey (NHANES III; 1988-1992) and continuous NHANES (1999-2009, n = 18 274) were used. For a given body mass index (BMI), individuals taking SSRIs (n = 219) tended to have significantly better health risk profiles with lower systolic blood pressure (P = 0.002) and higher high-density lipoprotein (P = 0.003) compared with non-users. Conversely, those who used TCAs (n = 116) had significantly worse health risk profiles with higher diastolic blood pressure (P ≤ 0.0001) and triglycerides (P = 0.023) as compared with non-users for a given BMI. Insulin resistance (HOMA-IR) was higher in TCA users and those with larger BMIs, whereby the differences in insulin resistance between TCA users and non-users was greater with higher BMIs (interaction effect: P = 0.013). Furthermore, individuals taking SSRIs were less likely to have cardiovascular disease than non-users (odds ratio, 95% confidence interval = 0.50, 0.33-0.75) for a given BMI, with no differences by TCA use (odds ratio = 0.74, 0.44-1.24). SSRI and TCA use may alter how body weight relates with cardiovascular risk. When prescribing antidepressant medications, it may be necessary to monitor and consider body weight and cardiovascular risk profile of individual patients.\n",
            "Antidepressants BMI cardiovascular disease health risks\n",
            "Prolonged mania in a case of bipolar affective disorder.\n",
            "Bipolar disorder, which often has its onset in adolescence or early adulthood, is characterised by marked variations in mood, ranging from major depressive episodes to manic exacerbations. Compared to depressive episodes, manic recurrences are often brief and usually respond to anti-manic medications within a few weeks. Infrequently bipolar patients get badly affected by protracted manic symptoms that exhibit resistance to the usual anti-manic agents. As mania is a very disruptive condition with severe and adverse consequences for the patient, every effort should be made to bring it under control as soon as possible. Nonetheless, an occasional patient may require prolonged and persistent treatment to attain remission. In a case where manic symptoms are showing resistance, an evidence-based pharmacotherapuetic approach by the treating physician is essential. The provision of psychological and social support to the patient is vital in conjunction with biological measures for optimal management.\n",
            "\n",
            "Refinement of the SWN-20 based on the Rasch rating model.\n",
            "The aim of the present study was to refine the 20-item Subjective Well-Being under Neuroleptic Treatment Scale (SWN-20) using the Rasch rating model to validate measurements of subjective well-being in patients with schizophrenia undergoing antipsychotic treatment.\n",
            "In total, 854 (403 males, 451 females) inpatients (n=213) and outpatients (n=641) with schizophrenia participated in this study, which was designed as an open-label investigation of paliperidone extended release. The participants completed the Korean version of the SWN-20 themselves. Refinement of the Korean version of the SWN-20 was accomplished using the Rasch rating model.\n",
            "Infit and outfit statistics for all 20 items satisfied the criterion for construct validity. Second, all items except items 2 and 20 had suitable point-measure correlations, reflecting content validity. Third, item characteristic curves indicated that roughly 18 items were evenly distributed along the person ability continuum. Finally, option analysis of the category characteristics showed that categories 3 and 4 in the SWN-20 response format were unnecessary.\n",
            "We offer several recommendations for improving the SWN-20: (a) items 2 and 20 should be omitted to ensure construct validity; (b) easier items would be added related to the person ability estimates in the process of validating a short form of the SWN scale based on item response theory; and (c) the number of response categories should be reduced for schizophrenic patients.\n",
            "\n",
            "A comparison of White and Hispanic women's stories of adjustment to the birth of a child.\n",
            "As part of a larger project designed to inform prevention and treatment of postpartum depression and promote positive mother-child relationships in diverse families, this study describes personal stories of postnatal adjustment from 14 White and 9 Hispanic women recruited from prenatal care clinics. Qualitative interviews conducted in the mothers' primary language (English or Spanish) were analyzed using a modified grounded theory content-analysis approach. The coding scheme developed to capture the women's discourse about their experiences included child temperament and health; intergenerational patterns; work demands and job loss; schedule changes; increased responsibilities; difficulties with parenting tasks; emotional distress; social stressors and resources; coping strategies; and changes in work, personal, social, and marital domains. More White mothers than Hispanic mothers reported changes in time structure, work stressors, use of psychotropic medication, informational support, and social support from other mothers and professionals; however, within-group differences were more evident than were cross-group ethnic differences. Analyses of qualitative interviews led to the integration of Belsky's Determinants of Parenting Model (1984) and the Double ABCX Model of Family Adjustment and Adaptation (McCubbin & Patterson, 1983) into a hybrid third theoretical framework.\n",
            "\n",
            "Multiple sclerosis: the role of melatonin and N-acetylserotonin.\n",
            "Multiple sclerosis (MS) is an immune mediated disorder that is under intensive investigation in an attempt to improve on available treatments. Many of the changes occurring in MS, including increased mitochondrial dysfunction, pain reporting and depression may be partly mediated by increased indoleamine 2,3-dioxygenase, which drives tryptophan to the production of neuroregulatory tryptophan catabolites and away from serotonin, N-acetylserotonin and melatonin production. The consequences of decreased melatonin have classically been attributed to circadian changes following its release from the pineal gland. However, recent data shows that melatonin may be produced by all mitochondria containing cells to some degree, including astrocytes and immune cells, thereby providing another important MS treatment target. As well as being a powerful antioxidant, anti-inflammatory and antinociceptive, melatonin improves mitochondrial functioning, partly via increased oxidative phosphorylation. Melatonin also inhibits demyelination and increases remyelination, suggesting that its local regulation in white matter astrocytes by serotonin availability and apolipoprotein E4, among other potential factors, will be important in the etiology, course and treatment of MS. Here we review the role of local melatonin and its precursors, N-acetylserotonin and serotonin, in MS.\n",
            "Depression Melatonin Mitochondria Multiple sclerosis N-Acetylserotonin Remyelination\n",
            "[BIS values were useful on the evaluation of consciousness recovery in acute Vegetamin-A poisoning: report of a case].\n",
            "A 37-year-old man was admitted to our hospital with acute phenobarbital poisoning. On arrival, he was in deep coma with respiro-circulatory depressions. The serum concentration of the agent was elevated to 149.04 μg/mL which was consistent with a lethal concentration level. He underwent a gastric lavage, administration of activated charcoal, urinary alkalinazation and bowel irrigation. Respiro-circulatory status was recovered rapidly, while the serum concentration of phenobarbital did not decrease smoothly. Although the concentration of the agent decreased to 77.07 μg/mL that should be a comatose level, BIS values were gradually elevated, and then eventually the patient regained his consciousness. Because he was a chronic user of Vegetamin-A containing phenobarbital, the serum level might not have been correlated with symptoms. BIS values were highly reflective of the consciousness level, so it could be a useful indicator for predicting the consciousness levels of patients in deep coma with acute poisoning from hypnotic agents.\n",
            "\n",
            "Avoiding contamination in randomized controlled trial.\n",
            "None\n",
            "\n",
            "Social inequalities and antidepressant use in Canada and France: in reply.\n",
            "None\n",
            "\n",
            "Social inequalities and antidepressant use in Canada and France.\n",
            "None\n",
            "\n",
            "Response to Parikh.\n",
            "None\n",
            "\n",
            "Brief versus intensive psychosocial treatments for bipolar disorder: time for stepped care?\n",
            "None\n",
            "\n",
            "Pulmonary embolism in a psychiatric patient.\n",
            "None\n",
            "\n",
            "The MATRICS consensus cognitive battery: what we know 6 years later.\n",
            "None\n",
            "\n",
            "Pharmacogenetics and outcome with antipsychotic drugs.\n",
            "Antipsychotic medications are the gold-standard treatment for schizophrenia, and are often prescribed for other mental conditions. However, the efficacy and side-effect profiles of these drugs are heterogeneous, with large interindividual variability. As a result, treatment selection remains a largely trial-and-error process, with many failed treatment regimens endured before finding a tolerable balance between symptom management and side effects. Much of the interindividual variability in response and side effects is due to genetic factors (heritability, h(2)~ 0.60-0.80). Pharmacogenetics is an emerging field that holds the potential to facilitate the selection of the best medication for a particular patient, based on his or her genetic information. In this review we discuss the most promising genetic markers of antipsychotic treatment outcomes, and present current translational research efforts that aim to bring these pharmacogenetic findings to the clinic in the near future.\n",
            "Los antípsicóticos son los medícamentos utilizados como gold standard para el tratamiento de la esquizofrenía y además se emplean con frecuencia para otros trastornos mentales. Sin embargo, los perfiles de eficacia y efectos secundarios de estos fármacos son heterogéneos y con gran varíabílidad ínterindividual. A raíz de esto, la selección del tratamiento sígue siendo un largo proceso de ensayo-error, con muchas fallas terapéuticas que se deben soportar antes de encontrar un balance aceptable entre el manejo sintomático y los efectos secundarios. Mucha de la varíabílidad ínterindividual en la respuesta y los efectos secundarios se debe a factores genéticos (heredabilidad, h\n",
            "Les médicaments antipsychotiques, traitement de référence pour la schizophrénie, sont souvent prescrits pour d'autres maladies mentales. Néanmoins, leur efficacité et leurs effets indésirables sont hétérogenes, avec une grande variabilité selon les individus. En conséquence, le choix du traitement procède en grande partie par tâtonnements, beaucoup de schémas thérapeutiques échouant avant que soit trouvé un rapport correct entre les effets sur les symptômes et les effets indésirables. Des facteurs génétiques sont responsables de la majeure partie de la variabilité interindividuelle dans les réponses au traitement et les effets indésirables (héritabilité, h\n",
            "antipsychotic genetic personalized medicine pharmacogenetics response schizophrenia side effect\n",
            "Prediction of individual response to antidepressants and antipsychotics: an integrated concept.\n",
            "In both clinical trials and daily practice, there can be substantial inter- and even intraindividual variability in response--whether beneficial or adverse--to antidepressants and antipsychotic medications. So far, no tools have become available to predict the outcome of these treatments in specific patients. This is because the causes of such variability are often not known, and when they are, there is no way of predicting the effects of their various potential combinations in an individual. Given this background, this paper presents a conceptual framework for understanding known factors and their combinations so that eventually clinicians can better predict what medication(s) to select and at what dose they can optimize the outcome for a given individual. This framework is flexible enough to be readily adaptable as new information becomes available. The causes of variation in patient response are grouped into four categories: (i) genetics; (ii) age; (iii) disease; and (iv) environment (internal). Four cases of increasing complexity are used to illustrate the applicability of this framework in a clinically relevant way In addition, this paper reviews tools that the clinician can use to assess for and quantify such inter- and intraindividual variability. With the information gained, treatment can be adjusted to compensate for such variability, in order to optimize outcome. Finally, the limitations of existing antidepressant and antipsychotic therapy and the way they reduce current ability to predict response is discussed.\n",
            "Tanto en los ensayos clínicos como en la práctica diaria puede existir una importante variablidad inter e incluso intraindividual en la respuesta a los efectos favorables o adversos de medicación antidepresiva y antipsicótica. Hasta ahora no se dispone de herramientas que puedan predecir el resultado de estos tratamientos en pacientes espetíficos. Esto es porque las causas de tal variabilidad a menudo son desconotidas, y cuando se conocen, no hay forma de predecir los efectos de sus varias combinaclones posibles para un sujeto. Teniendo en cuenta estos antecedentes, esta revisión presenta un marco conceptual para la comprensión de los factores conocidos y sus combinaciones para que los clínicos, eventualmente, puedan predecir mejor qué fármaco(s) selectionar y en qué dosis, para optimizar el resultado para un sujeto determinado. Este marco es bastante flexible para ser fácilmente adaptable en la medida que se disponga de nueva información. Las causas de la variación en la respuesta del paciente se agrupan en cuatro categoríes: a) genetica, b) edad, c) enfermedad y d) ambiente (interno). Se emplean cuatro casos de complejidad creciente para ilustrar la aplicabilidad de este marco de una manera clínicamente relevante. Además este artículo revisa herramientas que el clínico puede emplear para evaluar y cuantificar variabilidad inter e intraindividual. Con la información obtenida el tratamiento puede ser ajustado para compensar tal variabilidad, con el fin de optimizar el resultado. Por último, se discuten las limitaciones de la terapia antidepresiva y antipsicótica existentes y la manera de reducir las posibilidades actuales de predicción de la respuesta.\n",
            "Que ce soit dans les études cliniques ou la pratique quotidienne, la variabilité des réponses inter- et même intra-individuelles (bénéfiques ou indésirables) aux traitements antidépresseurs et antipsychotiques peut être importante. Jusqu'a présent, nous ne disposons d'aucun outil pour prévoir les résultats de ces traitements chez des patients donnés, parce que les causes d'une telle variabilité sont souvent inconnues et quand elles le sont, il n'y a pas de moyen de prévoir les effets de leurs associations possibles chez une personne. Dans ce contexte, cet article présente un cadre conceptuel pour comprendre les facteurs connus et leurs associations afin que les médecins puissent finalement mieux prévoir quel(s) médicament(s) choisir et à quelle dose pour obtenir les meilleurs résultats chez une personne en particulier. Ce cadre est suffisamment flexible pour s'adapter facilement dès que des nouvelles données sont disponibles. Les causes de variation de la réponse des patients sont regroupées en quatre catégories: 1) génétique ; 2) âge ; 3) maladie ; 4) environnement (interne). Quatre cas de difficulté croissante illustrent la mise en pratique de ce cadre d'une façon cliniquement pertinente. De plus, cet article examine les outils que le médecin peut utiliser pour évaluer et quantifier la variabilité inter et intra-individuelle. Avec ces informations, le traitement peut être ajusté pour compenser une telle variabilité et optimiser le résultat. Enfin nous analysons les limites des traitements antidépresseurs et antipsychotiques existants et en quoi cela diminue la possibilité de prédire la réponse thérapeutique..\n",
            "age antidepressant antipsychotic disease drug-drug interaction genetics multiple medication use polypharmacy regulatory protein\n",
            "Using biomarkers to predict treatment response in major depressive disorder: evidence from past and present studies.\n",
            "Major depressive disorder (MDD) is a heterogeneous condition with a variable response to a wide range of treatments. Despite intensive efforts, no biomarker has been identified to date that can reliably predict response or non-response to any form of treatment, nor has one been identified that can be used to identify those at high risk of developing treatment-resistant depression (ie, non-response to a sequence of treatments delivered for adequate duration and intensity). This manuscript reviews some past areas of research that have proved informative, such as studies using indexes of hypercortisolism or sleep disturbance, and more recent research findings using measures of inflammation and different indicators of regional cortical activation to predict treatment response. It is concluded that, although no method has yet been demonstrated to be sufficiently accurate to be applied in clinical practice, progress has been made. It thus seems likely that--at some point in the not-too-distant future--it will be possible to prospectively identify, at least for some MDD patients, the likelihood of response or non-response to cognitive therapy or various antidepressant medications.\n",
            "El Trastorno Depresivo Mayor (TDM) es una condíción heterogenéa con una respuesta variable a una diversidad de tratamientos. A pesar de grandes esfuerzos, a la fecha no se ha identificado ningún biomarcador confiable que pueda predecir la respuesta o falta de ella para alguna forma de tratamiento, ni se ha encontrado alguno que pueda ser empleado para identificar a los pacientes con alto riesgo de desarrollar una depresión resistente al tratamiento (por ejemplo, falta de respuesta a una secuencia de tratamientos aplicados con una duración e intensidad adecuadas). Este artículo revisa algunas investigaciones antiguas que aportaron información, como los estudios que emplearon indicadores de hipercortisolismo o alteraciones del sueño, y hallazgos de investigaciones más recientes que han empleado marcadores de la inflamación y diferentes indicadores de activación cortical regional para predecir la respuesta terapéutica. Se concluye que, aunque se han realizado progresos, aun no se ha demostrado que algún método sea totalmente preciso para ser aplicado en la práctica clínica. Parece ser entonces que, en algún momento del futuro cercano, será posible identificar prospectivamente -al menos para algunos pacientes con TDM- la probabilidad de respuesta o falta de ella a la terapia cognitiva o a varios farmacos antidepresivos.\n",
            "Le trouble dépressif majeur (TDM) est une pathologie hétérogène dont la réponse à une large gamme de traitement est variable. Malgré des efforts considérables, à ce jour, aucun biomarqueur n'a été identifié pour prédire de façon fiable une réponse ou une non-réponse à un traitement donné, ou pour identifier les patients à risque élevé de développer une dépression résistante au traitement (c'est-a-dire l'absence de réponse après une série de traitements administrés avec une dose et une durée adéquates). Cet article passe en revue d'anciens domaines de recherche intéressants tels que les études sur les marqueurs d'un hypercortisolisme ou sur des anomalies du sommeil, ainsi que des résultats de travaux récents sur la mesure de l'inflammation et sur des indicateurs d'activation corticale régionale pour prédire la réponse au traitement. En conclusion, bien qu'aucun examen biologique précis n'ait été encore validé pour être utilisé en pratique clinique, des progrès ont été faits. Il est donc probable que, dans un futur pas trop éloigné, il sera possible d'identifier de façon prospective, au moins pour certains patients atteints de TDM, la probabilité de réponse ou de non-réponse à un traitement cognitif ou aux différents antidépresseurs.\n",
            "antidepressant biomarker cognitive behavior therapy prediction treatment response\n",
            "Intermediate phenotypes and biomarkers of treatment outcome in major depressive disorder.\n",
            "Major depressive disorder (MDD) is a pleomorphic illness originating from gene x environment interactions. Patients with differing symptom phenotypes receive the same diagnosis and similar treatment recommendations without regard to genomics, brain structure or function, or other physiologic or psychosocial factors. Using this present approach, only one third of patients enter remission with the first medication prescribed, and patients may take longer than 1 year to enter remission with repeated trials. Research to improve treatment effectiveness recently has focused on identification of intermediate phenotypes (IPs) that could parse the heterogeneous population of patients with MDD into subgroups with more homogeneous responses to treatment. Such IPs could be used to develop biomarkers that could be applied clinically to match patients with the treatment that would be most likely to lead to remission. Putative biomarkers include genetic polymorphisms, RNA and protein expression (transcriptome and proteome), neurotransmitter levels (metabolome), additional measures of signaling cascades, oscillatory synchrony, neuronal circuits and neural pathways (connectome), along with other possible physiologic measures. All of these measures represent components of a continuum that extends from proximity to the genome to proximity to the clinical phenotype of depression, and there are many levels along this continuum at which useful IPs may be defined. Because of the highly integrative nature of brain systems and the complex neurobiology of depression, the most useful biomarkers are likely to be those with intermediate proximity both to the genome and the clinical phenotype of MDD. Translation of findings across the spectrum from genotype to phenotype promises to better characterize the complex disruptions in signaling and neuroplasticity that accompany MDD, and ultimately to lead to greater understanding of the causes of depressive illness.\n",
            "El trastorno depresivo mayor (TDM) es una enfermedad de variadas formas que surge a partir de las interacciones entre genes y ambiente (GxA). Los pacientes con fenotipos de diferentes síntomas reciben el mismo diagnóstico y similares recomendaciones terapéuticas sin tener en consideración la genómica, la estructura o función cerebral, u otros factores fisiológicos o psicosociales. De acuerdo con esta aproximación solo un tercio de los pacientes alcanza la remisión con la primera medicación prescrita, y los pacientes pueden tardar más de un año en alcanzar la remisión con diversos ensayos. Recientemente la investigación para mejorar la eficacia terapéutica se ha enfocado en la identificación de fenotipos intermedios (FIs) que podrían ser útiles para analizar la heterogénea población de pacientes con TDM en subgrupos con respuestas más homogéneas al tratamiento. Estos FIs podrían emplearse para desarrollar biomarcadores con aplicación en la clínica para indicar el tratamiento que tenga más probabilidades de alcanzar la remisión. Estos llamados marcadores incluyen polimorfismos genéticos, expresión de ARN y proteínas (transcriptoma y proteoma), niveles de neurotransmisores (metaboloma), mediciones adicionales de cascadas de señales, sincronía oscilatoria, circuitos neuronales y vías neurales (conectoma) junto con otras posibles mediciones fisiológicas. Todas estas mediciones representan componentes de un continuo que va desde la proximidad al genoma hasta la proximidad al fenotipo clínico de la depresión y hay muchos niveles a lo largo de este continuo en los cuales se pueden definir FIs útiles. Dada la naturaleza altamente integradora de los sistemas cerebrales y la compleja neurobiología de la depresión, los biomarcadores mas útiles son probablemente aquellos que tienen una proximidad intermedia tanto con el genoma como con el fenotipo clínico del TDM. La traslación de los hallazgos a través del espectro desde el genotipo al fenotipo promete caracterizar mejor las complejas disrupciones en las señales y en la neuroplasticidad que acompañan al TDM y finalmente conducir a una mayor comprensión de las causas de la enfermedad depresiva.\n",
            "Le Trouble Dépressif Majeur (TDM) est une maladie pléomorphe dues à des interactions entre les gènes et l'environnement (G x E). Les patients ayant des symptômes phénotypiques différents sont diagnostiqués et traités de la même façon, sans tenir compte de la génomique, de la fonction ou de la structure cérébrales ou d'autres facteurs physiologiques ou psychosociaux. Suivant cette stratégie, seulement un tiers des patients entrent en rémission avec le premier médicament prescrit et, après des traitements multiples, cette rémission met plus d'1 an à survenir. Afin d'améliorer l'efficacité thérapeutique, les chercheurs se sont récemment intéressés à l'identification des phénotypes intermédiaires (PI) permettant d'analyser la population hétérogène des patients atteints de TDM en sous-groupes plus homogènes en termes de réponse au traitement. De tels PI pourraient être utilisés dans le développement de biomarqueurs afin d'apparier les patients au traitement le plus à même d'induire une rémission. Les polymorphismes génétiques, l'expression des protéines et de l'ARN (transcriptome et protéome), les taux de neurotransmetteurs (métabolome), les mesures supplémentaires des cascades de signalisation, la synchronie oscillatoire, les circuits neuronaux et les voies neurales (connectome) font partie des biomarqueurs potentiels tout comme d'autres mesures physiologiques potentielles. Ces mesures appartiennent à un continuum qui s'étend du génome au phénotype clinique du TDM et des PI utiles peuvent être identifiés à de nombreux niveaux tout au long de ce continuum. En raison de la nature hautement interactive des systèmes cérébraux et en raison de la neurobiologie complexe de la dépression, les biomarqueurs les plus utiles sont probablement ceux dont la position est intermédiaire entre le génome et le phénotype clinique du TDM. L'application de découvertes allant du génotype au phénotype permettra de mieux caractériser les anomalies complexes de la signalisation et de la neuroplasticité observées dans le TDM et de mieux comprendre les causes de la dépression.\n",
            "Huntington's disease (HD) Major Depressive Disorder (MDD) RDoC biomarker biosignature cognitive and motivational domain cordance genotype intermediate phenotype oscillation oscillatory synchrony prediction qEEG thalamocortical dysrhythmia treatment outcome\n",
            "Clinical predictors of therapeutic response to antipsychotics in schizophrenia.\n",
            "The search for clinical outcome predictors for schizophrenia is as old as the field of psychiatry. However, despite a wealth of large, longitudinal studies into prognostic factors, only very few clinically useful outcome predictors have been identified. The goal of future treatment is to either affect modifiable risk factors, or use nonmodifiable factors to parse patients into therapeutically meaningful subgroups. Most clinical outcome predictors are nonspecific and/or nonmodifiable. Nonmodifiable predictors for poor odds of remission include male sex, younger age at disease onset, poor premorbid adjustment, and severe baseline psychopathology. Modifiable risk factors for poor therapeutic outcomes that clinicians can act upon include longer duration of untreated illness, nonadherence to antipsychotics, comorbidities (especially substance-use disorders), lack of early antipsychotic response, and lack of improvement with non-clozapine antipsychotics, predicting clozapine response. It is hoped that this limited capacity for prediction will improve as pathophysiological understanding increases and/or new treatments for specific aspects of schizophrenia become available.\n",
            "La búsqueda de predictores de resultado clínico en la esquizofrenia es tan antigua como la psíquiatría. Sin embargo, a pesar de una gran cantídad de estudios longitudinales sobre los factores pronóstico, solo se han identificado unos pocos predíctores de resultado con utilidad clínica. El objetivo de las terapias a futuro es influir sobre los factores de riesgo modíficables, o bien emplear los factores inmodíficables para analizar a los pacientes en subgrupos terapéuticamente signíficativos. La mayor parte de los predictores de resultado clínico son inespecíficos ylo inmodíficables. Cuando hay una baja probabílidad de remisión los predictores inmodíficables incluyen al sexo masculíno, la menor edad de aparición de la enfermedad, un pobre ajuste premórbido y una grave psicopatología basal. Cuando hay pobres resultados terapéuticos los factores de riesgo modíficables sobre los cuales pueden actuar los clínicos incluyen la mayor duración de la enfermedad sín tratamiento, la falta de adherencía a los antipsicóticos, la comorbilidad (especialmente el abuso de sustancias), la falta de respuesta ínicial a los antipsicóticos y la ausencia de mejoría con antipsicóticos distintos de la clozapina, lo que puede predecír una respuesta a esta última. Se espera que esta capacidad límitada de predíccíón aumente en la medída que sea mayor la comprensión fisiopatológica ylo se disponga de nuevos tratamientos para aspectos específicos de la esquizofrenia.\n",
            "La recherche de facteurs de prédiction des résultats cliniques dans la schizophrénie est aussi ancienne que la psychiatrie elle-meme. Néanmoins, malgré de nombreuses grandes études longitudinales sur les facteurs pronostiques, très peu de ces facteurs utiles cliniquement ont été identifiés. Le but d'un traitement futur est soit de changer les facteurs de risque modifiables ou d'utiliser des facteurs non modifiables pour regrouper les patients dans des sous-groupes déterminants sur le plan thérapeutique. La plupart des facteurs de prédiction des résultats cliniques sont non spécifiques et/ou non modifiables. Le sexe masculin, un plus jeune âge au début de la maladie, un mauvais ajustement prémorbide et une pathologie psychiatrique sévère dès le début font partie des facteurs de prédiction non modifiables pour des chances de rémission médiocres. Une durée plus longue de maladie non traitée, une absence d'observance des antipsychotiques, des comorbidités (surtout l'usage de substances illicites), une absence de réponse précoce aux antipsychotiques et l'absence d'amélioration avec les antipsychotiques non-clozapiniques prédisant la réponse à la clozapine font partie des facteurs de risque modifiables de résultats thérapeutiques médiocres sur lesquels les médecins peuvent agir. Il faut espérer que cette faible capacité prédictive s'améliorera avec une meilleure compréhension physiopathologique et/ou le développement de traitements visant des aspects spécifiques de la schizophrénie.\n",
            "association marker predictor psychosis remission response schizophrenia\n",
            "Neuroimaging biomarkers to predict treatment response in schizophrenia: the end of 30 years of solitude?\n",
            "Studies that have used structural magnetic resonance imaging (MRI) suggest that individuals with psychoses have brain alterations, particularly in frontal and temporal cortices, and in the white matter tracts that connect them. Furthermore, these studies suggest that brain alterations may be particularly prominent, already at illness onset, in those individuals more likely to have poorer outcomes (eg, higher number of hospital admissions, and poorer symptom remission, level of functioning, and response to the first treatment with antipsychotic drugs). The fact that, even when present, these brain alterations are subtle and distributed in nature, has limited, until now, the utility of MRI in the clinical management of these disorders. More recently, MRI approaches, such as machine learning, have suggested that these neuroanatomical biomarkers can be used for direct clinical benefits. For example, using support vector machine, MRI data obtained at illness onset have been used to predict, with significant accuracy, whether a specific individual is likely to experience a remission of symptoms later on in the course of the illness. Taken together, this evidence suggests that validated, strong neuroanatomical markers could be used not only to inform tailored intervention strategies in a single individual, but also to allow patient stratification in clinical trials for new treatments.\n",
            "Los estudios que han empleado imágenes de resonancia magnética estructural (IRM) sugieren que los sujetos con psicosis tienen alteraciones cerebrates, especialmente en las cortezas frontal y temporal, y en los tractos de sustancia blanca que las conecta. Además, dichos estudios sugieren que las alteraciones cerebrales pueden ser muy importantes, ya al inicio de la enfermedad, en aquellos individuos con más probabilidades de tener peor pronóstico (por ejemplo, mayor número de hospitalizaciones, peor remisión sintomática, menor nivel de funcionamiento y peor respuesta al primer tratamiento con antipsicóticos). De hecho, cuando estas alteraciones cerebrales están presentes, ellas son leves y se distribuyen en cualquier parte, por lo que hasta la fecha la utilidad de la IRM es limitada en el manejo clínico de estos trastornos. Recientemente los planteamientos de la IRM, a partir de las técnicas aprendízaje máquina, han sugerido que estos biomarcadores neuroanatómicos pueden ser empleados con beneficíos clínicos directos. Por ejemplo, empleando las técnicas de máquinas soporte de vectores para regresión, los datos obtenidos con IRM al comienzo de la enfermedad han sido útiles para predetir, con precisión significativa, si un sujeto determinado puede experimentar más adelante una remisión sintomática durante el curso de la enfermedad. En su conjunto esta evidencia sugiere que los marcadores bien establecidos y validados podrían emplearse no solo para informar sobre estrategias de intervención a la medida en un paciente individual, sino también para asignar la estratificación de pacientes en ensayos clínicos de nuevos tratamientos.\n",
            "Selon les études de la structure cérébrale avec l'imagerie par résonance magnétique (IRM), les sujets psychotiques présentent des modifications, particulièrement dans les cortex frontal et pariétal, et dans les faisceaux de substance blanche qui les relient. Au début de la maladie, ces modifications seraient prédominates chez les sujets plus susceptibles d'évoluer défavorablement (par exemple, un plus grand nombre d'hospitalisations, une moins bonne rémission des symptômes, un niveau de fonctionnement et une réponse moins bons au premier traitement par antipsychotiques). Le fait que ces modifications cérébrales, même lorsqu'elles sont présentes, sont discrètes et de nature diffuse a limité jusqu'à présent l'utilité de l'IRM dans la prise en charge clinique de ces maladies. Plus récemment, des techniques d'IRM comme celles fondées sur un auto-apprentissage par la machine, ont suggéré que ces biomarqueurs neuro-anatomiques peuvent être utilisés en vue de bénéfices cliniques. Par exemple, à l'aide d'une machine à vecteurs de support, les données IRM obtenues au début de la maladie ont permis de prédire, avec une précision significative, chez un patient donné, la probabilité d'une rémission plus ou moins tardive des symptômes au cours de l'évolution de la maladie. L'ensemble de ces données suggèrent que des marqueurs neuro-anatomiques validés seraient utiles non seulement pour individualiser le traitement chez un patient donné, mais aussi pour stratifier les patients dans des groupes lors des études cliniques de nouveaux traitements.\n",
            "first-episode schizophrenia magnetic resonance imaging psychosis\n",
            "Neuroimaging-based biomarkers for treatment selection in major depressive disorder.\n",
            "The use of neuroimaging approaches to identify likely treatment outcomes in patients with major depressive disorder is developing rapidly. Emerging work suggests that resting state pretreatment metabolic activity in the fronto-insular cortex may distinguish between patients likely to respond to psychotherapy or medication and may function as a treatment-selection biomarker. In contrast, high metabolic activity in the subgenual anterior cingulate cortex may be predictive of poor outcomes to both medication and psychotherapy, suggesting that nonstandard treatments may be pursued earlier in the treatment course. Although these findings will require replication before clinical adoption, they provide preliminary support for the concept that brain states can be measured and applied to the selection of a specific treatment most likely to be beneficial for an individual patient.\n",
            "Está en pleno desarrollo el empleo de técnicas de neuroimágenes para identificar las probabilidades del resultado del tratamiento en pacientes con trastorno depresivo mayor, Hay trabajos recientes que sugieren que la actividad metabólica en estado de reposo en la corteza fronto-insular pretratamiento puede distinguir entre pacientes con probabilidad de responder a psicoterapia o a medicación, y puede funcionar como un biomarcador para la selección del tratamiento. A la inversa, la alta actividad metabólica en la corteza angulada anterior subgenual puede predecir un pobre resultado tanto para los fármacos como para la psicoterapia, lo que sugiere que los tratamientos no habituales se podrían emplear más precozmente, Aunque estos hallazgos requieren ser replicados antes de incorporarse en la clínica, ellos aportan un soporte preliminar para el concepto que se refiere a que los estados cerebrales pueden ser medidos y empleados en la selección de un tratamiento específico que tenga la mayor probabilidad de beneficiar a un paciente individual.\n",
            "L'utilisation des techniques de neuro-imagerie pour identifier les résultats thérapeutiques chez des patients atteints de trouble dépressif majeur, se développe rapidement. D'après des travaux récents, l'activité métabolique de repos avant traitement dans le cortex fronto-insulaire pourrait différencier les patients susceptibles de répondre à une psychothérapie ou un médicament et pourrait représenter un biomarqueur du choix thérapeutique. Au contraire, une activité métabolique élevée dans le cortex angulaire antérieur ventral pourrait prédire de mauvais résultats, à la fois pour un traitement psychothérapeutique ou médicamenteux, indiquant de prévoir plus tôt dans le traitement la mise en place de mesures thérapeutiques non usuelles. Ces résultats demandent à être répétés et validés avant d'être adoptés en clinique, mais ils suggèrent le concept que des états cérébraux sont mesurables et peuvent être appliqués à la sélection d'un traitement spécifique plus à même de bénéficier à un patient donné.\n",
            "antidepressive agent biological marker depression effect modifier individualized medicine magnetic resonance imaging patient outcome assessment positron-emission tomography psychotherapy\n",
            "Prescription practices in the treatment of first-episode schizophrenia spectrum disorders: data from the national RAISE-ETP study.\n",
            "Treatment guidelines suggest distinctive medication strategies for first-episode and multiepisode patients with schizophrenia. To assess the extent to which community clinicians adjust their usual treatment regimens for first-episode patients, the authors examined prescription patterns and factors associated with prescription choice in a national cohort of early-phase patients.\n",
            "Prescription data at study entry were obtained from 404 participants in the Recovery After an Initial Schizophrenia Episode Project's Early Treatment Program (RAISE-ETP), a nationwide multisite effectiveness study for patients with first-episode schizophrenia spectrum disorders. Treatment with antipsychotics did not exceed 6 months at study entry.\n",
            "The authors identified 159 patients (39.4% of the sample) who might benefit from changes in their psychotropic prescriptions. Of these, 8.8% received prescriptions for recommended antipsychotics at higher than recommended dosages; 32.1% received prescriptions for olanzapine (often at high dosages), 23.3% for more than one antipsychotic, 36.5% for an antipsychotic and also an antidepressant without a clear indication, 10.1% for psychotropic medications without an antipsychotic, and 1.2% for stimulants. Multivariate analysis showed evidence for sex, age, and insurance status effects on prescription practices. Racial and ethnic effects consistent with effects reported in previous studies of multiepisode patients were found in univariate analyses. Despite some regional variations in prescription practices, no region consistently had different practices from the others. Diagnosis had limited and inconsistent effects.\n",
            "Besides prescriber education, policy makers may need to consider not only patient factors but also service delivery factors in efforts to improve prescription practices for first-episode schizophrenia patients.\n",
            "\n",
            "Reduction of patient-reported antidepressant side effects, by type of collaborative care.\n",
            "Antidepressants are effective for treating depression, and collaborative care increases initiation of and adherence to antidepressants. Side effects of antidepressants are common and can adversely affect quality of life. Care managers address antidepressant side effects directly, but the impact of collaborative care on adverse effects is unknown. This secondary data analysis tested the hypothesis that patient-reported antidepressant side effects were lower for depressed patients receiving high-intensity, telemedicine-based collaborative care (TBCC) than for patients receiving low-intensity, practice-based collaborative care (PBCC).\n",
            "This analysis used data from 190 patients enrolled in a pragmatic, multisite, comparative-effectiveness trial from 2007 to 2009 and followed for 18 months. Most patients were female (83%) and Caucasian (80%). The mean age was 50. Patients randomly assigned to PBCC received 12 months of evidence-based care from an on-site primary care provider and nurse care manager. Patients in TBCC received evidence-based care from an on-site primary care provider supported by a nurse care manager available off site by telephone, as well as by a telepharmacist, telepsychologist, and telepsychiatrist. Telephone interviews completed at baseline, six, 12, and 18 months included assessments of sociodemographic characteristics, beliefs about antidepressant treatment, depression severity, psychiatric comorbidity, medications, adherence, and side effects.\n",
            "With controls for baseline case mix and time-variant medication characteristics, the TBCC group reported significantly fewer side effects at six and 12 months (p=.008 and .002, respectively). The number of antidepressants prescribed increased risk of side effects (p=.02).\n",
            "Patients in the TBCC group reported fewer antidepressant-related side effects, which may have contributed to improved quality of life.\n",
            "\n",
            "Olanzapine/Fluoxetine combination in children and adolescents with bipolar I depression: a randomized, double-blind, placebo-controlled trial.\n",
            "To assess the efficacy and safety of olanzapine/fluoxetine combination (OFC) for the acute treatment of bipolar depression in children and adolescents.\n",
            "Patients 10 to 17 years of age with bipolar I disorder (BP-I), depressed episode, baseline Children's Depression Rating Scale-Revised (CDRS-R) total score ≥40, Young Mania Rating Scale (YMRS) total score ≤15, and YMRS-item 1 ≤2 were randomized to OFC (6/25-12/50 mg/day olanzapine/fluoxetine; n = 170) or placebo (n = 85) for up to 8 weeks of double-blind treatment. The primary efficacy measure was mean change in CDRS-R using mixed-model repeated-measures methodology.\n",
            "Baseline-to-week-8 least-squares mean change in CDRS-R total score was greater for OFC-treated patients than for placebo-treated patients (-28.4 versus -23.4, p = .003; effect size = .46), with between-group differences statistically significant at week 1 (p = .02) and all subsequent visits (all p < .01). Rates of and times to response and remission were statistically significantly greater for OFC- than for placebo-treated patients. The most frequent treatment-emergent adverse events in the OFC group were weight gain, increased appetite, and somnolence. Mean weight gain at patient's endpoint was significantly greater for OFC- than for placebo-treated patients (4.4 kg versus 0.5 kg, p < .001). Treatment-emergent hyperlipidemia was very common among OFC-treated patients. Abnormal increases in hepatic analytes, prolactin, and corrected QT interval (QTc) were also common or very common but generally not clinically significant.\n",
            "In this study, OFC was superior to placebo, and has been approved by the US Food and Drug Administration (FDA) for the acute treatment of bipolar I depression in patients 10 to 17 years of age. Benefits should be weighed against the risk of adverse events, particularly weight gain and hyperlipidemia. Clinical trial registration information-A Study for Assessing Treatment of Patients Ages 10-17 with Bipolar Depression; http://clinicaltrials.gov; NCT00844857.\n",
            "bipolar depression olanzapine fluoxetine combination\n",
            "[New prospects for antipsychotic treatment - the role of the kynurenine pathway].\n",
            "The mechanism of action of antipsychotic drugs is mainly associated with changes in dopaminergic system. The application of antipsychotic agents simultaneously produces changes in concentrations of metabolites (e.g. kynurenic acid - KYNA, 3-hydroxykynurenine - 3-OHKYN, kynurenine - KYN) of the kynurenine pathway, the pathway engaged in glutamatergic transmission. The increase in KYNA levels in certain areas of the central nervous system results in inhibition of glutamatergic transmission. Pharmacologically induced elevation of KYNA levels produces effects similar to those observed after administering ketamine or phencyclidine (the noncompetitive NMDA receptor antagonist), concerning increased activity of mesolimbic dopamine neurons, as well as reduction in dopamine release from the prefrontal cortex. Recent research results confirm the predictive value of changes in concentrations of kynurenine pathway metabolites for assessment of effectiveness of antipsychotic treatment. Significant relationships were found 1) in schizophrenia between the reduction of psychopathological symptoms and variations in 3-OHKYN levels as well as changes in KYNA/3-OHKYN and KYN/KYNA ratios, 2) in mania between varying tryptophan concentrations and the reduction in manic symptoms achieved with antipsychotic treatment. The research as well presented the possibilities of kynurenine pathway modifications, raising high hopes for their future application as target points for the action of novel antipsychotic agents.\n",
            "3-hydroxykynurenine antipsychotics kynurenic acid\n",
            "[Tardive dyskinesia in patients with schizophrenia treated with olanzapine - results from a 20-month, prospective, open study under naturalistic conditions].\n",
            "The objective of the study was to assess the prevalence and incidence of tardive dyskinesia in patients treated with olanzapine during the follow-up period of 20 months.\n",
            "It was a prospective, observational, non-interventional study under naturalistic conditions, without a control group. The evaluation of the severity and presence of tardive dyskinesia was performed with the Abnormal Involuntary Movement Scale and research criteria by Schooler and Kane.\n",
            "The study included 573 patients (woman 43,3%) with the diagnosis of schizophrenia (ICD-10), the mean age of 41.8 (± 12) years. The mean dose of olanzapine was 15.9 (± 4.2) mg. The prevalence of tardive dyskinesia was 16.4%. The cumulative incidence assessed in the group of 479 patients was 6.47%. The annual incidence was 3.9%. An increased risk of tardive dyskinesia was observed in smokers - RR of 1.99 (CI 0.88-4.49), those taking higher doses of olanzapine 1.57 (CI 0.91-2.7) and in those who used polytherapy: 3.55 (CI 1.43-8.82). Only in the case of polytherapy a multidimensional analysis confirmed that this factor had a significant influence on the risk of tardive dyskinesia (p=0.006).\n",
            "The study demonstrated high (16,4%) prevalence of tardive dyskinesia, and the annual incidence (3,9%) comparable to the results of a meta-analysis by Corell et al. In the case of olanzapine in monotherapy the annual incidence was lower (1.96%) but the use of antipsychotics in polytherapy more than tripled the risk of tardive dyskinesia.\n",
            "olanzapine schizophrenia tardive dyskinesia\n",
            "[Staging of unipolar affective illness].\n",
            "In this article, a concept of staging of unipolar affective illness (recurrent depression) is presented. In respective subchapters, three most important aspects of this issue have been discussed: 1) staging of unipolar affective illness; 2) staging of treatment-resistant depression; and 3) conversion of unipolar into bipolar affective illness. The evidence for so called neuroprogression of the illness, accumulated in recent years, has allowed for a classification of staging based on a concept of allostasis and allostatic load. In the course of illness, changes in neuroendocrine system (mainly hypothalamic pituitary-adrenal (HPA) axis), immunological system, mechanisms of oxidative stress, neurotransmitters, neurotrophic factors as well as structural and functional changes of the brain occur. In their paper of 2007, Fava and Tossani elaborated a concept of staging of unipolar affective illness presenting a continuum model of five consecutive stages with specific clinical features. In the present paper, a concept of treatment-resistant depression and staging of treatment resistance is presented in the context of several models. An important determinant of treatment-resistant depression is so called subthreshold bipolarity which is connected with worse efficacy of antidepressant drugs. In the course of illness, there is a possibility of changing diagnosis from recurrent depression into bipolar affective illness. The studies on this issue show that frequency of such diagnostic conversion is 1,5% of depressed patients per year.\n",
            "staging treatment-resistant depression unipolar affective illness\n",
            "[Cognitive dysfunctions in depression - underestimated symptom or new dimension?].\n",
            "Cognitive deficits constitute an integral part of clinical picture of depression, but often not enough attention has been paid to these deficits, mainly because of the presumption that they are secondary to typical depressive symptoms. It is considered that cognitive impairment is one of the main causes of depressive patients' poor functioning. Cognitive deficits are observed already in the first depressive episode. They may correlate with the severity of depression, with the patient's age and level of education. They may persist regardless of the improvement of depression during treatment. Cognitive deficits in depression are divided into \"cold\" which are not related to emotions, and \"hot\" - related to emotions. The \"cold\" deficits are supposed not to respond to antidepressants and seem to persist even in clinical remission. Vortioxetine is a novel antidepressant with a unique mechanism of action: it acts through the serotonine reuptake inhibition, but works also as 5HT(1A) agonist, as well as partial agonist of the 5HT(1B) receptor and antagonist of the 5HT(1D), 5HT(3) and 5HT(7) receptors. In preclinical studies vortioxetine showed the normalization of serotoninergic, noradrenergic, and dopaminergic transmission, additionally through GABA-ergic and glutaminergic effects. It has antidepressive property, it proved to be efficacious in various types of depression (severe, depression with anxiety, and depression in elderly); it also proved to be efficacious in those patients who did not respond sufficiently to SSRIs and SNRIs treatment. Vortioxetine is also beneficial for cognitive functions in depressed patients.\n",
            "cognitive deficits depression vortioxetine\n",
            "Paliperidone palmitate for refractory and clozapine-resistant schizophrenia.\n",
            "This is a report on two cases of refractory schizophrenia and two cases of clozapine-resistant schizophrenia successful treated with paliperidone palmitate. To the authors' knowledge, this is the first report of the successful use of paliperidone palmitate in such patients.\n",
            "\n",
            "[Effect of magnesium, acetylsalicilic acid and emoxypine on aggregation of platelets].\n",
            "The thrombin-induced platelet aggregation was studied in the absence and presence of magnesium sulfate, acetylsalicylic acid and emoxypine. It was found that all the preparations studied were able separately to decrease platelet aggregation. In contrast, their joint action was not able to affect the aggregation of platelets. The data obtained can be used to choose the treatment strategy for patients with ischemic stroke.\n",
            "\n",
            "Therapeutic effect of aripiprazole in chronic schizophrenia is accompanied by anti-inflammatory activity.\n",
            "Weight gain and metabolic abnormalities occur in chronic schizophrenia patients treated with atypical antipsychotics. The purpose of the study was to evaluate changes in serum levels of C-reactive protein (CRP), insulin and cytokines (IL-6, TNF-α, IL-1β, IFN-γ, sTNF-R1, IL-12, IL-23, IL-1Ra, TGF-β1, IL-4, and IL-10) after switching to aripiprazole.\n",
            "Cytokine, hsCRP and insulin measurements were performed in patients (n=17) on day 0 and day 28 of the study using standard ELISA assays. The psychopathological status was assessed using PANSS. WC and BMI were measured and calculated, respectively.\n",
            "We observed high clinical efficacy in aripiprazole linked to a 2.7% weight loss. There were statistically significant reductions in PANSS scores and body parameters (p<0.001). After 28 days we detected a significant reduction in hsCRP (p<0.001), insulin (p<0.001), IL-1β, IL-6, TNF-α, sTNF-R1, IL-12, IL-23, IL-1Ra, TGF-β1, IL-4 (p<0.001), IFN-γ (p<0.05) and a significant elevation of IL-10 (p<0.001). There was a significant negative correlation between IL-10 levels and PANSS positive, negative and total scores after the study (p=0.022, p=0.003, p=0.008, respectively).\n",
            "Aripiprazole limits inflammatory processes by enhancing anti-inflammatory signaling. Aripiprazole also reduces the risk of metabolic abnormalities.\n",
            "Aripiprazole CRP Chronic schizophrenia Cytokines\n",
            "[Psychotherapeutic considerations regarding medication treatment for refractory cases].\n",
            "The aim of this paper is to consider the psychotherapeutic approach to refractory cases in a psychiatric clinic. Although standardized, formulated psychotherapies, i. e., CBT and IPT, have a limited efficacy against antidepressant-resistant or chronic depression, psychotherapy and medication treatment may complement each other in combination. However, the first step in the psychotherapeutic consideration of refractory depression is to give up seeking \"a specific medicine\" which does not exist. On the other hand, a doctor should give his/her patient new hope for recovery and stimulate their motivation for treatment. In the dialogue between a doctor and patient, the following points are to be focused on : 1) The essential part of treatment is not medicine but the patient him-/herself. 2) Recommendation of medication should not further reduce the patient's pride. 3) It should be clear that medication treatment is a collaborative activity between patients and doctors. It is preferable for topics of an interview to extend from a reconsideration of the prescription contents to reconstruction of the daily life. It may be helpful for patients to obtain detailed advice on basic lifestyle aspects, such as sleep, meals, and daily activities.\n",
            "\n",
            "Involvement of serotonergic system in the effect of a metabotropic glutamate 5 receptor antagonist in the novelty-suppressed feeding test.\n",
            "The blockade of metabotropic glutamate 5 (mGlu5) receptor has been reported to exert antidepressant effects in several animal models. We previously reported that both ketamine and an mGlu5 receptor antagonist exerted an effect in a novelty-suppressed feeding (NSF) test, and that the effect of ketamine may be mediated through an α-amino-3-hydroxy-5-methyl-4-isoxazole propionic acid (AMPA) receptor-dependent increase in serotonergic transmission. However, the involvement of the serotonergic system in the effect of mGlu5 receptor antagonists in the NSF test is not well understood. Therefore, we examined the roles of the serotonergic system in the effect of an mGlu5 receptor antagonist, 6-methyl-2-(phenylethynyl)pyridine hydrochloride (MPEP), in the NSF test in mice. The administration of MPEP significantly shortened the latency to feed, which was not attenuated by the AMPA receptor antagonist, 2,3-dioxo-6-nitro-1,2,3,4-tetrahydrobenzo[f]quinoxaline-7-sulfonamide (NBQX). The effect of MPEP was abolished by the tryptophan hydroxylase inhibitor, para-chlorophenylalanine (PCPA). Moreover, the effect of MPEP was blocked by a serotonin (5-HT)2A/2C receptor antagonist, ritanserin, but not by a 5-HT1A receptor antagonist, N-{2-[4-(2-methoxyphenyl)-1-piperazinyl]ethyl}-N-(2-pyridynyl) cyclohexane-carboxamide (WAY100635). These results suggest that the effect of an mGlu5 receptor antagonist may be mediated by the serotonergic system, including the stimulation of the 5-HT2A/2C receptor, in an AMPA receptor-independent manner in the NSF test.\n",
            "Depression Ketamine Metabotropic glutamate 5 receptor antagonist Novelty-suppressed feeding test Serotonin\n",
            "Sigma-1 receptor: the novel intracellular target of neuropsychotherapeutic drugs.\n",
            "Sigma-1 receptor ligands have been long expected to serve as drugs for treatment of human diseases such as neurodegenerative disorders, depression, idiopathic pain, drug abuse, and cancer. Recent research exploring the molecular function of the sigma-1 receptor started unveiling underlying mechanisms of the therapeutic activity of those ligands. Via the molecular chaperone activity, the sigma-1 receptor regulates protein folding/degradation, ER/oxidative stress, and cell survival. The chaperone activity is activated or inhibited by synthetic sigma-1 receptor ligands in an agonist-antagonist manner. Sigma-1 receptors are localized at the endoplasmic reticulum (ER) membranes that are physically associated with the mitochondria (MAM: mitochondria-associated ER membrane). In specific types of neurons (e.g., those at the spinal cord), sigma-1 receptors are also clustered at ER membranes that juxtapose postsynaptic plasma membranes. Recent studies indicate that sigma-1 receptors, partly in sake of its unique subcellular localization, regulate the mitochondria function that involves bioenergetics and free radical generation. The sigma-1 receptor may thus provide an intracellular drug target that enables controlling ER stress and free radical generation under pathological conditions.\n",
            "Chaperone ER stress MAM Sigma receptor Sigma-1 receptor\n",
            "[Trends of psychotropic medication use among children and adolescents in Japan data from the national insurance claims database between 2002 and 2010].\n",
            "Context: Despite evidence of an increase in the number of young patients receiving mental health treatment, most psychotropic medications have not been approved for the treatment of children and adolescents by the Ministry of Health, Labour and Welfare. There is little data available on psychotropic medication use in children and adolescents in Japan.\n",
            "To establish the prevalence of psychotropic medications and multiclass psychotropic polypharmacy in outpatients aged 18 years or younger in Japan between 2002 and 2010.\n",
            "We used the national insurance claims database from the 2002-2010 Survey of Medical Care Activities in Public Health Insurance in Japan.\n",
            "Prevalence of psychotropic prescription and psychotropic polypharmacy.\n",
            "Our study dataset comprised 233,399 outpatient visits. Among patients aged 6-12 years between 2002-2004 and 2008-2010, there was a significant increase in the prevalence of ADHD medications (Odds Ratio [OR] 1.84; 95% Confidence Interval [CI] 1.33, 2.56) and antipsychotics (OR 1.58 95% CI 1.06, 2.34), and a significant decrease in the prevalence of sedative-hypnotics (OR 0.67; 95% CI 0.46, 0.99). Among patients aged 13-18 years, there was a significant increase in the prevalence of ADHD medications (OR 2.49; 95% CI 1.34, 4.62), anti-psychotics (OR 1.43 ; 95% CI 1.20, 1.70), and antidepressants (OR 1.37; 95% CI 1.09, 1.72). Medications that were most frequently involved used in combination of two or more psychotropic agents were mood stabilizer (93%), followed by antidepressants (77%), sedative-hypnotics (62%), antipsychotics (61%), and ADHD medications (17%).\n",
            "Our study revealed an increase in the use of off-label antipsychotics and antidepressants among children and adolescents. Therefore, there is an urgent need for clinical trials to evaluate the efficacy of psychotropic medications for use in children and adolescents, and the development of a clinical database to monitor the associated long-term risks and benefits.\n",
            "\n",
            "Relationship between internalized stigma and treatment efficacy in mixed neurotic spectrum and depressive disorders.\n",
            "Many psychiatric patients suffer from self-stigma. One consequence of these internalized prejudices is decreased treatment efficacy. Much has been written about the effects of self-stigma in patients with severe mental disorders. However, individuals with minor psychiatric disorders also suffer from self-stigma. It is therefore necessary to explore the effect of self-stigma on treatment efficacy of neurotic patients.\n",
            "Aim of out study was to investigate relationship between self-stigma, severity of symptoms, and presence of comorbidit disorder and treatment outcome in neurotic patients. Patients were treated by combined psycho and pharmacotherapy. Level of self-stigma was measured by Internalized Stigma Of Mental Illness scale. Severity of anxiety and depressive symptoms was assed by Beck Anxiety Inventory, Beck Depressive Inventory and Clinical Global Impression Scale.\n",
            "Level of self-stigma was significantly correlated with the levels of anxiety, depression and global evalutions of a mental state on the beginnig of the therapy. Up to our results patients with higher level of self-stigmatization had lower improvement after combined treatmet in respect to perceived anxiety symptoms.\n",
            "Self-stigma seems to be an important factor influencing efficacy of combined treatment. More researches focused on self-stigmatization should be done to find an optimal therapeutic strategy for patients with higher level of self-stigmatization.\n",
            "\n",
            "Elevated Monoamine Oxidase-A Distribution Volume in Borderline Personality Disorder Is Associated With Severity Across Mood Symptoms, Suicidality, and Cognition.\n",
            "Monoamine oxidase-A (MAO-A) is a treatment target in neurodegenerative illness and mood disorders that increases oxidative stress and predisposition toward apoptosis. Increased MAO-A levels in prefrontal cortex (PFC) and anterior cingulate cortex (ACC) occur in rodent models of depressive behavior and human studies of depressed moods. Extreme dysphoria is common in borderline personality disorder (BPD), especially when severe, and the molecular underpinnings of severe BPD are largely unknown. We hypothesized that MAO-A levels in PFC and ACC would be highest in severe BPD and would correlate with symptom magnitude.\n",
            "[(11)C] Harmine positron emission tomography measured MAO-A total distribution volume (MAO-A VT), an index of MAO-A density, in severe BPD subjects (n = 14), moderate BPD subjects (n = 14), subjects with a major depressive episode (MDE) only (n = 14), and healthy control subjects (n = 14). All subjects were female.\n",
            "Severe BPD was associated with greater PFC and ACC MAO-A VT compared with moderate BPD, MDE, and healthy control subjects (multivariate analysis of variance group effect: F6,102 = 5.6, p < .001). In BPD, PFC and ACC MAO-A VT were positively correlated with mood symptoms (PFC: r = .52, p = .005; ACC: r = .53, p = .004) and suicidality (PFC: r = .40, p = .037; ACC: r = .38, p = .046), while hippocampus MAO-A VT was negatively correlated with verbal memory (r = -.44, p = .023).\n",
            "These results suggest that elevated MAO-A VT is associated with multiple indicators of BPD severity, including BPD symptomatology, mood symptoms, suicidality, and neurocognitive impairment.\n",
            "Borderline personality disorder Harmine Imaging Monoamine oxidase-A Positron emission tomography Suicidal behavior\n",
            "A doctor's view: depression in long-term care residents.\n",
            "None\n",
            "\n",
            "The significance of ecstasy use to dental practice.\n",
            "3,4 Methylenedioxymethampetamine (MDMA), commonly known as ecstasy, is an illicit drug used by individuals seeking mood enhancement. Ecstasy's pharmacology, systemic, oral and dental manifestations are presented. Use of this drug is not limited to a particular socioeconomic class and, as such, all practicing dentists must be aware of both the intra-oral effects of this drug and any possible alterations to dental treatment that might become necessary. Dental manifestations include bruxism, increased incidence of caries, xerostomia and oral ulcers.\n",
            "\n",
            "[Acupuncture and drug for subcortical ischemic vascular disease complicated with depression: a randomized controlled trial].\n",
            "To explore the difference in the efficacy and effect mechanism of subcortical ischemic vascular disease (SIVD) complicated with depression between acupuncture and medication.\n",
            "Sixty patients were randomized-into an acupuncture group and a medication group, 30 cases in each one. In the acupuncture group, acupuncture was applied to Baihui (GV 20), Shuigou (GV 26), Fengfu (GV 16), Fengchi (GB 20) and the others, once a day, 6 times a week. The treatment of 4 weeks made one session and totally 2 sessions were required. In the medication group, nimodipine 30 mg, three times a day and fluoxetine 20 mg, once a day were prescribed for oral administration, for 8 weeks totally. Before treatment, at the end of the 4th week and at the end of the 8th week of treatment, cerebral blood flow velocity (CBFV) and solubility CD40 ligand (sCD40L) were determined respectively. The scores in Montreal cognitive assessment (MoCA) and Hamilton' s depression scale (HAMD) were evaluated in the two groups. The efficacies on cognitive function and depression symptoms were compared in the patients between the two groups. Results Compared with the outcome before treatment, mean blood flow velocity (Vm) of middle cerebral artery (MCA), anterior cerebral artery (ACA) and posterior cerebral artery (PCA) was increased significantly at the end of the 4th week of treatment in the two groups (all P<0.05). At the end of the 8th week, Vm was increased much significantly (all P<0.01). The differences were not significant in comparison between the two groups (all P>0.05). Compared with the expression before treatment, sCD40L was reduced significantly after treatment in the patients of the two groups (all P<0.01), but the differ- ence was not significant between the two groups (all P>0.05). Compared with that before treatment, MoCA score was increased significantly after treatment in the two groups (all P<0.01), HAMD score was reduced sig- nificantly (all P<0.01), the differences were not significant in comparison between the two groups (all P>0.05). The total effective rate of cognitive improvement was 86.7% (26/30) in the acupuncture group and was 80.0% (24/30) in the medication group, the differences were not significant in comparison of the two groups (P>0.05). The total effective rate of the improvement in depression was 93.3% (21/30) in the acupuncture group and was 86.7% (26/30) in the medication group, the differences were not significant in comparison of the two groups (P>0.05).\n",
            "Acupuncture could significantly increases CBFV and reduces serum sCD40L expressions in the patients of SIVD complicated with depression, and significantly improves cognitive function and relieves depression symptoms. The efficacy of it is similar to that of western medication. The increase of serum sCD40L expression is possibly involved in the occurrence and development of SIVD. Reducing sCD40L expression contributes to the alleviation of damage induced by cerebral ischemia and reperfusion.\n",
            "\n",
            "Psychomotor retardation in elderly untreated depressed patients.\n",
            "Psychomotor retardation (PR) is one of the core features in depression according to DSM V (1), but also aging in itself causes cognitive and psychomotor slowing. This is the first study investigating PR in relation to cognitive functioning and to the concomitant effect of depression and aging in a geriatric population ruling out contending effects of psychotropic medication.\n",
            "A group of 28 non-demented depressed elderly is compared to a matched control group of 20 healthy elderly. All participants underwent a test battery containing clinical depression measures, cognitive measures of processing speed, executive function and memory, clinical ratings of PR, and objective computerized fine motor skill-tests. Statistical analysis consisted of a General Linear Method multivariate analysis of variance to compare the clinical, cognitive, and psychomotor outcomes of the two groups.\n",
            "Patients performed worse on all clinical, cognitive, and PR measures. Both groups showed an effect of cognitive load on fine motor function but the influence was significantly larger for patients than for healthy elderly except for the initiation time.\n",
            "Due to the restrictive inclusion criteria, only a relatively limited sample size could be obtained.\n",
            "With a medication free sample, an additive effect of depression and aging on cognition and PR in geriatric patients was found. As this effect was independent of demand of effort (by varying the cognitive load), it was apparently not a motivational slowing effect of depression.\n",
            "cognition copying tasks elderly major depression medication free neuropsychological assessment psychomotor retardation\n",
            "[Protein quality control and psychiatric disorder--involvement of sigma-1 receptor].\n",
            "The protein quality control mechanism in the endoplasmic reticulum is referred to as the unfolded protein response (UPR), and its failure may be involved in the onset of some psychiatric disorders. We showed that induction of the sigma-1 receptor plays a role in the UPR, and suggested the possibility that this mechanism is impaired in disorders such as schizophrenia. We also demonstrated that fluvoxamine induces expression of the sigma-1 receptor. Therefore, it has the potential to be developed as a drug which exerts an anti-ER-stress effect, i. e., protein quality control effect.\n",
            "\n",
            "[Effects of buspirone complex with glycyrrhizic acid on behavior of mice with anxious-depressive state].\n",
            "We report here studies of the effects of subchronic administration of 5-HT1A receptor agonist buspirone and its novel complex with glycyrrhizic acid (GA) to C57BL/6J mice at the different stages of the anxious-depressive state formation, induced by conditions of social stress. The experiment of agents' administration during the conditions of stress (beginning with initial stage) showed that only complex had a protective effect revealed in prevention of the anxiety with the high level of mice communicativeness maintenance. At the stage when the anxious-depressive state is completely formed, buspirone and its complex with GA decreased mice motor activity however complex--less significantly. Here we discuss a possible mechanism of action of investigated agents on the background of changes in the sensitivity of 5-HT1A receptors, induced by the formation of the anxious-depressive state of mice with experience of social stress. Despite of different effects of agents depending on the stage of the anxious-depressive state development, novel buspirone complex with GA has some advantage over buspirone.\n",
            "\n",
            "[Effects of activation and blockde of GABA(A)-receptors on activity of the nitrergic system of the N. accumbens].\n",
            "In Sprague-Dawley rats by means of in vivo microdialysis it was shown that intra-accumbal infusion of a GABA(A) receptor antagonist bicuculline (20, 60, 120 μM) dose-dependently increased the local level of extracellular citrulline (a NO co-product). This increase was almost completely prevented by intra-accumbal infusion of 7-nitroindazol (0.5 mM), a neuronal NO synthase inhibitor. Intra-accumbal infusion ofa GABA(A) receptor agonist muscimol at concentrations of 10, 50 μM did not affect the citrulline extracellular level in this brain area, whereas at a concentration of 150 μM, muscimol decreased the accumbal citrulline extracellular level. Intra-accumbal infusion of NMDA (100 μM), an NMDA receptor agonist, increased the local level of extracellular citrulline, and intra-accumbal muscimol infusions (10, 50, 150 μM) dose-dependently decreased the NMDA-dependent citrulline rise. The data obtained indicate for the first time that in the n. accumbens, GABA(A)-receptors might regulate basal and NMDA-evoked activity of accumbal nitrergic system.\n",
            "\n",
            "Asenapine in clinical practice: preliminary results from a naturalistic observational study.\n",
            "Asenapine, a second-generation antipsychotic, seems to be an effective and tolerable alternative to other treatments for patients with manic or mixed episodes. The objective of our naturalistic observational study was to identify asenapine responders and remitters and to compare responders vs. non-responders and remitters vs. non-remitters, as far as clinical and socio-demographic features are concerned.\n",
            "We recruited patients with diagnosis of manic episode in bipolar I (BD I) or schizoaffective disorder, with clinical indication to asenapine treatment. Patients’ assessment was performed at baseline (T0), after 1 week (T1) and after 4 weeks (T2) of treatment, with the Young Mania Rating Scale (YMRS; T0,T1,T2) and Hamilton Rating Scale for Depression (HAM-D; T0, T2). According to YMRS scores, we classified patients as early improvers, treatment responders, and treatment remitters.\n",
            "A significant decrease was found in HAM-D scores from baseline to T2, with no significant difference between remitters and non-remitters or responders vs. non-responders.The YMRS score significantly improved from baseline to T2, with a significant difference between remitters and non-remitters, but not between responders and non-responders. No difference was found between responders and non-responders as far as socio-demographic and clinical variables, and questionnaire baseline scores are concerned. Remitters and non-remitters showed significant differences in baseline YMRS scores, which were lower in the first and in the type of current episode, which was more frequently moderate in the former than in the latter.\n",
            "Early improvers comprised 51% of subjects, responders comprised 91.9% and remitters comprised 59.4%. Elderly manic patients with neurological impairment and/or dementia may have poorer therapeutic outcomes. Our results suggest that: 1) decision regarding treatment discontinuation should be cautious in patients who fail to have an early response to asenapine; 2) different diagnosis (BDor schizoaffective disorder) does not seem to have a significant impact on asenapine efficacy; 3) remission with asenapine is more likely to happen for less severe manic episodes. Further naturalistic studies on larger samples are required to support our findings.\n",
            "\n",
            "[Treatment-resistant depression: state of the art Part II. Treatment].\n",
            "This work would give an overall and up-to-date vision of psychopharmacological and physical strategies of treatment for resistant depression.\n",
            "A PubMed search was done using the keywords \"resistant depression treatment\", \"electroconvulsive therapy\", \"antidepressants\", and the inclusion criteria of adult samples, English, French or Italian languages.\n",
            "Lots of psycho-pharmacological and physical treatment strategies for resistant depression exist; anyway there is no consensus about their indications and efficacy, which appears still unsatisfactory.\n",
            "Further research should move towards the identification of specific clinical picture of treatment resistant depression to develop more efficacious and selective treatment protocols.\n",
            "\n",
            "Genetic and bioinformatic studies of antidepressant drug therapeutic efficacy and toxicity: a current overview.\n",
            "Antidepressants can relief human depression and reduce human depressive symptoms. Nevertheless, some undesired clinical events, such as suicide have been emerging. As for 2004, the US and European regulatory agencies began implementing verification programs to assess the influence on suicidal behavior from the use of antidepressants such as selective serotonin reuptake inhibitors (SSRIs). With the increasing number of reported cases, several newly developed antidepressants were faced with withdrawal from the markets. Despite unclear cause of suicide, researches focusing on revealing the relationship between efficacy and toxicities of antidepressants have been initiated in China and US. To deal with these undesired clinical consequences, new initiatives and revolutionary ideas have been proposed and verified. Hopefully, therapeutic efficacies and outcomes by different types of antidepressant treatments can be improved for clinical trials in future.\n",
            "\n",
            "Escitalopram-Induced Progressive Cervical Dystonia.\n",
            "None\n",
            "\n",
            "A randomized, placebo-controlled, double-blinded trial of duloxetine in the treatment of general fatigue in patients with chronic fatigue syndrome.\n",
            "To assess the efficacy and safety of duloxetine in patients with chronic fatigue syndrome.\n",
            "A 12-week, randomized, double-blind study was designed to compare duloxetine 60-120 mg/d (n = 30) with placebo (n = 30) for efficacy and safety in the treatment of patients with chronic fatigue syndrome. The primary outcome measure was the Multidimensional Fatigue Inventory general fatigue subscale (range: 4-20, with higher scores indicating greater fatigue). Secondary measures were the remaining Multidimensional Fatigue Inventory subscales, Brief Pain Inventory, Medical Outcomes Study Short Form-36, Hospital Anxiety and Depression Scale, Centers for Disease Control and Prevention Symptom Inventory, Patient Global Impression of Improvement, and Clinical Global Impression of Severity. The primary analysis of efficacy for continuous variables was a longitudinal analysis of the intent-to-treat sample, with treatment-by-time interaction as the measure of effect.\n",
            "The improvement in the Multidimensional Fatigue Inventory general fatigue scores for the duloxetine group was not significantly greater than for the placebo group (P = 0.23; estimated difference between groups at week 12 = -1.0 [95% CI: -2.8, 0.7]). The duloxetine group was significantly superior to the placebo group on the Multidimensional Fatigue Inventory mental fatigue score, Brief Pain Inventory average pain severity and interference scores, Short Form-36 bodily pain domain, and Clinical Global Impression of Severity score. Duloxetine was generally well tolerated.\n",
            "The primary efficacy measure of general fatigue did not significantly improve with duloxetine when compared with placebo. Significant improvement in secondary measures of mental fatigue, pain, and global measure of severity suggests that duloxetine may be efficacious for some chronic fatigue syndrome symptom domains, but larger controlled trials are needed to confirm these results.\n",
            "\n",
            "Characteristics of caffeine intoxication-related death in Tokyo, Japan, between 2008 and 2013.\n",
            "Caffeine is widely available in beverages and over-the-counter products; however, in large doses, it can lead to lethal arrhythmia. This study aims to clarify the characteristics of caffeine intoxication-related deaths in Tokyo, Japan.\n",
            "Among the 4754 forensic autopsy cases between 2008 and 2013 in which a toxicological investigation was performed, cases in which the blood concentration of caffeine exceeded toxic levels (15 μg/ml) were selected (N = 22). We examined subjects' ages, medical histories, direct/underlying causes of death, and manner of death. We also assessed concurrent drug substance detection and identified the origin of the caffeine.\n",
            "More than 60% of the subjects were between the ages of 20 and 49 years (n = 14, 63.6%). Sixteen cases (72.7%) showed a history of psychiatric diseases such as depression and sleep disorders. The underlying cause of death for all cases except two was caffeine intoxication, and manner of death was classified as undetermined (n = 11), accidental (n = 7), suicide (n = 2), or others (n = 2). Toxicological analysis revealed the presence of ingredients common to analgesics/cold remedies in 12 cases (54.5%). The origin of the caffeine was identified in 11 cases (50.0%); the proportion of identification was significantly lower among the cases in which analgesic/cold remedy ingredients were not detected (20.0%).\n",
            "Caffeine intoxication-related deaths mainly occurred in young and middle-aged persons with common psychiatric diseases. Psychiatrists should take note of caffeine dependence while diagnosing common psychiatric symptoms. In half of the cases, the origin of the caffeine was unidentified; nevertheless, dietary sources or over-the-counter drugs containing caffeine were suspected. As it becomes easier to obtain caffeinated products, continuous monitoring of the number of deaths from caffeine intoxication, in addition to detailed investigations of the caffeine's origin, will be necessary.\n",
            "\n",
            "Self-treatment and informal treatment for depression among resident physicians.\n",
            "There is awareness of depression in resident physicians, yet limited information on self-treatment or informal treatment behaviors for depression. This study sought to identify the prevalence of moderate to severe depression, self-treatment, and informal treatment for depression in resident physicians.\n",
            "A total of 704 residents at the University of Utah were sent a survey on depression in the fall of 2009, with a response rate of 36.9% (260).\n",
            "Moderate to severe depression was present in 17.7% (46/260) of residents. Only 1.2% (3/254) of all residents had prescribed their own antidepressant medication, and just 0.8% (2/257) of residents had self-treated for depression with samples from their clinic. Regarding informal prescribing, 5.9% (15/256) of residents had received prescription antidepressants from another provider without a formal clinical consultation or appointment, and 3.1% (8/254) of residents had informally prescribed antidepressant medications to another resident colleague. Merely 26.7% (12/45) of residents with moderate to severe depression scores were currently receiving treatment for depression.\n",
            "Moderate to severe depression in resident physicians is common and undertreated. Self-treatment behaviors of self-prescribing and use of clinical samples have a low prevalence but are present. Similarly, informally obtaining prescription antidepressants and informally prescribing antidepressants to other residents exist at a low rate.\n",
            "\n",
            "Selective serotonin reuptake inhibitor discontinuation during pregnancy: at what risk?\n",
            "\n",
            "\n",
            "[Licit and ilicit uses of medicines].\n",
            "Drugs of abuse are a heterogeneous group of xenobiotics or endobiotics that alter synaptic organization in the central nervous system in a transient or permanent basis, often leading to a compulsively use. What unites its members is that they confer pleasure (hedonism) to the abusers, namely by their action in the mesolimbic dopamine system. To exert its effects, different drugs of abuse will act on receptors and neurotransmitter transporters, modeling neurotransmitter release into the synaptic cleft. Besides acting on presynaptic neurons also function in neurotransmitter receptors and ion channels in postsynaptic neurons, thereby modifying the signaling pathways. In this work, the pharmacodynamic and the potential of some psychoactive substances that are typically subjected to abuse in Portugal, is reviewed. With this approach it was also possible a discussion of drugs of abuse that exhibit very different toxicological effects such as stimulants, depressants and hallucinogens. Particularly, the potential to induce dependence and addition, as well as to undergo illicit and licit uses, of central nervous system depressants, stimulants, anticholinergic antiparkinson drugs, opioids, cannabinoids and hallucinogens, is discussed.\n",
            "As drogas de abuso sÉo um grupo heterogéneo de xenobióticos ou endobióticos que alteram a organizaçÉo sináptica no sistemanervoso central, de modo transitório ou permanente, conduzindo frequentemente ao consumo da droga de forma compulsiva. O que une os seus membros é o facto de conferirem prazer (hedonismo) a quem consome, nomeadamente por influência no sistema mesolímbico da dopamina. Para exercerem os seus efeitos, as diferentes drogas de abuso vÉo atuar sobre recetores e transportadores de neurotransmissores, modelando a libertaçÉo destes para a fenda sináptica. Além de atuar em neurónios pré-sinápticos, também atuam nos recetores de neurotransmissores e canais iónicos nos neurónios pós-sinápticos, ocorrendo desta forma, uma modificaçÉo das vias de sinalizaçÉo. Nesta revisÉo é discutido a farmacodin'mica de algumas subst'ncias psicoativas que sÉo alvo de consumoabusivo em Portugal. Com esta abordagem é também possível uma discussÉo das drogas de abuso que exibem efeitos toxicológicos tÉo diversos como estimulantes, depressores e alucinogénios. Nomeadamente é discutido o potencial dos (i.e. depressores do sistema nervoso central, estimulantes, antiparkinsónicos anticolinérgicos, opioides, alucinogénios e dos canabinoides) para desenvolverem adiçÉo e dependência, bem como serem alvo de utilizações lícitas e ilícitas.\n",
            "\n",
            "[Venous thromboembolism as an adverse effect of antipsychotic treatment].\n",
            "Many studies, suggest an association between the use of antipsychotics (APs) and occurrence of venous thromboembolism (VTE). Thromboembolism is often related to a significant r'iisk of disability or death. Despite many years of investigating the interrelationsbetween use of APs and VTE, they have not been specified yet. This paper aims to summarize reports on the VTE risk factors in patients using APs. Based on the analyzed clinical studies, meta-analyses and.data published by European Medicines Agency, it has been determined, that the main risk factors for VTE are duration of treatment and patient-related factors, such as gender, age, body mass, and physical activity. Current data do not allow to identify the prothrombotic potential for individual APs or indicate a higher risk for developing VTE in patients treated ' with newer atypical APs. Due to the complex pathogenesis of VTE it would benecessaryto perform large, comparative studies, allowing to identify precisely differences in prothrombotic potential of individual APs. It is necessary to specify products with the lowest VTE risk, what would be useful in the treatment of high-risk patients. All patients treated with APs should be assessed with the risk ofVTE and, if needed, appropriate prevention methods (including most of all the elimination of modifiable risk factors) should be implemented. Moreover, patients should be educated in scope of VTE prodromal symptoms. All patients with the higher VTE risk should be diagnosed as soon as possible and adequate treatment should be implemented.\n",
            "\n",
            "[Inhaled loxapine: A novel treatment for agitation in psychotic disorders].\n",
            "Psychomotor agitation is a widespread clinical problem both in patients with schizophrenia and BD. It is a highly hazardous condition, imposing significant risks in psychiatric emergency, as expressedby elevated ratios of adverse events and traumatic experiences (both for patients and medical staff). The available anti-agitation drugs have numerous disadvantages. The orally administered medications (even though preferable to:patients) take hours or even-days for the therapeutic effect to emerge .(and also there is a risk of exacerbating agitation in between). Although rapid onset of action (15-45 minutes) is a noteworthy merit of intramuscular drugs, such an invasive strategy is far too often bound to patients' anxiety, resistance, and traumatic experiences. The need for novel drug formulations (ideally, both integrating the benefits of injectable and orally administered tranquillizing medications, 'and free from their disadvantages) can be, therefore, clearly grasped. Development of.inhaled loxapine exemplifies the attempts to overcome the above-delineated obstacles. As suggested by the available research base, inhaled loxapine seems to be an effective anti-agitation drug in treatment of patients with schizoplhenia and BD (with the onset of action similar to the one observed in intramuscular antipsychotics). However, this formulation of loxapine is distinguished by its non-invasive route of administration, as accompanied by markedly, low risk of side effects or adverse events.\n",
            "\n",
            "[Mood stabilisers and pregnancy outcomes - a review].\n",
            "The purpose of this review is to give useful information to guide clinicians when treating pregnant women affected by bipolar disorder. This review focuses on mood stabilizers including lithium, sodium valproate, carbamazepine, oxcarbazepine, gabapentin, lamotrigine and topiramate. Data have been extracted from a MEDLINE search. Data from prospective, retrospective and case-control studies as well as systematic reviews, meta-analysis and data from Pregnancy Registry were included. Major congenital malformations as well as specific malformations were reported for each drug. Preliminary findings seem to identify lamotrigine as one ofthe safest antiepileptic drugs to be used in pregnancy. Teratogenity risk oftopiramate is still largely unknown and there are not enough studies to draw even preliminary conclusions. Preliminary studies failed to report an increased risk for major congenital malformations among gabapentin or.oxcarbazepine exposed pregnancies. Even if raising less concern when compared to valproate, carbamazepine should be avoided for its documented teratogenity risk. Valproate seems to be the worst considering major congenital malformations, specific malformations as,well as its detrimental effects on neurodevelopment. On the other hand, lithium might be considered a good option when treating pregnant women affected by bipolar disorder. Given the limited research on mood stabilizers in pregnancy, clinicians need to be very careful when treating child bearing age women. Clinicians have to balance the potential teratogenityrisk against that of untreated mental illness considering individual circumstances such as severity of illness and risk of relapse.\n",
            "\n",
            "[Treatment of bipolar disorder].\n",
            "Bipolar disorder is a chronic pathology whose management must lead to limit the social, professional and family impacts as well as suicidal risk. The treatment of acute episodes and prophylaxis is based on mood stabilizer treatments whose lithium is a leader. They will be chosen according to the background and history of the disease. Anti-depressants must be used with care to minimize the risk of manic episode and the induction of rapid cycles. The prognosis is not solving major episodes but avoiding major mood episodes. The management of residual symptoms (especially neuro-cognitive) is also a major challenge prognosis and justifies the implementation of adjuvant psychotherapeutic strategies.\n",
            "\n",
            "Hamilton depression rating subscales to predict antidepressant treatment outcome in the early course of treatment.\n",
            "Hamilton depression rating scale (HAMD) subscales provide an economic alternative for the full scale; however, their ability to detect onset of improvement in the early course of treatment (EI) has not yet been researched. The present study investigated in patients with major depression (MD) whether the subscales are a comparable option to predict treatment remission in the early course of treatment.\n",
            "Based on data from 210 MD patients of a 6-week randomised, placebo-controlled trial comparing mirtazapine (MIR) and paroxetine (PAR), the discriminative and predictive validity of EI for (stable) remission at treatment end was evaluated for seven subscales and the HAMD17 in the total and in treatment subgroups (MIR vs. PAR). Receiver operating characteristics (ROC) curves (at week 2) and the Clinical Global Impression scales (CGI) (at study endpoint) were used to validate the 20% EI criterion for the subscales.\n",
            "Only the Evans6 and Toronto7 subscale had almost the same predictive value as the HAMD17 (e.g., sensitivities stable remission Evans6/Toronto7: 96/95% vs. 96% HAMD17). The optimal cut-off for EI to predict remission was just below 20% for most subscales and slightly over 20% for stable remission.\n",
            "Study sample representativeness, non-independence of subscales, missing external validation criterion, lack of control group.\n",
            "The Evans6 and Toronto7 subscales are valuable alternatives in situations, where economic aspects play a larger role. A sum score reduction of ≥20% as definition for EI seems also appropriate for the HAMD subscales, in the total as well as in the antidepressant subgroups.\n",
            "Antidepressants Depression Early improvement Hamilton depression rating scale (HAMD(17)) Outcome prediction Subscales\n",
            "Original mechanisms of antipsychotic action by the indole alkaloid alstonine (Picralima nitida).\n",
            "Alstonine is the major component of plant based remedies that traditional psychiatrists use in Nigeria. Alstonine is an indole alkaloid that has an antipsychotic experimental profile comparable with that of clozapine and is compatible with the alleged effects in mental patients. Representing a desirable innovation in the pharmacodynamics of antipsychotic medications, the evidence indicates that alstonine does not bind to D2 dopamine receptors (D2R) and differentially regulates dopamine in the cortical and limbic areas. The purpose of this study was to further investigate the effects of alstonine on D2R binding in specific brain regions using quantitative autoradiography (QAR) and its effects on dopamine (DA) uptake in mouse striatal synaptosomes. The effects of alstonine on D2R binding were determined in the nucleus accumbens and caudate-putamen using QAR in mice treated with alstonine doses that have antipsychotic effects. The effects of alstonine [3H]DA uptake were assessed in synaptosomes prepared from striatal tissue obtained from mice treated acutely or for 7 days with alstonine. Alstonine did not change the D2R binding densities in the studied regions. DA uptake was increased after acute (but not after 7 days) treatment with alstonine. Consistent with the alstonine behavioral profile, these results indicate that alstonine indirectly modulates DA receptors, specifically by modulating DA uptake. This unique mechanism for DA transmission modulation contributes to the antipsychotic-like effects of alstonine and is compatible with its behavioral profile in mice and alleged effects in patients. These results may represent an innovation in the antipsychotic development field.\n",
            "Alstonine Antipsychotics D(2) dopamine receptor Dopamine uptake Indole alkaloid Picralima nitida Schizophrenia\n",
            "[Treatment of antipsychotic drug-induced phlegm dampness type amenorrhea by Wuji Powder and a small dose aripiprazole: a clinical study].\n",
            "To assess the efficacy and safety of Wuji Powder (WP) and a small dose aripiprazole in treatment of antipsychotic drug-induced phlegm dampness type amenorrhea.\n",
            "Seventy female schizophrenic patients with antipsychotic drug-induced galactorrhea-amenorrhea syndrome (GAS) were recruited and randomly assigned to the treatment group and the control group, 35 in each group. All patients received antipsychotic drug therapy. Patients in the treatment group additionally took WP, while those in the control group took aripiprazole (at the daily dose of 5 mg, once daily). The therapeutic course for all was 4 weeks. Prolactin levels and obesity indices[body weight, waist aircumstance, body mass index (BMI) and waist-hit ratio (WHR)] were determined before and after treatment. The efficacy was evaluated.\n",
            "The treatment course was completed in 95.71% of patients. The total effective rate of the 33 patients of the treatment group was 93.94% (31/33), while it was 91.18% (31/34) in the 34 patients of the control group. There was no difference in the total effective rate between the two groups (P > 0.05). Prolactin levels in both group after treatment were significantly lower than those of the baseline (P < 0.01). There was no significant difference in prolactin levels between the two groups after treatment (P > 0.05). Compared with before treatment, body weight, BMI, waist circumstance, and waist-hip ratio obviously decreased after treatment, showing significant difference when compared with the control group (P < 0.05). There was no significant difference in body weight, BMI, waist circumstance, and waist-hip ratio in the control group between before and after treatment (P > 0.05).\n",
            "Both WP and aripiprazole could lower high prolactin levels of schizophrenics with phlegm dampness type amenorrhea. They showed equivalent efficacy. But WP showed more obvious effect in reducing obesity indices.\n",
            "\n",
            "Treatment-resistant patients with schizophrenia.\n",
            "None\n",
            "\n",
            "Bupropion induced premature ejaculation.\n",
            "None\n",
            "\n",
            "Antidepressant effects of TrkB ligands on depression-like behavior and dendritic changes in mice after inflammation.\n",
            "Brain-derived neurotrophic factor (BDNF) and its receptor, tropomyosin-related kinase B (TrkB), signaling represent potential therapeutic targets for major depressive disorder. The purpose of this study is to examine whether TrkB ligands show antidepressant effects in an inflammation-induced model of depression.\n",
            "In this study, we examined the effects of TrkB agonist 7,8-dihydroxyflavone (7,8-DHF) and TrkB antagonist ANA-12 on depression-like behavior and morphological changes in mice previously exposed to lipopolysaccharide (LPS). Protein levels of BDNF, phospho-TrkB (p-TrkB), and TrkB in the brain regions were also examined.\n",
            "LPS caused a reduction of BDNF in the CA3 and dentate gyrus (DG) of the hippocampus and prefrontal cortex (PFC), whereas LPS increased BDNF in the nucleus accumbens (NAc). Dexamethason suppression tests showed hyperactivity of the hypothalamic-pituitary-adrenal axis in LPS-treated mice. Intraperitoneal (i.p.) administration of 7,8-DHF showed antidepressant effects on LPS-induced depression-like behavior, and i.p. pretreatment with ANA-12 blocked its antidepressant effects. Surprisingly, ANA-12 alone showed antidepressant-like effects on LPS-induced depression-like behavior. Furthermore, bilateral infusion of ANA-12 into the NAc showed antidepressant effects. Moreover, LPS caused a reduction of spine density in the CA3, DG, and PFC, whereas LPS increased spine density in the NAc. Interestingly, 7,8-DHF significantly attenuated LPS-induced reduction of p-TrkB and spine densities in the CA3, DG, and PFC, whereas ANA-12 significantly attenuated LPS-induced increases of p-TrkB and spine density in the NAc.\n",
            "The results suggest that LPS-induced inflammation may cause depression-like behavior by altering BDNF and spine density in the CA3, DG, PFC, and NAc, which may be involved in the antidepressant effects of 7,8-DHF and ANA-12, respectively.\n",
            "BDNF-TrkB signaling hippocampus inflammation nucleus accumbens prefrontal cortex\n",
            "The impact of socio-economic factors on suicide rates in South Korea.\n",
            "None\n",
            "\n",
            "Persistent perceptual disturbances after lithium toxicity: a case report and discussion.\n",
            "None\n",
            "\n",
            "Depersonalization/derealization disorder after exposure to mefloquine.\n",
            "None\n",
            "\n",
            "Effects of remission speed and improvement of cognitive functions of depressed patients.\n",
            "Major depressive disorder (MDD) presents neuropsychological alterations which improve after the treatment, but it might be mediated by clinical variables. Our goal is to study whether the speed of remission of MDD bears any relation to the improvement of the patients' cognitive functioning after a successful treatment. We carried out clinical and neuropsychological assessments of 51 patients with MDD. After these procedures they underwent a 24-week treatment with fluoxetine, and were assessed again with the same battery used prior to treatment. They were arranged into three groups according to how rapid their symptoms remitted. The patients with a rapid remission presented improvements in working memory, speed of information processing, and some executive functions, unlike the other groups. Rapid remitters also improved in episodic memory and executive functions more than the other patients.\n",
            "Antidepressant response Cognitive improvement Generalized linear models Major depressive disorder Neuropsychological assessment\n",
            "\n"
          ]
        }
      ]
    },
    {
      "cell_type": "markdown",
      "source": [
        "##Preprocessing the corpus and applying Latent Semantic Analysis (LSA)"
      ],
      "metadata": {
        "id": "NQc5UFraLDc6"
      }
    },
    {
      "cell_type": "code",
      "source": [
        "import numpy as np\n",
        "from sklearn.feature_extraction.text import TfidfVectorizer\n",
        "from sklearn.decomposition import TruncatedSVD\n",
        "from sklearn.pipeline import make_pipeline\n",
        "from sklearn.preprocessing import Normalizer\n",
        "\n",
        "# Define preprocessing function\n",
        "def preprocess_text(text):\n",
        "\n",
        "# Implement preprocessing steps\n",
        "  return text\n",
        "\n",
        "# Preprocess the corpus\n",
        "preprocessed_corpus = [preprocess_text(doc) for doc in corpus.split('\\n')]\n",
        "\n",
        "# Create TF-IDF matrix\n",
        "vectorizer = TfidfVectorizer(stop_words='english')\n",
        "tfidf_matrix = vectorizer.fit_transform(preprocessed_corpus)\n",
        "\n",
        "# Apply Singular Value Decomposition (SVD)\n",
        "n_topics = 50  # Number of topics to extract\n",
        "svd = TruncatedSVD(n_topics)\n",
        "lsa = make_pipeline(svd, Normalizer(copy=False))\n",
        "lsa_matrix = lsa.fit_transform(tfidf_matrix)\n",
        "\n",
        "# Extract topics (words = 5)\n",
        "terms = vectorizer.get_feature_names_out()\n",
        "for i, topic in enumerate(svd.components_, start=1):\n",
        "    top_terms = \", \".join([terms[index] for index in topic.argsort()[:-6:-1]])\n",
        "    print(f\"Topic {i}: {top_terms}\")\n"
      ],
      "metadata": {
        "id": "EHkkE4wVHrtB",
        "outputId": "7d8030b1-9d7b-4a51-c544-eedaa92b309d",
        "colab": {
          "base_uri": "https://localhost:8080/"
        }
      },
      "execution_count": null,
      "outputs": [
        {
          "output_type": "stream",
          "name": "stdout",
          "text": [
            "Topic 1: treatment, depression, patients, antidepressant, schizophrenia\n",
            "Topic 2: la, en, que, les, los\n",
            "Topic 3: receptor, antidepressant, effects, effect, mice\n",
            "Topic 4: schizophrenia, olanzapine, patients, dyskinesia, tardive\n",
            "Topic 5: schizophrenia, response, disorder, major, depressive\n",
            "Topic 6: olanzapine, depression, fluoxetine, bipolar, receptor\n",
            "Topic 7: schizophrenia, resistant, self, treatment, paliperidone\n",
            "Topic 8: tablets, magnesium, imipramine, fatigue, release\n",
            "Topic 9: tablets, olanzapine, magnesium, imipramine, bipolar\n",
            "Topic 10: affective, bipolar, disorder, staging, illness\n",
            "Topic 11: self, efficacy, induced, disorder, los\n",
            "Topic 12: receptor, psychotropic, tablets, sigma, los\n",
            "Topic 13: self, receptor, sigma, stigma, disorder\n",
            "Topic 14: les, des, et, psychotropic, une\n",
            "Topic 15: antipsychotic, weight, sigma, drug, gain\n",
            "Topic 16: response, cognitive, effect, psychomotor, depression\n",
            "Topic 17: response, affective, staging, illness, unipolar\n",
            "Topic 18: depression, psychiatric, follow, sigma, days\n",
            "Topic 19: days, follow, 30, subsequent, utilization\n",
            "Topic 20: complex, pain, pregabalin, dyskinesia, tardive\n",
            "Topic 21: patient, psychiatric, bipolar, collaborative, care\n",
            "Topic 22: aripiprazole, dyskinesia, tardive, antipsychotic, effect\n",
            "Topic 23: bpd, multiple, use, mao, melatonin\n",
            "Topic 24: caffeine, nmda, intoxication, 20, cases\n",
            "Topic 25: response, trkb, bipolar, fluoxetine, lps\n",
            "Topic 26: depressive, sigma, antidepressant, gain, use\n",
            "Topic 27: imaging, caffeine, magnetic, resonance, episode\n",
            "Topic 28: melatonin, disorders, episode, acetylserotonin, multiple\n",
            "Topic 29: psychotropic, induced, swn, pain, pregabalin\n",
            "Topic 30: bpd, mao, antidepressant, delirium, psychiatric\n",
            "Topic 31: remitters, responders, asenapine, non, days\n",
            "Topic 32: fatigue, delirium, medication, discontinuation, trkb\n",
            "Topic 33: disease, trkb, acupuncture, bmi, complicated\n",
            "Topic 34: melatonin, acetylserotonin, sclerosis, modafinil, multiple\n",
            "Topic 35: france, canada, social, inequalities, sustained\n",
            "Topic 36: psychomotor, depressive, subcortical, vascular, trial\n",
            "Topic 37: pcps, care, 20, health, new\n",
            "Topic 38: social, canada, france, inequalities, use\n",
            "Topic 39: physicians, group, fluoxetine, disorders, resident\n",
            "Topic 40: il, state, resistant, aripiprazole, melatonin\n",
            "Topic 41: receptors, glutamate, study, da, biomarkers\n",
            "Topic 42: remission, patients, resistant, sigma, risk\n",
            "Topic 43: da, em, antidepressivos, com, receptors\n",
            "Topic 44: hippocampal, combination, group, venlafaxine, psychomotor\n",
            "Topic 45: il, psychiatric, pulmonary, 001, care\n",
            "Topic 46: il, anxiety, antipsychotic, pharmacogenetics, treated\n",
            "Topic 47: cognitive, review, aggression, pregnancy, hostility\n",
            "Topic 48: induced, antidepressants, discontinuation, schizophrenia, case\n",
            "Topic 49: resistant, report, case, antagonist, effects\n",
            "Topic 50: case, hippocampal, antidepressant, venlafaxine, apoptosis\n"
          ]
        }
      ]
    },
    {
      "cell_type": "markdown",
      "source": [
        "### LSA - each topic 10 words"
      ],
      "metadata": {
        "id": "rJWaMDQDX1w7"
      }
    },
    {
      "cell_type": "code",
      "source": [
        "# Extract topics (words = 10)\n",
        "terms = vectorizer.get_feature_names_out()\n",
        "for i, topic in enumerate(svd.components_, start=1):\n",
        "    top_terms = \", \".join([terms[index] for index in topic.argsort()[:-11:-1]])\n",
        "    print(f\"Topic {i}: {top_terms}\")"
      ],
      "metadata": {
        "colab": {
          "base_uri": "https://localhost:8080/"
        },
        "id": "oxU34u4tX_Vq",
        "outputId": "a6be2ae2-5354-4133-fffc-acaa8dcb778f"
      },
      "execution_count": null,
      "outputs": [
        {
          "output_type": "stream",
          "name": "stdout",
          "text": [
            "Topic 1: treatment, depression, patients, antidepressant, schizophrenia, disorder, depressive, study, response, outcome\n",
            "Topic 2: la, en, que, les, los, des, et, para, une, se\n",
            "Topic 3: receptor, antidepressant, effects, effect, mice, test, modafinil, nmda, like, activity\n",
            "Topic 4: schizophrenia, olanzapine, patients, dyskinesia, tardive, weight, study, fatigue, gain, ranitidine\n",
            "Topic 5: schizophrenia, response, disorder, major, depressive, biomarkers, imaging, predict, paliperidone, palmitate\n",
            "Topic 6: olanzapine, depression, fluoxetine, bipolar, receptor, combination, treatment, resistant, test, gain\n",
            "Topic 7: schizophrenia, resistant, self, treatment, paliperidone, palmitate, depression, physicians, refractory, resident\n",
            "Topic 8: tablets, magnesium, imipramine, fatigue, release, syndrome, substances, duloxetine, effect, pain\n",
            "Topic 9: tablets, olanzapine, magnesium, imipramine, bipolar, release, substances, study, disorder, gain\n",
            "Topic 10: affective, bipolar, disorder, staging, illness, unipolar, case, depressive, resistant, tablets\n",
            "Topic 11: self, efficacy, induced, disorder, los, bipolar, antipsychotic, response, olanzapine, gain\n",
            "Topic 12: receptor, psychotropic, tablets, sigma, los, follow, days, children, 30, para\n",
            "Topic 13: self, receptor, sigma, stigma, disorder, les, discontinuation, olanzapine, des, dyskinesia\n",
            "Topic 14: les, des, et, psychotropic, une, antipsychotic, children, adolescents, le, use\n",
            "Topic 15: antipsychotic, weight, sigma, drug, gain, receptor, ranitidine, bmi, affective, group\n",
            "Topic 16: response, cognitive, effect, psychomotor, depression, clinical, antipsychotics, adolescents, self, children\n",
            "Topic 17: response, affective, staging, illness, unipolar, antidepressants, pain, psychiatric, 20, author\n",
            "Topic 18: depression, psychiatric, follow, sigma, days, 30, cognitive, caffeine, olanzapine, pain\n",
            "Topic 19: days, follow, 30, subsequent, utilization, treatment, mice, depressive, biomarkers, test\n",
            "Topic 20: complex, pain, pregabalin, dyskinesia, tardive, regional, syndrome, study, psychomotor, clinical\n",
            "Topic 21: patient, psychiatric, bipolar, collaborative, care, pregabalin, fluoxetine, weight, palmitate, paliperidone\n",
            "Topic 22: aripiprazole, dyskinesia, tardive, antipsychotic, effect, type, drug, follow, dampness, phlegm\n",
            "Topic 23: bpd, multiple, use, mao, melatonin, acetylserotonin, risk, sclerosis, mood, inequalities\n",
            "Topic 24: caffeine, nmda, intoxication, 20, cases, citalopram, fluoxetine, activity, multiple, swim\n",
            "Topic 25: response, trkb, bipolar, fluoxetine, lps, aripiprazole, bdnf, care, inflammation, il\n",
            "Topic 26: depressive, sigma, antidepressant, gain, use, france, canada, inequalities, psychomotor, ranitidine\n",
            "Topic 27: imaging, caffeine, magnetic, resonance, episode, psychosis, aripiprazole, cases, death, staging\n",
            "Topic 28: melatonin, disorders, episode, acetylserotonin, multiple, sclerosis, role, outcome, imaging, patient\n",
            "Topic 29: psychotropic, induced, swn, pain, pregabalin, 20, sigma, rating, regional, sustained\n",
            "Topic 30: bpd, mao, antidepressant, delirium, psychiatric, medication, france, canada, symptoms, inequalities\n",
            "Topic 31: remitters, responders, asenapine, non, days, clinical, follow, induced, naturalistic, modafinil\n",
            "Topic 32: fatigue, delirium, medication, discontinuation, trkb, melatonin, antipsychotic, dosing, acetylserotonin, duloxetine\n",
            "Topic 33: disease, trkb, acupuncture, bmi, complicated, subcortical, vascular, ischemic, psychiatric, risk\n",
            "Topic 34: melatonin, acetylserotonin, sclerosis, modafinil, multiple, disorders, antidepressant, effect, dopaminergic, remyelination\n",
            "Topic 35: france, canada, social, inequalities, sustained, care, ziprasidone, food, bioavailability, nanoemulsifying\n",
            "Topic 36: psychomotor, depressive, subcortical, vascular, trial, complicated, randomized, ischemic, controlled, medication\n",
            "Topic 37: pcps, care, 20, health, new, project, swn, state, teach, pediatric\n",
            "Topic 38: social, canada, france, inequalities, use, alstonine, dopamine, swn, cognitive, model\n",
            "Topic 39: physicians, group, fluoxetine, disorders, resident, randomized, da, drug, informal, nmda\n",
            "Topic 40: il, state, resistant, aripiprazole, melatonin, psychomotor, imaging, acetylserotonin, sclerosis, chronic\n",
            "Topic 41: receptors, glutamate, study, da, biomarkers, cognitive, ranitidine, risk, prescription, disease\n",
            "Topic 42: remission, patients, resistant, sigma, risk, used, bpd, sustained, ziprasidone, food\n",
            "Topic 43: da, em, antidepressivos, com, receptors, case, induced, uso, os, mais\n",
            "Topic 44: hippocampal, combination, group, venlafaxine, psychomotor, apoptosis, discontinuation, neurons, response, rat\n",
            "Topic 45: il, psychiatric, pulmonary, 001, care, patient, biomarkers, embolism, resistant, major\n",
            "Topic 46: il, anxiety, antipsychotic, pharmacogenetics, treated, effect, rats, kynurenine, pathway, cases\n",
            "Topic 47: cognitive, review, aggression, pregnancy, hostility, group, disorders, management, genetic, children\n",
            "Topic 48: induced, antidepressants, discontinuation, schizophrenia, case, mg, project, acid, aggregation, randomized\n",
            "Topic 49: resistant, report, case, antagonist, effects, novelty, metabotropic, suppressed, feeding, collaborative\n",
            "Topic 50: case, hippocampal, antidepressant, venlafaxine, apoptosis, report, acute, neurons, nmda, model\n"
          ]
        }
      ]
    },
    {
      "cell_type": "markdown",
      "source": [
        "###LSA - each topic 20 words"
      ],
      "metadata": {
        "id": "pNlwrCbhX_9v"
      }
    },
    {
      "cell_type": "code",
      "source": [
        "# Extract topics (words = 20)\n",
        "terms = vectorizer.get_feature_names_out()\n",
        "for i, topic in enumerate(svd.components_, start=1):\n",
        "    top_terms = \", \".join([terms[index] for index in topic.argsort()[:-21:-1]])\n",
        "    print(f\"Topic {i}: {top_terms}\")"
      ],
      "metadata": {
        "colab": {
          "base_uri": "https://localhost:8080/"
        },
        "id": "li8QyEQWYDaS",
        "outputId": "42600ac3-c5e9-4e81-ee49-d80f4f4db6e5"
      },
      "execution_count": null,
      "outputs": [
        {
          "output_type": "stream",
          "name": "stdout",
          "text": [
            "Topic 1: treatment, depression, patients, antidepressant, schizophrenia, disorder, depressive, study, response, outcome, self, resistant, predict, clinical, effects, bipolar, major, cognitive, effect, medication\n",
            "Topic 2: la, en, que, les, los, des, et, para, une, se, le, el, pour, traitement, una, las, ou, dans, sont, au\n",
            "Topic 3: receptor, antidepressant, effects, effect, mice, test, modafinil, nmda, like, activity, sigma, antagonist, glutamate, induced, study, receptors, dopaminergic, citalopram, trkb, involvement\n",
            "Topic 4: schizophrenia, olanzapine, patients, dyskinesia, tardive, weight, study, fatigue, gain, ranitidine, efficacy, 20, treated, paliperidone, group, assess, follow, chronic, duloxetine, incidence\n",
            "Topic 5: schizophrenia, response, disorder, major, depressive, biomarkers, imaging, predict, paliperidone, palmitate, predictors, resonance, magnetic, antipsychotic, receptor, antipsychotics, psychosis, outcome, genetic, remission\n",
            "Topic 6: olanzapine, depression, fluoxetine, bipolar, receptor, combination, treatment, resistant, test, gain, affective, ranitidine, staging, weight, unipolar, schizophrenia, nmda, induced, antagonist, randomized\n",
            "Topic 7: schizophrenia, resistant, self, treatment, paliperidone, palmitate, depression, physicians, refractory, resident, staging, informal, prescription, unipolar, tablets, disorders, clozapine, illness, discontinuation, release\n",
            "Topic 8: tablets, magnesium, imipramine, fatigue, release, syndrome, substances, duloxetine, effect, pain, treatment, active, excipients, chronic, self, antipsychotic, prepare, min, efficacy, composed\n",
            "Topic 9: tablets, olanzapine, magnesium, imipramine, bipolar, release, substances, study, disorder, gain, ranitidine, dyskinesia, tardive, active, weight, excipients, combination, children, prepare, min\n",
            "Topic 10: affective, bipolar, disorder, staging, illness, unipolar, case, depressive, resistant, tablets, disorders, symptoms, patients, psychiatric, psychomotor, prolonged, mood, effects, sigma, mania\n",
            "Topic 11: self, efficacy, induced, disorder, los, bipolar, antipsychotic, response, olanzapine, gain, stigma, para, ranitidine, psychiatric, discontinuation, type, la, aripiprazole, drug, syndrome\n",
            "Topic 12: receptor, psychotropic, tablets, sigma, los, follow, days, children, 30, para, health, adolescents, use, japan, la, test, claims, magnesium, imipramine, fatigue\n",
            "Topic 13: self, receptor, sigma, stigma, disorder, les, discontinuation, olanzapine, des, dyskinesia, tardive, bipolar, et, physicians, psychiatric, test, disorders, depressive, resident, sustained\n",
            "Topic 14: les, des, et, psychotropic, une, antipsychotic, children, adolescents, le, use, treatment, pour, traitement, patient, drug, health, japan, syndrome, dans, care\n",
            "Topic 15: antipsychotic, weight, sigma, drug, gain, receptor, ranitidine, bmi, affective, group, amenorrhea, effect, significant, treatment, dose, illness, aripiprazole, phlegm, dampness, control\n",
            "Topic 16: response, cognitive, effect, psychomotor, depression, clinical, antipsychotics, adolescents, self, children, elderly, deficits, pr, retardation, predictors, vortioxetine, psychotropic, schizophrenia, prediction, combination\n",
            "Topic 17: response, affective, staging, illness, unipolar, antidepressants, pain, psychiatric, 20, author, parikh, discontinuation, antipsychotics, prediction, concept, sigma, fatigue, syndrome, pregabalin, receptor\n",
            "Topic 18: depression, psychiatric, follow, sigma, days, 30, cognitive, caffeine, olanzapine, pain, pregabalin, response, ranitidine, gain, subsequent, utilization, multiple, quality, protein, complex\n",
            "Topic 19: days, follow, 30, subsequent, utilization, treatment, mice, depressive, biomarkers, test, health, modafinil, seven, state, service, response, readmitted, effect, unipolar, mental\n",
            "Topic 20: complex, pain, pregabalin, dyskinesia, tardive, regional, syndrome, study, psychomotor, clinical, patient, treatment, psychotropic, prevalence, olanzapine, disorders, naturalistic, cognitive, asenapine, delirium\n",
            "Topic 21: patient, psychiatric, bipolar, collaborative, care, pregabalin, fluoxetine, weight, palmitate, paliperidone, patients, regional, crps, antidepressant, pulmonary, pain, refractory, complex, reported, discontinuation\n",
            "Topic 22: aripiprazole, dyskinesia, tardive, antipsychotic, effect, type, drug, follow, dampness, phlegm, amenorrhea, days, psychomotor, wuji, powder, small, wp, bipolar, cognitive, collaborative\n",
            "Topic 23: bpd, multiple, use, mao, melatonin, acetylserotonin, risk, sclerosis, mood, inequalities, social, canada, france, bmi, pain, antidepressants, dyskinesia, tardive, vt, serotonin\n",
            "Topic 24: caffeine, nmda, intoxication, 20, cases, citalopram, fluoxetine, activity, multiple, swim, death, forced, melatonin, response, days, swn, psychomotor, role, acetylserotonin, 30\n",
            "Topic 25: response, trkb, bipolar, fluoxetine, lps, aripiprazole, bdnf, care, inflammation, il, days, clinical, pfc, sigma, schizophrenia, remitters, discontinuation, parikh, author, 30\n",
            "Topic 26: depressive, sigma, antidepressant, gain, use, france, canada, inequalities, psychomotor, ranitidine, weight, aripiprazole, efficacy, activity, social, nmda, patients, major, disorders, receptor\n",
            "Topic 27: imaging, caffeine, magnetic, resonance, episode, psychosis, aripiprazole, cases, death, staging, patient, induced, japan, illness, psychiatric, study, subjects, intoxication, test, schizophrenia\n",
            "Topic 28: melatonin, disorders, episode, acetylserotonin, multiple, sclerosis, role, outcome, imaging, patient, magnetic, resonance, drugs, spectrum, antipsychotic, care, early, factors, fluoxetine, prescription\n",
            "Topic 29: psychotropic, induced, swn, pain, pregabalin, 20, sigma, rating, regional, sustained, polypharmacy, rasch, model, ziprasidone, release, psychomotor, syndrome, children, complex, bpd\n",
            "Topic 30: bpd, mao, antidepressant, delirium, psychiatric, medication, france, canada, symptoms, inequalities, sigma, disease, mood, strategies, cases, dosing, controlled, social, olanzapine, dopaminergic\n",
            "Topic 31: remitters, responders, asenapine, non, days, clinical, follow, induced, naturalistic, modafinil, observational, 30, use, mice, vs, efficacy, remission, palmitate, utilization, subsequent\n",
            "Topic 32: fatigue, delirium, medication, discontinuation, trkb, melatonin, antipsychotic, dosing, acetylserotonin, duloxetine, sclerosis, alstonine, brain, examine, multiple, strategies, role, bdnf, scheduled, psychopharmacological\n",
            "Topic 33: disease, trkb, acupuncture, bmi, complicated, subcortical, vascular, ischemic, psychiatric, risk, sustained, ziprasidone, randomized, mechanism, medication, trial, activity, controlled, bdnf, difference\n",
            "Topic 34: melatonin, acetylserotonin, sclerosis, modafinil, multiple, disorders, antidepressant, effect, dopaminergic, remyelination, treatment, mitochondria, role, tst, response, involvement, delirium, evidence, mediated, ms\n",
            "Topic 35: france, canada, social, inequalities, sustained, care, ziprasidone, food, bioavailability, nanoemulsifying, release, effect, antidepressant, evaluation, reply, pcps, use, psychomotor, gain, drugs\n",
            "Topic 36: psychomotor, depressive, subcortical, vascular, trial, complicated, randomized, ischemic, controlled, medication, swn, acupuncture, reactivity, risk, depression, disease, using, manic, retardation, discontinuation\n",
            "Topic 37: pcps, care, 20, health, new, project, swn, state, teach, pediatric, cognitive, clinical, controlled, disease, model, trial, imaging, training, pt, complicated\n",
            "Topic 38: social, canada, france, inequalities, use, alstonine, dopamine, swn, cognitive, model, il, reply, metabotropic, suppressed, feeding, novelty, 20, delirium, indole, alkaloid\n",
            "Topic 39: physicians, group, fluoxetine, disorders, resident, randomized, da, drug, informal, nmda, trial, prevalence, citalopram, groups, 05, antidepressant, controlled, em, significant, antipsychotic\n",
            "Topic 40: il, state, resistant, aripiprazole, melatonin, psychomotor, imaging, acetylserotonin, sclerosis, chronic, project, inflammatory, pcps, sigma, alstonine, caffeine, dopamine, schizophrenia, therapy, magnetic\n",
            "Topic 41: receptors, glutamate, study, da, biomarkers, cognitive, ranitidine, risk, prescription, disease, health, present, russians, factors, bpd, deficits, em, disorder, tatars, paranoid\n",
            "Topic 42: remission, patients, resistant, sigma, risk, used, bpd, sustained, ziprasidone, food, mao, mdd, mri, induced, modafinil, bioavailability, functions, nanoemulsifying, receptors, activity\n",
            "Topic 43: da, em, antidepressivos, com, receptors, case, induced, uso, os, mais, medication, consumo, activity, ao, delirium, dos, report, prevalência, mechanism, 2012\n",
            "Topic 44: hippocampal, combination, group, venlafaxine, psychomotor, apoptosis, discontinuation, neurons, response, rat, risk, pharmacogenetics, fluoxetine, factor, pcps, predict, patients, derived, bdnf, factors\n",
            "Topic 45: il, psychiatric, pulmonary, 001, care, patient, biomarkers, embolism, resistant, major, dopamine, alstonine, antipsychotics, bpd, efficacy, children, da, stigma, medication, serum\n",
            "Topic 46: il, anxiety, antipsychotic, pharmacogenetics, treated, effect, rats, kynurenine, pathway, cases, physicians, drugs, patient, clinical, receptors, activity, asenapine, results, medicine, adverse\n",
            "Topic 47: cognitive, review, aggression, pregnancy, hostility, group, disorders, management, genetic, children, deficits, adolescents, sigma, persons, vortioxetine, combination, efficacy, control, discontinuation, pharmacogenetics\n",
            "Topic 48: induced, antidepressants, discontinuation, schizophrenia, case, mg, project, acid, aggregation, randomized, medication, day, groups, kg, older, biomarkers, participants, complex, trends, microscopic\n",
            "Topic 49: resistant, report, case, antagonist, effects, novelty, metabotropic, suppressed, feeding, collaborative, drugs, treatment, antidepressants, reported, behavior, clinical, discontinuation, serotonergic, glutamate, acid\n",
            "Topic 50: case, hippocampal, antidepressant, venlafaxine, apoptosis, report, acute, neurons, nmda, model, rat, factor, brain, consciousness, serum, derived, neurotrophic, episode, bis, poisoning\n"
          ]
        }
      ]
    },
    {
      "cell_type": "markdown",
      "source": [
        "##Preprocessing the text and applying Non-negative Matrix Factorization (NMF)"
      ],
      "metadata": {
        "id": "c_9POlS3LGaO"
      }
    },
    {
      "cell_type": "code",
      "source": [
        "import numpy as np\n",
        "from sklearn.feature_extraction.text import TfidfVectorizer\n",
        "from sklearn.decomposition import NMF\n",
        "from sklearn.pipeline import make_pipeline\n",
        "from sklearn.preprocessing import Normalizer\n",
        "\n",
        "# Define preprocessing function\n",
        "def preprocess_text(text):\n",
        "# Implement preprocessing steps\n",
        "    return text\n",
        "\n",
        "# Preprocess corpus\n",
        "preprocessed_corpus = [preprocess_text(doc) for doc in corpus.split('\\n')]\n",
        "\n",
        "# Create TF-IDF matrix\n",
        "vectorizer = TfidfVectorizer(stop_words='english')\n",
        "tfidf_matrix = vectorizer.fit_transform(preprocessed_corpus)\n",
        "\n",
        "# Apply Non-negative Matrix Factorization (NMF)\n",
        "n_topics = 50  # Number of topics to extract\n",
        "nmf = NMF(n_components=n_topics, random_state=1)\n",
        "nmf_matrix = nmf.fit_transform(tfidf_matrix)\n",
        "\n",
        "# Extract topics\n",
        "terms = vectorizer.get_feature_names_out()\n",
        "for i, topic in enumerate(nmf.components_, start=1):\n",
        "    top_terms = \", \".join([terms[index] for index in topic.argsort()[:-6:-1]])\n",
        "    print(f\"Topic {i}: {top_terms}\")"
      ],
      "metadata": {
        "id": "vYobFmlkSPK7",
        "outputId": "53198dbd-29f8-45cc-c952-eb9ec1dd7023",
        "colab": {
          "base_uri": "https://localhost:8080/"
        }
      },
      "execution_count": null,
      "outputs": [
        {
          "output_type": "stream",
          "name": "stdout",
          "text": [
            "Topic 1: treatment, depression, physicians, resident, resistant\n",
            "Topic 2: la, los, en, que, para\n",
            "Topic 3: nmda, citalopram, activity, fluoxetine, swim\n",
            "Topic 4: dyskinesia, tardive, olanzapine, incidence, schizophrenia\n",
            "Topic 5: disorder, major, biomarkers, depressive, treatment\n",
            "Topic 6: bipolar, combination, fluoxetine, olanzapine, disorder\n",
            "Topic 7: fatigue, duloxetine, syndrome, chronic, inventory\n",
            "Topic 8: tablets, imipramine, magnesium, substances, release\n",
            "Topic 9: gain, ranitidine, weight, olanzapine, 300\n",
            "Topic 10: affective, staging, illness, unipolar, resistant\n",
            "Topic 11: remission, patients, depressed, speed, mdd\n",
            "Topic 12: psychotropic, children, adolescents, japan, 2002\n",
            "Topic 13: stigma, self, anxiety, level, stigmatization\n",
            "Topic 14: les, des, la, et, une\n",
            "Topic 15: group, groups, significant, 05, waist\n",
            "Topic 16: cognitive, deficits, depression, vortioxetine, pr\n",
            "Topic 17: response, author, parikh, antipsychotics, predictors\n",
            "Topic 18: days, follow, 30, subsequent, utilization\n",
            "Topic 19: sigma, receptor, er, protein, quality\n",
            "Topic 20: paliperidone, palmitate, schizophrenia, gluteal, deltoid\n",
            "Topic 21: care, effects, collaborative, reported, antidepressant\n",
            "Topic 22: amenorrhea, phlegm, dampness, type, drug\n",
            "Topic 23: antidepressants, use, older, adults, bambuí\n",
            "Topic 24: caffeine, intoxication, death, cases, related\n",
            "Topic 25: modafinil, dopaminergic, effect, tst, antidepressant\n",
            "Topic 26: bpd, mao, acc, vt, pfc\n",
            "Topic 27: imaging, magnetic, resonance, psychosis, emission\n",
            "Topic 28: melatonin, multiple, acetylserotonin, sclerosis, role\n",
            "Topic 29: pain, pregabalin, regional, complex, syndrome\n",
            "Topic 30: delirium, dosing, psychopharmacological, scheduled, treatment\n",
            "Topic 31: trkb, lps, inflammation, bdnf, effects\n",
            "Topic 32: remitters, responders, non, asenapine, naturalistic\n",
            "Topic 33: risk, bmi, health, cardiovascular, factors\n",
            "Topic 34: antipsychotic, alstonine, dopamine, indole, alkaloid\n",
            "Topic 35: psychomotor, retardation, elderly, reactivity, unipolar\n",
            "Topic 36: sustained, ziprasidone, release, bioavailability, food\n",
            "Topic 37: canada, france, inequalities, social, use\n",
            "Topic 38: 20, swn, rasch, model, rating\n",
            "Topic 39: receptor, antagonist, test, feeding, metabotropic\n",
            "Topic 40: state, anxious, buspirone, complex, mice\n",
            "Topic 41: da, em, antidepressivos, com, uso\n",
            "Topic 42: episode, schizophrenia, prescription, practices, raise\n",
            "Topic 43: induced, pulmonary, patient, hypertension, bupropion\n",
            "Topic 44: aripiprazole, il, inflammatory, chronic, schizophrenia\n",
            "Topic 45: controlled, trial, randomized, complicated, subcortical\n",
            "Topic 46: aggregation, acid, platelets, emoxypine, magnesium\n",
            "Topic 47: discontinuation, self, epidemiology, surveys, advice\n",
            "Topic 48: hippocampal, venlafaxine, apoptosis, neurons, rat\n",
            "Topic 49: disorders, molecules, reamberin, cycloferon, average\n",
            "Topic 50: subscales, outcome, predict, early, depression\n"
          ]
        }
      ]
    },
    {
      "cell_type": "markdown",
      "source": [
        "###NMF - each topic 10 words"
      ],
      "metadata": {
        "id": "KlNPlqUwYTvx"
      }
    },
    {
      "cell_type": "code",
      "source": [
        "# Extract topics (words = 10)\n",
        "terms = vectorizer.get_feature_names_out()\n",
        "for i, topic in enumerate(svd.components_, start=1):\n",
        "    top_terms = \", \".join([terms[index] for index in topic.argsort()[:-11:-1]])\n",
        "    print(f\"Topic {i}: {top_terms}\")"
      ],
      "metadata": {
        "colab": {
          "base_uri": "https://localhost:8080/"
        },
        "id": "n7xXchFuYWfS",
        "outputId": "cae0b7a7-606b-4856-f1b6-9a7efd8dc8e4"
      },
      "execution_count": null,
      "outputs": [
        {
          "output_type": "stream",
          "name": "stdout",
          "text": [
            "Topic 1: treatment, depression, patients, antidepressant, schizophrenia, disorder, depressive, study, response, outcome\n",
            "Topic 2: la, en, que, les, los, des, et, para, une, se\n",
            "Topic 3: receptor, antidepressant, effects, effect, mice, test, modafinil, nmda, like, activity\n",
            "Topic 4: schizophrenia, olanzapine, patients, dyskinesia, tardive, weight, study, fatigue, gain, ranitidine\n",
            "Topic 5: schizophrenia, response, disorder, major, depressive, biomarkers, imaging, predict, paliperidone, palmitate\n",
            "Topic 6: olanzapine, depression, fluoxetine, bipolar, receptor, combination, treatment, resistant, test, gain\n",
            "Topic 7: schizophrenia, resistant, self, treatment, paliperidone, palmitate, depression, physicians, refractory, resident\n",
            "Topic 8: tablets, magnesium, imipramine, fatigue, release, syndrome, substances, duloxetine, effect, pain\n",
            "Topic 9: tablets, olanzapine, magnesium, imipramine, bipolar, release, substances, study, disorder, gain\n",
            "Topic 10: affective, bipolar, disorder, staging, illness, unipolar, case, depressive, resistant, tablets\n",
            "Topic 11: self, efficacy, induced, disorder, los, bipolar, antipsychotic, response, olanzapine, gain\n",
            "Topic 12: receptor, psychotropic, tablets, sigma, los, follow, days, children, 30, para\n",
            "Topic 13: self, receptor, sigma, stigma, disorder, les, discontinuation, olanzapine, des, dyskinesia\n",
            "Topic 14: les, des, et, psychotropic, une, antipsychotic, children, adolescents, le, use\n",
            "Topic 15: antipsychotic, weight, sigma, drug, gain, receptor, ranitidine, bmi, affective, group\n",
            "Topic 16: response, cognitive, effect, psychomotor, depression, clinical, antipsychotics, adolescents, self, children\n",
            "Topic 17: response, affective, staging, illness, unipolar, antidepressants, pain, psychiatric, 20, author\n",
            "Topic 18: depression, psychiatric, follow, sigma, days, 30, cognitive, caffeine, olanzapine, pain\n",
            "Topic 19: days, follow, 30, subsequent, utilization, treatment, mice, depressive, biomarkers, test\n",
            "Topic 20: complex, pain, pregabalin, dyskinesia, tardive, regional, syndrome, study, psychomotor, clinical\n",
            "Topic 21: patient, psychiatric, bipolar, collaborative, care, pregabalin, fluoxetine, weight, palmitate, paliperidone\n",
            "Topic 22: aripiprazole, dyskinesia, tardive, antipsychotic, effect, type, drug, follow, dampness, phlegm\n",
            "Topic 23: bpd, multiple, use, mao, melatonin, acetylserotonin, risk, sclerosis, mood, inequalities\n",
            "Topic 24: caffeine, nmda, intoxication, 20, cases, citalopram, fluoxetine, activity, multiple, swim\n",
            "Topic 25: response, trkb, bipolar, fluoxetine, lps, aripiprazole, bdnf, care, inflammation, il\n",
            "Topic 26: depressive, sigma, antidepressant, gain, use, france, canada, inequalities, psychomotor, ranitidine\n",
            "Topic 27: imaging, caffeine, magnetic, resonance, episode, psychosis, aripiprazole, cases, death, staging\n",
            "Topic 28: melatonin, disorders, episode, acetylserotonin, multiple, sclerosis, role, outcome, imaging, patient\n",
            "Topic 29: psychotropic, induced, swn, pain, pregabalin, 20, sigma, rating, regional, sustained\n",
            "Topic 30: bpd, mao, antidepressant, delirium, psychiatric, medication, france, canada, symptoms, inequalities\n",
            "Topic 31: remitters, responders, asenapine, non, days, clinical, follow, induced, naturalistic, modafinil\n",
            "Topic 32: fatigue, delirium, medication, discontinuation, trkb, melatonin, antipsychotic, dosing, acetylserotonin, duloxetine\n",
            "Topic 33: disease, trkb, acupuncture, bmi, complicated, subcortical, vascular, ischemic, psychiatric, risk\n",
            "Topic 34: melatonin, acetylserotonin, sclerosis, modafinil, multiple, disorders, antidepressant, effect, dopaminergic, remyelination\n",
            "Topic 35: france, canada, social, inequalities, sustained, care, ziprasidone, food, bioavailability, nanoemulsifying\n",
            "Topic 36: psychomotor, depressive, subcortical, vascular, trial, complicated, randomized, ischemic, controlled, medication\n",
            "Topic 37: pcps, care, 20, health, new, project, swn, state, teach, pediatric\n",
            "Topic 38: social, canada, france, inequalities, use, alstonine, dopamine, swn, cognitive, model\n",
            "Topic 39: physicians, group, fluoxetine, disorders, resident, randomized, da, drug, informal, nmda\n",
            "Topic 40: il, state, resistant, aripiprazole, melatonin, psychomotor, imaging, acetylserotonin, sclerosis, chronic\n",
            "Topic 41: receptors, glutamate, study, da, biomarkers, cognitive, ranitidine, risk, prescription, disease\n",
            "Topic 42: remission, patients, resistant, sigma, risk, used, bpd, sustained, ziprasidone, food\n",
            "Topic 43: da, em, antidepressivos, com, receptors, case, induced, uso, os, mais\n",
            "Topic 44: hippocampal, combination, group, venlafaxine, psychomotor, apoptosis, discontinuation, neurons, response, rat\n",
            "Topic 45: il, psychiatric, pulmonary, 001, care, patient, biomarkers, embolism, resistant, major\n",
            "Topic 46: il, anxiety, antipsychotic, pharmacogenetics, treated, effect, rats, kynurenine, pathway, cases\n",
            "Topic 47: cognitive, review, aggression, pregnancy, hostility, group, disorders, management, genetic, children\n",
            "Topic 48: induced, antidepressants, discontinuation, schizophrenia, case, mg, project, acid, aggregation, randomized\n",
            "Topic 49: resistant, report, case, antagonist, effects, novelty, metabotropic, suppressed, feeding, collaborative\n",
            "Topic 50: case, hippocampal, antidepressant, venlafaxine, apoptosis, report, acute, neurons, nmda, model\n"
          ]
        }
      ]
    },
    {
      "cell_type": "markdown",
      "source": [
        "###NMF - each topic 20 words"
      ],
      "metadata": {
        "id": "9c2bvDX4YWzj"
      }
    },
    {
      "cell_type": "code",
      "source": [
        "# Extract topics\n",
        "terms = vectorizer.get_feature_names_out()\n",
        "for i, topic in enumerate(svd.components_, start=1):\n",
        "    top_terms = \", \".join([terms[index] for index in topic.argsort()[:-21:-1]])\n",
        "    print(f\"Topic {i}: {top_terms}\")"
      ],
      "metadata": {
        "colab": {
          "base_uri": "https://localhost:8080/"
        },
        "id": "vImtBRdYYZqD",
        "outputId": "e179cd6d-5f0a-4422-87c6-0958edea6041"
      },
      "execution_count": null,
      "outputs": [
        {
          "output_type": "stream",
          "name": "stdout",
          "text": [
            "Topic 1: treatment, depression, patients, antidepressant, schizophrenia, disorder, depressive, study, response, outcome, self, resistant, predict, clinical, effects, bipolar, major, cognitive, effect, medication\n",
            "Topic 2: la, en, que, les, los, des, et, para, une, se, le, el, pour, traitement, una, las, ou, dans, sont, au\n",
            "Topic 3: receptor, antidepressant, effects, effect, mice, test, modafinil, nmda, like, activity, sigma, antagonist, glutamate, induced, study, receptors, dopaminergic, citalopram, trkb, involvement\n",
            "Topic 4: schizophrenia, olanzapine, patients, dyskinesia, tardive, weight, study, fatigue, gain, ranitidine, efficacy, 20, treated, paliperidone, group, assess, follow, chronic, duloxetine, incidence\n",
            "Topic 5: schizophrenia, response, disorder, major, depressive, biomarkers, imaging, predict, paliperidone, palmitate, predictors, resonance, magnetic, antipsychotic, receptor, antipsychotics, psychosis, outcome, genetic, remission\n",
            "Topic 6: olanzapine, depression, fluoxetine, bipolar, receptor, combination, treatment, resistant, test, gain, affective, ranitidine, staging, weight, unipolar, schizophrenia, nmda, induced, antagonist, randomized\n",
            "Topic 7: schizophrenia, resistant, self, treatment, paliperidone, palmitate, depression, physicians, refractory, resident, staging, informal, prescription, unipolar, tablets, disorders, clozapine, illness, discontinuation, release\n",
            "Topic 8: tablets, magnesium, imipramine, fatigue, release, syndrome, substances, duloxetine, effect, pain, treatment, active, excipients, chronic, self, antipsychotic, prepare, min, efficacy, composed\n",
            "Topic 9: tablets, olanzapine, magnesium, imipramine, bipolar, release, substances, study, disorder, gain, ranitidine, dyskinesia, tardive, active, weight, excipients, combination, children, prepare, min\n",
            "Topic 10: affective, bipolar, disorder, staging, illness, unipolar, case, depressive, resistant, tablets, disorders, symptoms, patients, psychiatric, psychomotor, prolonged, mood, effects, sigma, mania\n",
            "Topic 11: self, efficacy, induced, disorder, los, bipolar, antipsychotic, response, olanzapine, gain, stigma, para, ranitidine, psychiatric, discontinuation, type, la, aripiprazole, drug, syndrome\n",
            "Topic 12: receptor, psychotropic, tablets, sigma, los, follow, days, children, 30, para, health, adolescents, use, japan, la, test, claims, magnesium, imipramine, fatigue\n",
            "Topic 13: self, receptor, sigma, stigma, disorder, les, discontinuation, olanzapine, des, dyskinesia, tardive, bipolar, et, physicians, psychiatric, test, disorders, depressive, resident, sustained\n",
            "Topic 14: les, des, et, psychotropic, une, antipsychotic, children, adolescents, le, use, treatment, pour, traitement, patient, drug, health, japan, syndrome, dans, care\n",
            "Topic 15: antipsychotic, weight, sigma, drug, gain, receptor, ranitidine, bmi, affective, group, amenorrhea, effect, significant, treatment, dose, illness, aripiprazole, phlegm, dampness, control\n",
            "Topic 16: response, cognitive, effect, psychomotor, depression, clinical, antipsychotics, adolescents, self, children, elderly, deficits, pr, retardation, predictors, vortioxetine, psychotropic, schizophrenia, prediction, combination\n",
            "Topic 17: response, affective, staging, illness, unipolar, antidepressants, pain, psychiatric, 20, author, parikh, discontinuation, antipsychotics, prediction, concept, sigma, fatigue, syndrome, pregabalin, receptor\n",
            "Topic 18: depression, psychiatric, follow, sigma, days, 30, cognitive, caffeine, olanzapine, pain, pregabalin, response, ranitidine, gain, subsequent, utilization, multiple, quality, protein, complex\n",
            "Topic 19: days, follow, 30, subsequent, utilization, treatment, mice, depressive, biomarkers, test, health, modafinil, seven, state, service, response, readmitted, effect, unipolar, mental\n",
            "Topic 20: complex, pain, pregabalin, dyskinesia, tardive, regional, syndrome, study, psychomotor, clinical, patient, treatment, psychotropic, prevalence, olanzapine, disorders, naturalistic, cognitive, asenapine, delirium\n",
            "Topic 21: patient, psychiatric, bipolar, collaborative, care, pregabalin, fluoxetine, weight, palmitate, paliperidone, patients, regional, crps, antidepressant, pulmonary, pain, refractory, complex, reported, discontinuation\n",
            "Topic 22: aripiprazole, dyskinesia, tardive, antipsychotic, effect, type, drug, follow, dampness, phlegm, amenorrhea, days, psychomotor, wuji, powder, small, wp, bipolar, cognitive, collaborative\n",
            "Topic 23: bpd, multiple, use, mao, melatonin, acetylserotonin, risk, sclerosis, mood, inequalities, social, canada, france, bmi, pain, antidepressants, dyskinesia, tardive, vt, serotonin\n",
            "Topic 24: caffeine, nmda, intoxication, 20, cases, citalopram, fluoxetine, activity, multiple, swim, death, forced, melatonin, response, days, swn, psychomotor, role, acetylserotonin, 30\n",
            "Topic 25: response, trkb, bipolar, fluoxetine, lps, aripiprazole, bdnf, care, inflammation, il, days, clinical, pfc, sigma, schizophrenia, remitters, discontinuation, parikh, author, 30\n",
            "Topic 26: depressive, sigma, antidepressant, gain, use, france, canada, inequalities, psychomotor, ranitidine, weight, aripiprazole, efficacy, activity, social, nmda, patients, major, disorders, receptor\n",
            "Topic 27: imaging, caffeine, magnetic, resonance, episode, psychosis, aripiprazole, cases, death, staging, patient, induced, japan, illness, psychiatric, study, subjects, intoxication, test, schizophrenia\n",
            "Topic 28: melatonin, disorders, episode, acetylserotonin, multiple, sclerosis, role, outcome, imaging, patient, magnetic, resonance, drugs, spectrum, antipsychotic, care, early, factors, fluoxetine, prescription\n",
            "Topic 29: psychotropic, induced, swn, pain, pregabalin, 20, sigma, rating, regional, sustained, polypharmacy, rasch, model, ziprasidone, release, psychomotor, syndrome, children, complex, bpd\n",
            "Topic 30: bpd, mao, antidepressant, delirium, psychiatric, medication, france, canada, symptoms, inequalities, sigma, disease, mood, strategies, cases, dosing, controlled, social, olanzapine, dopaminergic\n",
            "Topic 31: remitters, responders, asenapine, non, days, clinical, follow, induced, naturalistic, modafinil, observational, 30, use, mice, vs, efficacy, remission, palmitate, utilization, subsequent\n",
            "Topic 32: fatigue, delirium, medication, discontinuation, trkb, melatonin, antipsychotic, dosing, acetylserotonin, duloxetine, sclerosis, alstonine, brain, examine, multiple, strategies, role, bdnf, scheduled, psychopharmacological\n",
            "Topic 33: disease, trkb, acupuncture, bmi, complicated, subcortical, vascular, ischemic, psychiatric, risk, sustained, ziprasidone, randomized, mechanism, medication, trial, activity, controlled, bdnf, difference\n",
            "Topic 34: melatonin, acetylserotonin, sclerosis, modafinil, multiple, disorders, antidepressant, effect, dopaminergic, remyelination, treatment, mitochondria, role, tst, response, involvement, delirium, evidence, mediated, ms\n",
            "Topic 35: france, canada, social, inequalities, sustained, care, ziprasidone, food, bioavailability, nanoemulsifying, release, effect, antidepressant, evaluation, reply, pcps, use, psychomotor, gain, drugs\n",
            "Topic 36: psychomotor, depressive, subcortical, vascular, trial, complicated, randomized, ischemic, controlled, medication, swn, acupuncture, reactivity, risk, depression, disease, using, manic, retardation, discontinuation\n",
            "Topic 37: pcps, care, 20, health, new, project, swn, state, teach, pediatric, cognitive, clinical, controlled, disease, model, trial, imaging, training, pt, complicated\n",
            "Topic 38: social, canada, france, inequalities, use, alstonine, dopamine, swn, cognitive, model, il, reply, metabotropic, suppressed, feeding, novelty, 20, delirium, indole, alkaloid\n",
            "Topic 39: physicians, group, fluoxetine, disorders, resident, randomized, da, drug, informal, nmda, trial, prevalence, citalopram, groups, 05, antidepressant, controlled, em, significant, antipsychotic\n",
            "Topic 40: il, state, resistant, aripiprazole, melatonin, psychomotor, imaging, acetylserotonin, sclerosis, chronic, project, inflammatory, pcps, sigma, alstonine, caffeine, dopamine, schizophrenia, therapy, magnetic\n",
            "Topic 41: receptors, glutamate, study, da, biomarkers, cognitive, ranitidine, risk, prescription, disease, health, present, russians, factors, bpd, deficits, em, disorder, tatars, paranoid\n",
            "Topic 42: remission, patients, resistant, sigma, risk, used, bpd, sustained, ziprasidone, food, mao, mdd, mri, induced, modafinil, bioavailability, functions, nanoemulsifying, receptors, activity\n",
            "Topic 43: da, em, antidepressivos, com, receptors, case, induced, uso, os, mais, medication, consumo, activity, ao, delirium, dos, report, prevalência, mechanism, 2012\n",
            "Topic 44: hippocampal, combination, group, venlafaxine, psychomotor, apoptosis, discontinuation, neurons, response, rat, risk, pharmacogenetics, fluoxetine, factor, pcps, predict, patients, derived, bdnf, factors\n",
            "Topic 45: il, psychiatric, pulmonary, 001, care, patient, biomarkers, embolism, resistant, major, dopamine, alstonine, antipsychotics, bpd, efficacy, children, da, stigma, medication, serum\n",
            "Topic 46: il, anxiety, antipsychotic, pharmacogenetics, treated, effect, rats, kynurenine, pathway, cases, physicians, drugs, patient, clinical, receptors, activity, asenapine, results, medicine, adverse\n",
            "Topic 47: cognitive, review, aggression, pregnancy, hostility, group, disorders, management, genetic, children, deficits, adolescents, sigma, persons, vortioxetine, combination, efficacy, control, discontinuation, pharmacogenetics\n",
            "Topic 48: induced, antidepressants, discontinuation, schizophrenia, case, mg, project, acid, aggregation, randomized, medication, day, groups, kg, older, biomarkers, participants, complex, trends, microscopic\n",
            "Topic 49: resistant, report, case, antagonist, effects, novelty, metabotropic, suppressed, feeding, collaborative, drugs, treatment, antidepressants, reported, behavior, clinical, discontinuation, serotonergic, glutamate, acid\n",
            "Topic 50: case, hippocampal, antidepressant, venlafaxine, apoptosis, report, acute, neurons, nmda, model, rat, factor, brain, consciousness, serum, derived, neurotrophic, episode, bis, poisoning\n"
          ]
        }
      ]
    },
    {
      "cell_type": "markdown",
      "source": [
        "##Preprocessing text and applying Latent Dirichlet Allocation (LDA)"
      ],
      "metadata": {
        "id": "aORzQbxiL9D8"
      }
    },
    {
      "cell_type": "code",
      "source": [
        "from sklearn.feature_extraction.text import CountVectorizer\n",
        "from sklearn.decomposition import LatentDirichletAllocation\n",
        "\n",
        "# Define preprocessing function\n",
        "def preprocess_text(text):\n",
        "\n",
        "    # Implement preprocessing steps\n",
        "    return text\n",
        "\n",
        "# Preprocess corpus\n",
        "preprocessed_corpus = [preprocess_text(doc) for doc in corpus.split('\\n')]\n",
        "\n",
        "# Create CountVectorizer to convert text into a matrix of token counts\n",
        "vectorizer = CountVectorizer(stop_words='english')\n",
        "doc_term_matrix = vectorizer.fit_transform(preprocessed_corpus)\n",
        "\n",
        "# Define number of topics\n",
        "num_topics = 50\n",
        "\n",
        "# Apply LDA\n",
        "lda = LatentDirichletAllocation(n_components=num_topics, random_state=42)\n",
        "lda.fit(doc_term_matrix)\n",
        "\n",
        "# Print topics generated by LDA model\n",
        "terms = vectorizer.get_feature_names_out()\n",
        "for topic_idx, topic in enumerate(lda.components_):\n",
        "    top_terms = \", \".join([terms[i] for i in topic.argsort()[:-6:-1]])\n",
        "    print(f\"Topic {topic_idx + 1}: {top_terms}\")"
      ],
      "metadata": {
        "id": "t6w_0k1XL-qX",
        "outputId": "d08b2949-2571-4e97-f421-623cbba48fa7",
        "colab": {
          "base_uri": "https://localhost:8080/"
        }
      },
      "execution_count": null,
      "outputs": [
        {
          "output_type": "stream",
          "name": "stdout",
          "text": [
            "Topic 1: antidepressant, social, canada, france, inequalities\n",
            "Topic 2: non, baseline, significant, patients, responders\n",
            "Topic 3: lps, effects, induced, behavior, depression\n",
            "Topic 4: treatment, mri, used, clinical, alterations\n",
            "Topic 5: 95, ci, use, antidepressants, pour\n",
            "Topic 6: effects, patients, care, depression, collaborative\n",
            "Topic 7: swn, 20, items, prototypical, depressive\n",
            "Topic 8: major, tablets, episodes, caffeine, pourrait\n",
            "Topic 9: tasks, depression, copying, neuropsychological, major\n",
            "Topic 10: level, concentration, consciousness, effets, phenobarbital\n",
            "Topic 11: treatment, antipsychotic, patient, medication, kyna\n",
            "Topic 12: fatigue, syndrome, treatment, pain, duloxetine\n",
            "Topic 13: release, sustained, snedds, ziprasidone, kg\n",
            "Topic 14: groups, treatment, group, 05, 30\n",
            "Topic 15: receptor, depression, effect, antagonist, test\n",
            "Topic 16: la, que, los, una, se\n",
            "Topic 17: psychomotor, controlled, trial, randomized, effects\n",
            "Topic 18: depression, cognitive, participants, measures, effect\n",
            "Topic 19: alstonine, effects, da, dopamine, antipsychotic\n",
            "Topic 20: outcome, dyskinesia, tardive, incidence, olanzapine\n",
            "Topic 21: induced, anxiety, trh, treated, increase\n",
            "Topic 22: residents, depression, em, da, com\n",
            "Topic 23: il, hippocampal, venlafaxine, apoptosis, neurons\n",
            "Topic 24: group, treatment, patients, self, drug\n",
            "Topic 25: sigma, receptor, er, receptors, ligands\n",
            "Topic 26: treatment, genetic, response, antipsychotic, comprised\n",
            "Topic 27: items, group, fatigue, duloxetine, inventory\n",
            "Topic 28: bpd, mao, depression, pfc, acc\n",
            "Topic 29: schizophrenia, grik2, genetic, study, russians\n",
            "Topic 30: aggression, ssds, hostility, management, inpatients\n",
            "Topic 31: vte, risk, aps, patients, treatment\n",
            "Topic 32: 20, swn, rating, rasch, model\n",
            "Topic 33: users, bmi, risk, health, antidepressants\n",
            "Topic 34: la, des, les, et, une\n",
            "Topic 35: melatonin, ms, acetylserotonin, increased, serotonin\n",
            "Topic 36: patients, treatment, depression, bupropion, molecules\n",
            "Topic 37: patients, treatment, remission, imaging, cognitive\n",
            "Topic 38: treatment, rats, depression, propionate, testosterone\n",
            "Topic 39: kg, ip, depression, accumbal, deficits\n",
            "Topic 40: days, follow, 30, subsequent, utilization\n",
            "Topic 41: tablets, magnesium, imipramine, quality, protein\n",
            "Topic 42: la, en, los, que, para\n",
            "Topic 43: strategies, work, treatment, resistant, physical\n",
            "Topic 44: patients, treatment, illness, depression, drug\n",
            "Topic 45: test, fluoxetine, citalopram, nmda, patients\n",
            "Topic 46: treatment, caffeine, group, difference, 05\n",
            "Topic 47: malformations, risk, major, pregnancy, specific\n",
            "Topic 48: depressive, self, complex, state, anxious\n",
            "Topic 49: treatment, depressive, response, patients, major\n",
            "Topic 50: patients, facteurs, injections, gluteal, deltoid\n"
          ]
        }
      ]
    },
    {
      "cell_type": "markdown",
      "source": [
        "###LDA - each topic with 10 words"
      ],
      "metadata": {
        "id": "F_VRFlvyaBFC"
      }
    },
    {
      "cell_type": "code",
      "source": [
        " # Extract topics (words = 10)\n",
        "terms = vectorizer.get_feature_names_out()\n",
        "for i, topic in enumerate(svd.components_, start=1):\n",
        "    top_terms = \", \".join([terms[index] for index in topic.argsort()[:-11:-1]])\n",
        "    print(f\"Topic {i}: {top_terms}\")"
      ],
      "metadata": {
        "colab": {
          "base_uri": "https://localhost:8080/"
        },
        "id": "5GlFZPGraEha",
        "outputId": "07f6a9ad-30a9-47a0-a45b-65d84575d782"
      },
      "execution_count": null,
      "outputs": [
        {
          "output_type": "stream",
          "name": "stdout",
          "text": [
            "Topic 1: treatment, depression, patients, antidepressant, schizophrenia, disorder, depressive, study, response, outcome\n",
            "Topic 2: la, en, que, les, los, des, et, para, une, se\n",
            "Topic 3: receptor, antidepressant, effects, effect, mice, test, modafinil, nmda, like, activity\n",
            "Topic 4: schizophrenia, olanzapine, patients, dyskinesia, tardive, weight, study, fatigue, gain, ranitidine\n",
            "Topic 5: schizophrenia, response, disorder, major, depressive, biomarkers, imaging, predict, paliperidone, palmitate\n",
            "Topic 6: olanzapine, depression, fluoxetine, bipolar, receptor, combination, treatment, resistant, test, gain\n",
            "Topic 7: schizophrenia, resistant, self, treatment, paliperidone, palmitate, depression, physicians, refractory, resident\n",
            "Topic 8: tablets, magnesium, imipramine, fatigue, release, syndrome, substances, duloxetine, effect, pain\n",
            "Topic 9: tablets, olanzapine, magnesium, imipramine, bipolar, release, substances, study, disorder, gain\n",
            "Topic 10: affective, bipolar, disorder, staging, illness, unipolar, case, depressive, resistant, tablets\n",
            "Topic 11: self, efficacy, induced, disorder, los, bipolar, antipsychotic, response, olanzapine, gain\n",
            "Topic 12: receptor, psychotropic, tablets, sigma, los, follow, days, children, 30, para\n",
            "Topic 13: self, receptor, sigma, stigma, disorder, les, discontinuation, olanzapine, des, dyskinesia\n",
            "Topic 14: les, des, et, psychotropic, une, antipsychotic, children, adolescents, le, use\n",
            "Topic 15: antipsychotic, weight, sigma, drug, gain, receptor, ranitidine, bmi, affective, group\n",
            "Topic 16: response, cognitive, effect, psychomotor, depression, clinical, antipsychotics, adolescents, self, children\n",
            "Topic 17: response, affective, staging, illness, unipolar, antidepressants, pain, psychiatric, 20, author\n",
            "Topic 18: depression, psychiatric, follow, sigma, days, 30, cognitive, caffeine, olanzapine, pain\n",
            "Topic 19: days, follow, 30, subsequent, utilization, treatment, mice, depressive, biomarkers, test\n",
            "Topic 20: complex, pain, pregabalin, dyskinesia, tardive, regional, syndrome, study, psychomotor, clinical\n",
            "Topic 21: patient, psychiatric, bipolar, collaborative, care, pregabalin, fluoxetine, weight, palmitate, paliperidone\n",
            "Topic 22: aripiprazole, dyskinesia, tardive, antipsychotic, effect, type, drug, follow, dampness, phlegm\n",
            "Topic 23: bpd, multiple, use, mao, melatonin, acetylserotonin, risk, sclerosis, mood, inequalities\n",
            "Topic 24: caffeine, nmda, intoxication, 20, cases, citalopram, fluoxetine, activity, multiple, swim\n",
            "Topic 25: response, trkb, bipolar, fluoxetine, lps, aripiprazole, bdnf, care, inflammation, il\n",
            "Topic 26: depressive, sigma, antidepressant, gain, use, france, canada, inequalities, psychomotor, ranitidine\n",
            "Topic 27: imaging, caffeine, magnetic, resonance, episode, psychosis, aripiprazole, cases, death, staging\n",
            "Topic 28: melatonin, disorders, episode, acetylserotonin, multiple, sclerosis, role, outcome, imaging, patient\n",
            "Topic 29: psychotropic, induced, swn, pain, pregabalin, 20, sigma, rating, regional, sustained\n",
            "Topic 30: bpd, mao, antidepressant, delirium, psychiatric, medication, france, canada, symptoms, inequalities\n",
            "Topic 31: remitters, responders, asenapine, non, days, clinical, follow, induced, naturalistic, modafinil\n",
            "Topic 32: fatigue, delirium, medication, discontinuation, trkb, melatonin, antipsychotic, dosing, acetylserotonin, duloxetine\n",
            "Topic 33: disease, trkb, acupuncture, bmi, complicated, subcortical, vascular, ischemic, psychiatric, risk\n",
            "Topic 34: melatonin, acetylserotonin, sclerosis, modafinil, multiple, disorders, antidepressant, effect, dopaminergic, remyelination\n",
            "Topic 35: france, canada, social, inequalities, sustained, care, ziprasidone, food, bioavailability, nanoemulsifying\n",
            "Topic 36: psychomotor, depressive, subcortical, vascular, trial, complicated, randomized, ischemic, controlled, medication\n",
            "Topic 37: pcps, care, 20, health, new, project, swn, state, teach, pediatric\n",
            "Topic 38: social, canada, france, inequalities, use, alstonine, dopamine, swn, cognitive, model\n",
            "Topic 39: physicians, group, fluoxetine, disorders, resident, randomized, da, drug, informal, nmda\n",
            "Topic 40: il, state, resistant, aripiprazole, melatonin, psychomotor, imaging, acetylserotonin, sclerosis, chronic\n",
            "Topic 41: receptors, glutamate, study, da, biomarkers, cognitive, ranitidine, risk, prescription, disease\n",
            "Topic 42: remission, patients, resistant, sigma, risk, used, bpd, sustained, ziprasidone, food\n",
            "Topic 43: da, em, antidepressivos, com, receptors, case, induced, uso, os, mais\n",
            "Topic 44: hippocampal, combination, group, venlafaxine, psychomotor, apoptosis, discontinuation, neurons, response, rat\n",
            "Topic 45: il, psychiatric, pulmonary, 001, care, patient, biomarkers, embolism, resistant, major\n",
            "Topic 46: il, anxiety, antipsychotic, pharmacogenetics, treated, effect, rats, kynurenine, pathway, cases\n",
            "Topic 47: cognitive, review, aggression, pregnancy, hostility, group, disorders, management, genetic, children\n",
            "Topic 48: induced, antidepressants, discontinuation, schizophrenia, case, mg, project, acid, aggregation, randomized\n",
            "Topic 49: resistant, report, case, antagonist, effects, novelty, metabotropic, suppressed, feeding, collaborative\n",
            "Topic 50: case, hippocampal, antidepressant, venlafaxine, apoptosis, report, acute, neurons, nmda, model\n"
          ]
        }
      ]
    },
    {
      "cell_type": "markdown",
      "source": [
        "###LDA - each topic with 20 words"
      ],
      "metadata": {
        "id": "39zvDMXIaNAm"
      }
    },
    {
      "cell_type": "code",
      "source": [
        "# Extract topics\n",
        "terms = vectorizer.get_feature_names_out()\n",
        "for i, topic in enumerate(svd.components_, start=1):\n",
        "    top_terms = \", \".join([terms[index] for index in topic.argsort()[:-21:-1]])\n",
        "    print(f\"Topic {i}: {top_terms}\")"
      ],
      "metadata": {
        "id": "Zw2YygF0aQAS",
        "outputId": "2a6d8c67-1670-4e3e-edaa-4742a57f7a75",
        "colab": {
          "base_uri": "https://localhost:8080/"
        }
      },
      "execution_count": null,
      "outputs": [
        {
          "output_type": "stream",
          "name": "stdout",
          "text": [
            "Topic 1: treatment, depression, patients, antidepressant, schizophrenia, disorder, depressive, study, response, outcome, self, resistant, predict, clinical, effects, bipolar, major, cognitive, effect, medication\n",
            "Topic 2: la, en, que, les, los, des, et, para, une, se, le, el, pour, traitement, una, las, ou, dans, sont, au\n",
            "Topic 3: receptor, antidepressant, effects, effect, mice, test, modafinil, nmda, like, activity, sigma, antagonist, glutamate, induced, study, receptors, dopaminergic, citalopram, trkb, involvement\n",
            "Topic 4: schizophrenia, olanzapine, patients, dyskinesia, tardive, weight, study, fatigue, gain, ranitidine, efficacy, 20, treated, paliperidone, group, assess, follow, chronic, duloxetine, incidence\n",
            "Topic 5: schizophrenia, response, disorder, major, depressive, biomarkers, imaging, predict, paliperidone, palmitate, predictors, resonance, magnetic, antipsychotic, receptor, antipsychotics, psychosis, outcome, genetic, remission\n",
            "Topic 6: olanzapine, depression, fluoxetine, bipolar, receptor, combination, treatment, resistant, test, gain, affective, ranitidine, staging, weight, unipolar, schizophrenia, nmda, induced, antagonist, randomized\n",
            "Topic 7: schizophrenia, resistant, self, treatment, paliperidone, palmitate, depression, physicians, refractory, resident, staging, informal, prescription, unipolar, tablets, disorders, clozapine, illness, discontinuation, release\n",
            "Topic 8: tablets, magnesium, imipramine, fatigue, release, syndrome, substances, duloxetine, effect, pain, treatment, active, excipients, chronic, self, antipsychotic, prepare, min, efficacy, composed\n",
            "Topic 9: tablets, olanzapine, magnesium, imipramine, bipolar, release, substances, study, disorder, gain, ranitidine, dyskinesia, tardive, active, weight, excipients, combination, children, prepare, min\n",
            "Topic 10: affective, bipolar, disorder, staging, illness, unipolar, case, depressive, resistant, tablets, disorders, symptoms, patients, psychiatric, psychomotor, prolonged, mood, effects, sigma, mania\n",
            "Topic 11: self, efficacy, induced, disorder, los, bipolar, antipsychotic, response, olanzapine, gain, stigma, para, ranitidine, psychiatric, discontinuation, type, la, aripiprazole, drug, syndrome\n",
            "Topic 12: receptor, psychotropic, tablets, sigma, los, follow, days, children, 30, para, health, adolescents, use, japan, la, test, claims, magnesium, imipramine, fatigue\n",
            "Topic 13: self, receptor, sigma, stigma, disorder, les, discontinuation, olanzapine, des, dyskinesia, tardive, bipolar, et, physicians, psychiatric, test, disorders, depressive, resident, sustained\n",
            "Topic 14: les, des, et, psychotropic, une, antipsychotic, children, adolescents, le, use, treatment, pour, traitement, patient, drug, health, japan, syndrome, dans, care\n",
            "Topic 15: antipsychotic, weight, sigma, drug, gain, receptor, ranitidine, bmi, affective, group, amenorrhea, effect, significant, treatment, dose, illness, aripiprazole, phlegm, dampness, control\n",
            "Topic 16: response, cognitive, effect, psychomotor, depression, clinical, antipsychotics, adolescents, self, children, elderly, deficits, pr, retardation, predictors, vortioxetine, psychotropic, schizophrenia, prediction, combination\n",
            "Topic 17: response, affective, staging, illness, unipolar, antidepressants, pain, psychiatric, 20, author, parikh, discontinuation, antipsychotics, prediction, concept, sigma, fatigue, syndrome, pregabalin, receptor\n",
            "Topic 18: depression, psychiatric, follow, sigma, days, 30, cognitive, caffeine, olanzapine, pain, pregabalin, response, ranitidine, gain, subsequent, utilization, multiple, quality, protein, complex\n",
            "Topic 19: days, follow, 30, subsequent, utilization, treatment, mice, depressive, biomarkers, test, health, modafinil, seven, state, service, response, readmitted, effect, unipolar, mental\n",
            "Topic 20: complex, pain, pregabalin, dyskinesia, tardive, regional, syndrome, study, psychomotor, clinical, patient, treatment, psychotropic, prevalence, olanzapine, disorders, naturalistic, cognitive, asenapine, delirium\n",
            "Topic 21: patient, psychiatric, bipolar, collaborative, care, pregabalin, fluoxetine, weight, palmitate, paliperidone, patients, regional, crps, antidepressant, pulmonary, pain, refractory, complex, reported, discontinuation\n",
            "Topic 22: aripiprazole, dyskinesia, tardive, antipsychotic, effect, type, drug, follow, dampness, phlegm, amenorrhea, days, psychomotor, wuji, powder, small, wp, bipolar, cognitive, collaborative\n",
            "Topic 23: bpd, multiple, use, mao, melatonin, acetylserotonin, risk, sclerosis, mood, inequalities, social, canada, france, bmi, pain, antidepressants, dyskinesia, tardive, vt, serotonin\n",
            "Topic 24: caffeine, nmda, intoxication, 20, cases, citalopram, fluoxetine, activity, multiple, swim, death, forced, melatonin, response, days, swn, psychomotor, role, acetylserotonin, 30\n",
            "Topic 25: response, trkb, bipolar, fluoxetine, lps, aripiprazole, bdnf, care, inflammation, il, days, clinical, pfc, sigma, schizophrenia, remitters, discontinuation, parikh, author, 30\n",
            "Topic 26: depressive, sigma, antidepressant, gain, use, france, canada, inequalities, psychomotor, ranitidine, weight, aripiprazole, efficacy, activity, social, nmda, patients, major, disorders, receptor\n",
            "Topic 27: imaging, caffeine, magnetic, resonance, episode, psychosis, aripiprazole, cases, death, staging, patient, induced, japan, illness, psychiatric, study, subjects, intoxication, test, schizophrenia\n",
            "Topic 28: melatonin, disorders, episode, acetylserotonin, multiple, sclerosis, role, outcome, imaging, patient, magnetic, resonance, drugs, spectrum, antipsychotic, care, early, factors, fluoxetine, prescription\n",
            "Topic 29: psychotropic, induced, swn, pain, pregabalin, 20, sigma, rating, regional, sustained, polypharmacy, rasch, model, ziprasidone, release, psychomotor, syndrome, children, complex, bpd\n",
            "Topic 30: bpd, mao, antidepressant, delirium, psychiatric, medication, france, canada, symptoms, inequalities, sigma, disease, mood, strategies, cases, dosing, controlled, social, olanzapine, dopaminergic\n",
            "Topic 31: remitters, responders, asenapine, non, days, clinical, follow, induced, naturalistic, modafinil, observational, 30, use, mice, vs, efficacy, remission, palmitate, utilization, subsequent\n",
            "Topic 32: fatigue, delirium, medication, discontinuation, trkb, melatonin, antipsychotic, dosing, acetylserotonin, duloxetine, sclerosis, alstonine, brain, examine, multiple, strategies, role, bdnf, scheduled, psychopharmacological\n",
            "Topic 33: disease, trkb, acupuncture, bmi, complicated, subcortical, vascular, ischemic, psychiatric, risk, sustained, ziprasidone, randomized, mechanism, medication, trial, activity, controlled, bdnf, difference\n",
            "Topic 34: melatonin, acetylserotonin, sclerosis, modafinil, multiple, disorders, antidepressant, effect, dopaminergic, remyelination, treatment, mitochondria, role, tst, response, involvement, delirium, evidence, mediated, ms\n",
            "Topic 35: france, canada, social, inequalities, sustained, care, ziprasidone, food, bioavailability, nanoemulsifying, release, effect, antidepressant, evaluation, reply, pcps, use, psychomotor, gain, drugs\n",
            "Topic 36: psychomotor, depressive, subcortical, vascular, trial, complicated, randomized, ischemic, controlled, medication, swn, acupuncture, reactivity, risk, depression, disease, using, manic, retardation, discontinuation\n",
            "Topic 37: pcps, care, 20, health, new, project, swn, state, teach, pediatric, cognitive, clinical, controlled, disease, model, trial, imaging, training, pt, complicated\n",
            "Topic 38: social, canada, france, inequalities, use, alstonine, dopamine, swn, cognitive, model, il, reply, metabotropic, suppressed, feeding, novelty, 20, delirium, indole, alkaloid\n",
            "Topic 39: physicians, group, fluoxetine, disorders, resident, randomized, da, drug, informal, nmda, trial, prevalence, citalopram, groups, 05, antidepressant, controlled, em, significant, antipsychotic\n",
            "Topic 40: il, state, resistant, aripiprazole, melatonin, psychomotor, imaging, acetylserotonin, sclerosis, chronic, project, inflammatory, pcps, sigma, alstonine, caffeine, dopamine, schizophrenia, therapy, magnetic\n",
            "Topic 41: receptors, glutamate, study, da, biomarkers, cognitive, ranitidine, risk, prescription, disease, health, present, russians, factors, bpd, deficits, em, disorder, tatars, paranoid\n",
            "Topic 42: remission, patients, resistant, sigma, risk, used, bpd, sustained, ziprasidone, food, mao, mdd, mri, induced, modafinil, bioavailability, functions, nanoemulsifying, receptors, activity\n",
            "Topic 43: da, em, antidepressivos, com, receptors, case, induced, uso, os, mais, medication, consumo, activity, ao, delirium, dos, report, prevalência, mechanism, 2012\n",
            "Topic 44: hippocampal, combination, group, venlafaxine, psychomotor, apoptosis, discontinuation, neurons, response, rat, risk, pharmacogenetics, fluoxetine, factor, pcps, predict, patients, derived, bdnf, factors\n",
            "Topic 45: il, psychiatric, pulmonary, 001, care, patient, biomarkers, embolism, resistant, major, dopamine, alstonine, antipsychotics, bpd, efficacy, children, da, stigma, medication, serum\n",
            "Topic 46: il, anxiety, antipsychotic, pharmacogenetics, treated, effect, rats, kynurenine, pathway, cases, physicians, drugs, patient, clinical, receptors, activity, asenapine, results, medicine, adverse\n",
            "Topic 47: cognitive, review, aggression, pregnancy, hostility, group, disorders, management, genetic, children, deficits, adolescents, sigma, persons, vortioxetine, combination, efficacy, control, discontinuation, pharmacogenetics\n",
            "Topic 48: induced, antidepressants, discontinuation, schizophrenia, case, mg, project, acid, aggregation, randomized, medication, day, groups, kg, older, biomarkers, participants, complex, trends, microscopic\n",
            "Topic 49: resistant, report, case, antagonist, effects, novelty, metabotropic, suppressed, feeding, collaborative, drugs, treatment, antidepressants, reported, behavior, clinical, discontinuation, serotonergic, glutamate, acid\n",
            "Topic 50: case, hippocampal, antidepressant, venlafaxine, apoptosis, report, acute, neurons, nmda, model, rat, factor, brain, consciousness, serum, derived, neurotrophic, episode, bis, poisoning\n"
          ]
        }
      ]
    },
    {
      "cell_type": "markdown",
      "source": [
        "##Preprocess the text and apply Semantic Signal Separation (with and without publication year filter)\n"
      ],
      "metadata": {
        "id": "cknqKqziMl7X"
      }
    },
    {
      "cell_type": "code",
      "source": [
        "!pip install turftopic\n"
      ],
      "metadata": {
        "colab": {
          "base_uri": "https://localhost:8080/"
        },
        "id": "jbHYejYm99a-",
        "outputId": "5591bd30-3562-4436-e889-d5cb379861dd"
      },
      "execution_count": null,
      "outputs": [
        {
          "output_type": "stream",
          "name": "stdout",
          "text": [
            "Requirement already satisfied: turftopic in /usr/local/lib/python3.10/dist-packages (0.2.13)\n",
            "Requirement already satisfied: numpy<2.0.0,>=1.23.0 in /usr/local/lib/python3.10/dist-packages (from turftopic) (1.25.2)\n",
            "Requirement already satisfied: rich<14.0.0,>=13.6.0 in /usr/local/lib/python3.10/dist-packages (from turftopic) (13.7.1)\n",
            "Requirement already satisfied: scikit-learn<2.0.0,>=1.2.0 in /usr/local/lib/python3.10/dist-packages (from turftopic) (1.2.2)\n",
            "Requirement already satisfied: scipy<2.0.0,>=1.10.0 in /usr/local/lib/python3.10/dist-packages (from turftopic) (1.11.4)\n",
            "Requirement already satisfied: sentence-transformers<3.0.0,>=2.2.0 in /usr/local/lib/python3.10/dist-packages (from turftopic) (2.6.1)\n",
            "Requirement already satisfied: torch<3.0.0,>=2.1.0 in /usr/local/lib/python3.10/dist-packages (from turftopic) (2.2.1+cu121)\n",
            "Requirement already satisfied: markdown-it-py>=2.2.0 in /usr/local/lib/python3.10/dist-packages (from rich<14.0.0,>=13.6.0->turftopic) (3.0.0)\n",
            "Requirement already satisfied: pygments<3.0.0,>=2.13.0 in /usr/local/lib/python3.10/dist-packages (from rich<14.0.0,>=13.6.0->turftopic) (2.16.1)\n",
            "Requirement already satisfied: joblib>=1.1.1 in /usr/local/lib/python3.10/dist-packages (from scikit-learn<2.0.0,>=1.2.0->turftopic) (1.3.2)\n",
            "Requirement already satisfied: threadpoolctl>=2.0.0 in /usr/local/lib/python3.10/dist-packages (from scikit-learn<2.0.0,>=1.2.0->turftopic) (3.4.0)\n",
            "Requirement already satisfied: transformers<5.0.0,>=4.32.0 in /usr/local/lib/python3.10/dist-packages (from sentence-transformers<3.0.0,>=2.2.0->turftopic) (4.38.2)\n",
            "Requirement already satisfied: tqdm in /usr/local/lib/python3.10/dist-packages (from sentence-transformers<3.0.0,>=2.2.0->turftopic) (4.66.2)\n",
            "Requirement already satisfied: huggingface-hub>=0.15.1 in /usr/local/lib/python3.10/dist-packages (from sentence-transformers<3.0.0,>=2.2.0->turftopic) (0.20.3)\n",
            "Requirement already satisfied: Pillow in /usr/local/lib/python3.10/dist-packages (from sentence-transformers<3.0.0,>=2.2.0->turftopic) (9.4.0)\n",
            "Requirement already satisfied: filelock in /usr/local/lib/python3.10/dist-packages (from torch<3.0.0,>=2.1.0->turftopic) (3.13.3)\n",
            "Requirement already satisfied: typing-extensions>=4.8.0 in /usr/local/lib/python3.10/dist-packages (from torch<3.0.0,>=2.1.0->turftopic) (4.10.0)\n",
            "Requirement already satisfied: sympy in /usr/local/lib/python3.10/dist-packages (from torch<3.0.0,>=2.1.0->turftopic) (1.12)\n",
            "Requirement already satisfied: networkx in /usr/local/lib/python3.10/dist-packages (from torch<3.0.0,>=2.1.0->turftopic) (3.2.1)\n",
            "Requirement already satisfied: jinja2 in /usr/local/lib/python3.10/dist-packages (from torch<3.0.0,>=2.1.0->turftopic) (3.1.3)\n",
            "Requirement already satisfied: fsspec in /usr/local/lib/python3.10/dist-packages (from torch<3.0.0,>=2.1.0->turftopic) (2023.6.0)\n",
            "Requirement already satisfied: nvidia-cuda-nvrtc-cu12==12.1.105 in /usr/local/lib/python3.10/dist-packages (from torch<3.0.0,>=2.1.0->turftopic) (12.1.105)\n",
            "Requirement already satisfied: nvidia-cuda-runtime-cu12==12.1.105 in /usr/local/lib/python3.10/dist-packages (from torch<3.0.0,>=2.1.0->turftopic) (12.1.105)\n",
            "Requirement already satisfied: nvidia-cuda-cupti-cu12==12.1.105 in /usr/local/lib/python3.10/dist-packages (from torch<3.0.0,>=2.1.0->turftopic) (12.1.105)\n",
            "Requirement already satisfied: nvidia-cudnn-cu12==8.9.2.26 in /usr/local/lib/python3.10/dist-packages (from torch<3.0.0,>=2.1.0->turftopic) (8.9.2.26)\n",
            "Requirement already satisfied: nvidia-cublas-cu12==12.1.3.1 in /usr/local/lib/python3.10/dist-packages (from torch<3.0.0,>=2.1.0->turftopic) (12.1.3.1)\n",
            "Requirement already satisfied: nvidia-cufft-cu12==11.0.2.54 in /usr/local/lib/python3.10/dist-packages (from torch<3.0.0,>=2.1.0->turftopic) (11.0.2.54)\n",
            "Requirement already satisfied: nvidia-curand-cu12==10.3.2.106 in /usr/local/lib/python3.10/dist-packages (from torch<3.0.0,>=2.1.0->turftopic) (10.3.2.106)\n",
            "Requirement already satisfied: nvidia-cusolver-cu12==11.4.5.107 in /usr/local/lib/python3.10/dist-packages (from torch<3.0.0,>=2.1.0->turftopic) (11.4.5.107)\n",
            "Requirement already satisfied: nvidia-cusparse-cu12==12.1.0.106 in /usr/local/lib/python3.10/dist-packages (from torch<3.0.0,>=2.1.0->turftopic) (12.1.0.106)\n",
            "Requirement already satisfied: nvidia-nccl-cu12==2.19.3 in /usr/local/lib/python3.10/dist-packages (from torch<3.0.0,>=2.1.0->turftopic) (2.19.3)\n",
            "Requirement already satisfied: nvidia-nvtx-cu12==12.1.105 in /usr/local/lib/python3.10/dist-packages (from torch<3.0.0,>=2.1.0->turftopic) (12.1.105)\n",
            "Requirement already satisfied: triton==2.2.0 in /usr/local/lib/python3.10/dist-packages (from torch<3.0.0,>=2.1.0->turftopic) (2.2.0)\n",
            "Requirement already satisfied: nvidia-nvjitlink-cu12 in /usr/local/lib/python3.10/dist-packages (from nvidia-cusolver-cu12==11.4.5.107->torch<3.0.0,>=2.1.0->turftopic) (12.4.127)\n",
            "Requirement already satisfied: requests in /usr/local/lib/python3.10/dist-packages (from huggingface-hub>=0.15.1->sentence-transformers<3.0.0,>=2.2.0->turftopic) (2.31.0)\n",
            "Requirement already satisfied: pyyaml>=5.1 in /usr/local/lib/python3.10/dist-packages (from huggingface-hub>=0.15.1->sentence-transformers<3.0.0,>=2.2.0->turftopic) (6.0.1)\n",
            "Requirement already satisfied: packaging>=20.9 in /usr/local/lib/python3.10/dist-packages (from huggingface-hub>=0.15.1->sentence-transformers<3.0.0,>=2.2.0->turftopic) (24.0)\n",
            "Requirement already satisfied: mdurl~=0.1 in /usr/local/lib/python3.10/dist-packages (from markdown-it-py>=2.2.0->rich<14.0.0,>=13.6.0->turftopic) (0.1.2)\n",
            "Requirement already satisfied: regex!=2019.12.17 in /usr/local/lib/python3.10/dist-packages (from transformers<5.0.0,>=4.32.0->sentence-transformers<3.0.0,>=2.2.0->turftopic) (2023.12.25)\n",
            "Requirement already satisfied: tokenizers<0.19,>=0.14 in /usr/local/lib/python3.10/dist-packages (from transformers<5.0.0,>=4.32.0->sentence-transformers<3.0.0,>=2.2.0->turftopic) (0.15.2)\n",
            "Requirement already satisfied: safetensors>=0.4.1 in /usr/local/lib/python3.10/dist-packages (from transformers<5.0.0,>=4.32.0->sentence-transformers<3.0.0,>=2.2.0->turftopic) (0.4.2)\n",
            "Requirement already satisfied: MarkupSafe>=2.0 in /usr/local/lib/python3.10/dist-packages (from jinja2->torch<3.0.0,>=2.1.0->turftopic) (2.1.5)\n",
            "Requirement already satisfied: mpmath>=0.19 in /usr/local/lib/python3.10/dist-packages (from sympy->torch<3.0.0,>=2.1.0->turftopic) (1.3.0)\n",
            "Requirement already satisfied: charset-normalizer<4,>=2 in /usr/local/lib/python3.10/dist-packages (from requests->huggingface-hub>=0.15.1->sentence-transformers<3.0.0,>=2.2.0->turftopic) (3.3.2)\n",
            "Requirement already satisfied: idna<4,>=2.5 in /usr/local/lib/python3.10/dist-packages (from requests->huggingface-hub>=0.15.1->sentence-transformers<3.0.0,>=2.2.0->turftopic) (3.6)\n",
            "Requirement already satisfied: urllib3<3,>=1.21.1 in /usr/local/lib/python3.10/dist-packages (from requests->huggingface-hub>=0.15.1->sentence-transformers<3.0.0,>=2.2.0->turftopic) (2.0.7)\n",
            "Requirement already satisfied: certifi>=2017.4.17 in /usr/local/lib/python3.10/dist-packages (from requests->huggingface-hub>=0.15.1->sentence-transformers<3.0.0,>=2.2.0->turftopic) (2024.2.2)\n"
          ]
        }
      ]
    },
    {
      "cell_type": "code",
      "source": [
        "from turftopic import SemanticSignalSeparation\n"
      ],
      "metadata": {
        "id": "pfBnq-6_Ritp"
      },
      "execution_count": null,
      "outputs": []
    },
    {
      "cell_type": "code",
      "source": [
        "# Define preprocessing function\n",
        "def preprocess_text(text):\n",
        "    # Implement preprocessing steps\n",
        "    return text\n",
        "\n",
        "# Collect articles\n",
        "search_term = \"(((mood) OR (depress*) OR (affective disorder)) OR ((psychosis) OR (schizo*) OR (psychotic))) AND ((psychedelic OR hallucinogen OR entheogen OR hallucinogenic OR psychotropic)) AND (2014/2024[Date - Publication])\"\n",
        "results = pubmed.query(search_term)\n",
        "corpus = \"\"\n",
        "\n",
        "# Collect article texts\n",
        "for article in results:\n",
        "    articleDict = article.toDict()\n",
        "\n",
        "    # Combine title, abstract, and keywords into one text\n",
        "    text = f\"{articleDict['title']}\\n{articleDict.get('abstract', '')}\\n{' '.join(articleDict.get('keywords', []))}\"\n",
        "\n",
        "    # Append text to corpus\n",
        "    corpus += text + \"\\n\"\n",
        "\n",
        "# Preprocess corpus\n",
        "preprocessed_corpus = [preprocess_text(doc) for doc in corpus.split('\\n')]\n",
        "\n",
        "# Initialize and fit the SemanticSignalSeparation model\n",
        "model = SemanticSignalSeparation(10, encoder=\"all-MiniLM-L12-v2\")\n",
        "model.fit(preprocessed_corpus)\n",
        "\n",
        "# Print topics\n",
        "model.print_topics()\n"
      ],
      "metadata": {
        "colab": {
          "base_uri": "https://localhost:8080/",
          "referenced_widgets": [
            "cba388cac37448449d02f141fbddb47c",
            "3aaba54b28bf4be0b52c5d6649c64416"
          ]
        },
        "id": "gSZ5M_k5RlF0",
        "outputId": "e702082b-69b6-4c25-ccbd-f68713ad7dd7"
      },
      "execution_count": null,
      "outputs": [
        {
          "output_type": "display_data",
          "data": {
            "text/plain": [
              "Output()"
            ],
            "application/vnd.jupyter.widget-view+json": {
              "version_major": 2,
              "version_minor": 0,
              "model_id": "cba388cac37448449d02f141fbddb47c"
            }
          },
          "metadata": {}
        },
        {
          "output_type": "display_data",
          "data": {
            "text/plain": [
              "\u001b[2;36m[15:49:24]\u001b[0m\u001b[2;36m \u001b[0mDocuments encoded.                                                                          \u001b]8;id=584295;file:///usr/local/lib/python3.10/dist-packages/turftopic/models/decomp.py\u001b\\\u001b[2mdecomp.py\u001b[0m\u001b]8;;\u001b\\\u001b[2m:\u001b[0m\u001b]8;id=599730;file:///usr/local/lib/python3.10/dist-packages/turftopic/models/decomp.py#75\u001b\\\u001b[2m75\u001b[0m\u001b]8;;\u001b\\\n"
            ],
            "text/html": [
              "<pre style=\"white-space:pre;overflow-x:auto;line-height:normal;font-family:Menlo,'DejaVu Sans Mono',consolas,'Courier New',monospace\"><span style=\"color: #7fbfbf; text-decoration-color: #7fbfbf\">[15:49:24] </span>Documents encoded.                                                                          <a href=\"file:///usr/local/lib/python3.10/dist-packages/turftopic/models/decomp.py\" target=\"_blank\"><span style=\"color: #7f7f7f; text-decoration-color: #7f7f7f\">decomp.py</span></a><span style=\"color: #7f7f7f; text-decoration-color: #7f7f7f\">:</span><a href=\"file:///usr/local/lib/python3.10/dist-packages/turftopic/models/decomp.py#75\" target=\"_blank\"><span style=\"color: #7f7f7f; text-decoration-color: #7f7f7f\">75</span></a>\n",
              "</pre>\n"
            ]
          },
          "metadata": {}
        },
        {
          "output_type": "display_data",
          "data": {
            "text/plain": [
              "/usr/local/lib/python3.10/dist-packages/sklearn/decomposition/_fastica.py:542: FutureWarning: Starting in v1.3, \n",
              "whiten='unit-variance' will be used by default.\n",
              "  warnings.warn(\n"
            ],
            "text/html": [
              "<pre style=\"white-space:pre;overflow-x:auto;line-height:normal;font-family:Menlo,'DejaVu Sans Mono',consolas,'Courier New',monospace\">/usr/local/lib/python3.10/dist-packages/sklearn/decomposition/_fastica.py:542: FutureWarning: Starting in v1.3, \n",
              "whiten='unit-variance' will be used by default.\n",
              "  warnings.warn(\n",
              "</pre>\n"
            ]
          },
          "metadata": {}
        },
        {
          "output_type": "display_data",
          "data": {
            "text/plain": [
              "/usr/local/lib/python3.10/dist-packages/sklearn/decomposition/_fastica.py:123: ConvergenceWarning: FastICA did not \n",
              "converge. Consider increasing tolerance or the maximum number of iterations.\n",
              "  warnings.warn(\n"
            ],
            "text/html": [
              "<pre style=\"white-space:pre;overflow-x:auto;line-height:normal;font-family:Menlo,'DejaVu Sans Mono',consolas,'Courier New',monospace\">/usr/local/lib/python3.10/dist-packages/sklearn/decomposition/_fastica.py:123: ConvergenceWarning: FastICA did not \n",
              "converge. Consider increasing tolerance or the maximum number of iterations.\n",
              "  warnings.warn(\n",
              "</pre>\n"
            ]
          },
          "metadata": {}
        },
        {
          "output_type": "display_data",
          "data": {
            "text/plain": [
              "\u001b[2;36m[15:49:25]\u001b[0m\u001b[2;36m \u001b[0mDecomposition done.                                                                         \u001b]8;id=841980;file:///usr/local/lib/python3.10/dist-packages/turftopic/models/decomp.py\u001b\\\u001b[2mdecomp.py\u001b[0m\u001b]8;;\u001b\\\u001b[2m:\u001b[0m\u001b]8;id=761181;file:///usr/local/lib/python3.10/dist-packages/turftopic/models/decomp.py#78\u001b\\\u001b[2m78\u001b[0m\u001b]8;;\u001b\\\n"
            ],
            "text/html": [
              "<pre style=\"white-space:pre;overflow-x:auto;line-height:normal;font-family:Menlo,'DejaVu Sans Mono',consolas,'Courier New',monospace\"><span style=\"color: #7fbfbf; text-decoration-color: #7fbfbf\">[15:49:25] </span>Decomposition done.                                                                         <a href=\"file:///usr/local/lib/python3.10/dist-packages/turftopic/models/decomp.py\" target=\"_blank\"><span style=\"color: #7f7f7f; text-decoration-color: #7f7f7f\">decomp.py</span></a><span style=\"color: #7f7f7f; text-decoration-color: #7f7f7f\">:</span><a href=\"file:///usr/local/lib/python3.10/dist-packages/turftopic/models/decomp.py#78\" target=\"_blank\"><span style=\"color: #7f7f7f; text-decoration-color: #7f7f7f\">78</span></a>\n",
              "</pre>\n"
            ]
          },
          "metadata": {}
        },
        {
          "output_type": "display_data",
          "data": {
            "text/plain": [
              "\u001b[2;36m          \u001b[0m\u001b[2;36m \u001b[0mTerm extraction done.                                                                       \u001b]8;id=35453;file:///usr/local/lib/python3.10/dist-packages/turftopic/models/decomp.py\u001b\\\u001b[2mdecomp.py\u001b[0m\u001b]8;;\u001b\\\u001b[2m:\u001b[0m\u001b]8;id=306147;file:///usr/local/lib/python3.10/dist-packages/turftopic/models/decomp.py#81\u001b\\\u001b[2m81\u001b[0m\u001b]8;;\u001b\\\n"
            ],
            "text/html": [
              "<pre style=\"white-space:pre;overflow-x:auto;line-height:normal;font-family:Menlo,'DejaVu Sans Mono',consolas,'Courier New',monospace\"><span style=\"color: #7fbfbf; text-decoration-color: #7fbfbf\">           </span>Term extraction done.                                                                       <a href=\"file:///usr/local/lib/python3.10/dist-packages/turftopic/models/decomp.py\" target=\"_blank\"><span style=\"color: #7f7f7f; text-decoration-color: #7f7f7f\">decomp.py</span></a><span style=\"color: #7f7f7f; text-decoration-color: #7f7f7f\">:</span><a href=\"file:///usr/local/lib/python3.10/dist-packages/turftopic/models/decomp.py#81\" target=\"_blank\"><span style=\"color: #7f7f7f; text-decoration-color: #7f7f7f\">81</span></a>\n",
              "</pre>\n"
            ]
          },
          "metadata": {}
        },
        {
          "output_type": "display_data",
          "data": {
            "text/plain": [
              "\u001b[2;36m          \u001b[0m\u001b[2;36m \u001b[0mVocabulary encoded.                                                                         \u001b]8;id=905733;file:///usr/local/lib/python3.10/dist-packages/turftopic/models/decomp.py\u001b\\\u001b[2mdecomp.py\u001b[0m\u001b]8;;\u001b\\\u001b[2m:\u001b[0m\u001b]8;id=338190;file:///usr/local/lib/python3.10/dist-packages/turftopic/models/decomp.py#84\u001b\\\u001b[2m84\u001b[0m\u001b]8;;\u001b\\\n"
            ],
            "text/html": [
              "<pre style=\"white-space:pre;overflow-x:auto;line-height:normal;font-family:Menlo,'DejaVu Sans Mono',consolas,'Courier New',monospace\"><span style=\"color: #7fbfbf; text-decoration-color: #7fbfbf\">           </span>Vocabulary encoded.                                                                         <a href=\"file:///usr/local/lib/python3.10/dist-packages/turftopic/models/decomp.py\" target=\"_blank\"><span style=\"color: #7f7f7f; text-decoration-color: #7f7f7f\">decomp.py</span></a><span style=\"color: #7f7f7f; text-decoration-color: #7f7f7f\">:</span><a href=\"file:///usr/local/lib/python3.10/dist-packages/turftopic/models/decomp.py#84\" target=\"_blank\"><span style=\"color: #7f7f7f; text-decoration-color: #7f7f7f\">84</span></a>\n",
              "</pre>\n"
            ]
          },
          "metadata": {}
        },
        {
          "output_type": "display_data",
          "data": {
            "text/plain": [
              "\u001b[2;36m          \u001b[0m\u001b[2;36m \u001b[0mModel fitting done.                                                                         \u001b]8;id=927982;file:///usr/local/lib/python3.10/dist-packages/turftopic/models/decomp.py\u001b\\\u001b[2mdecomp.py\u001b[0m\u001b]8;;\u001b\\\u001b[2m:\u001b[0m\u001b]8;id=303772;file:///usr/local/lib/python3.10/dist-packages/turftopic/models/decomp.py#88\u001b\\\u001b[2m88\u001b[0m\u001b]8;;\u001b\\\n"
            ],
            "text/html": [
              "<pre style=\"white-space:pre;overflow-x:auto;line-height:normal;font-family:Menlo,'DejaVu Sans Mono',consolas,'Courier New',monospace\"><span style=\"color: #7fbfbf; text-decoration-color: #7fbfbf\">           </span>Model fitting done.                                                                         <a href=\"file:///usr/local/lib/python3.10/dist-packages/turftopic/models/decomp.py\" target=\"_blank\"><span style=\"color: #7f7f7f; text-decoration-color: #7f7f7f\">decomp.py</span></a><span style=\"color: #7f7f7f; text-decoration-color: #7f7f7f\">:</span><a href=\"file:///usr/local/lib/python3.10/dist-packages/turftopic/models/decomp.py#88\" target=\"_blank\"><span style=\"color: #7f7f7f; text-decoration-color: #7f7f7f\">88</span></a>\n",
              "</pre>\n"
            ]
          },
          "metadata": {}
        },
        {
          "output_type": "display_data",
          "data": {
            "text/plain": [],
            "text/html": [
              "<pre style=\"white-space:pre;overflow-x:auto;line-height:normal;font-family:Menlo,'DejaVu Sans Mono',consolas,'Courier New',monospace\"></pre>\n"
            ]
          },
          "metadata": {}
        },
        {
          "output_type": "display_data",
          "data": {
            "text/plain": [
              "┏━━━━━━━━━━┳━━━━━━━━━━━━━━━━━━━━━━━━━━━━━━━━━━━━━━━━━━━━━━━━━━━┳━━━━━━━━━━━━━━━━━━━━━━━━━━━━━━━━━━━━━━━━━━━━━━━━━━┓\n",
              "┃\u001b[1m \u001b[0m\u001b[1mTopic ID\u001b[0m\u001b[1m \u001b[0m┃\u001b[1m \u001b[0m\u001b[1mHighest Ranking                                  \u001b[0m\u001b[1m \u001b[0m┃\u001b[1m \u001b[0m\u001b[1mLowest Ranking                                  \u001b[0m\u001b[1m \u001b[0m┃\n",
              "┡━━━━━━━━━━╇━━━━━━━━━━━━━━━━━━━━━━━━━━━━━━━━━━━━━━━━━━━━━━━━━━━╇━━━━━━━━━━━━━━━━━━━━━━━━━━━━━━━━━━━━━━━━━━━━━━━━━━┩\n",
              "│\u001b[34m \u001b[0m\u001b[34m       0\u001b[0m\u001b[34m \u001b[0m│\u001b[35m \u001b[0m\u001b[35mschizophrenia, psychotropic, brain, psychiatric, \u001b[0m\u001b[35m \u001b[0m│\u001b[31m \u001b[0m\u001b[31mremission, weight, results, measures, outcome   \u001b[0m\u001b[31m \u001b[0m│\n",
              "│\u001b[34m          \u001b[0m│\u001b[35m \u001b[0m\u001b[35mantipsychotic                                    \u001b[0m\u001b[35m \u001b[0m│\u001b[31m                                                  \u001b[0m│\n",
              "├──────────┼───────────────────────────────────────────────────┼──────────────────────────────────────────────────┤\n",
              "│\u001b[34m \u001b[0m\u001b[34m       1\u001b[0m\u001b[34m \u001b[0m│\u001b[35m \u001b[0m\u001b[35mbipolar, mood, cognitive, psychiatric, brain     \u001b[0m\u001b[35m \u001b[0m│\u001b[31m \u001b[0m\u001b[31massociated, medications, treatments, weight,    \u001b[0m\u001b[31m \u001b[0m│\n",
              "│\u001b[34m          \u001b[0m│\u001b[35m                                                   \u001b[0m│\u001b[31m \u001b[0m\u001b[31maripiprazole                                    \u001b[0m\u001b[31m \u001b[0m│\n",
              "├──────────┼───────────────────────────────────────────────────┼──────────────────────────────────────────────────┤\n",
              "│\u001b[34m \u001b[0m\u001b[34m       2\u001b[0m\u001b[34m \u001b[0m│\u001b[35m \u001b[0m\u001b[35mmeasures, cognitive, compared, data, scale       \u001b[0m\u001b[35m \u001b[0m│\u001b[31m \u001b[0m\u001b[31mantipsychotics, aripiprazole, olanzapine,       \u001b[0m\u001b[31m \u001b[0m│\n",
              "│\u001b[34m          \u001b[0m│\u001b[35m                                                   \u001b[0m│\u001b[31m \u001b[0m\u001b[31msymptoms, antipsychotic                         \u001b[0m\u001b[31m \u001b[0m│\n",
              "├──────────┼───────────────────────────────────────────────────┼──────────────────────────────────────────────────┤\n",
              "│\u001b[34m \u001b[0m\u001b[34m       3\u001b[0m\u001b[34m \u001b[0m│\u001b[35m \u001b[0m\u001b[35mremission, mood, severe, symptoms, depression    \u001b[0m\u001b[35m \u001b[0m│\u001b[31m \u001b[0m\u001b[31mantipsychotics, schizophrenia, antipsychotic,   \u001b[0m\u001b[31m \u001b[0m│\n",
              "│\u001b[34m          \u001b[0m│\u001b[35m                                                   \u001b[0m│\u001b[31m \u001b[0m\u001b[31molanzapine, predict                             \u001b[0m\u001b[31m \u001b[0m│\n",
              "├──────────┼───────────────────────────────────────────────────┼──────────────────────────────────────────────────┤\n",
              "│\u001b[34m \u001b[0m\u001b[34m       4\u001b[0m\u001b[34m \u001b[0m│\u001b[35m \u001b[0m\u001b[35mantidepressant, antidepressants, receptors,      \u001b[0m\u001b[35m \u001b[0m│\u001b[31m \u001b[0m\u001b[31mpatients, patient, clinical, illness, treated   \u001b[0m\u001b[31m \u001b[0m│\n",
              "│\u001b[34m          \u001b[0m│\u001b[35m \u001b[0m\u001b[35mfluoxetine, receptor                             \u001b[0m\u001b[35m \u001b[0m│\u001b[31m                                                  \u001b[0m│\n",
              "├──────────┼───────────────────────────────────────────────────┼──────────────────────────────────────────────────┤\n",
              "│\u001b[34m \u001b[0m\u001b[34m       5\u001b[0m\u001b[34m \u001b[0m│\u001b[35m \u001b[0m\u001b[35mantidepressants, antidepressant, medications,    \u001b[0m\u001b[35m \u001b[0m│\u001b[31m \u001b[0m\u001b[31mbrain, mice, cognitive, receptors, receptor     \u001b[0m\u001b[31m \u001b[0m│\n",
              "│\u001b[34m          \u001b[0m│\u001b[35m \u001b[0m\u001b[35mprescription, depressed                          \u001b[0m\u001b[35m \u001b[0m│\u001b[31m                                                  \u001b[0m│\n",
              "├──────────┼───────────────────────────────────────────────────┼──────────────────────────────────────────────────┤\n",
              "│\u001b[34m \u001b[0m\u001b[34m       6\u001b[0m\u001b[34m \u001b[0m│\u001b[35m \u001b[0m\u001b[35m50, 10, 12, 20, years                            \u001b[0m\u001b[35m \u001b[0m│\u001b[31m \u001b[0m\u001b[31mpatient, medications, therapeutic, anxiety,     \u001b[0m\u001b[31m \u001b[0m│\n",
              "│\u001b[34m          \u001b[0m│\u001b[35m                                                   \u001b[0m│\u001b[31m \u001b[0m\u001b[31mmedication                                      \u001b[0m\u001b[31m \u001b[0m│\n",
              "├──────────┼───────────────────────────────────────────────────┼──────────────────────────────────────────────────┤\n",
              "│\u001b[34m \u001b[0m\u001b[34m       7\u001b[0m\u001b[34m \u001b[0m│\u001b[35m \u001b[0m\u001b[35mage, weight, health, risk, higher                \u001b[0m\u001b[35m \u001b[0m│\u001b[31m \u001b[0m\u001b[31mtreatment, treatments, treated, remission,      \u001b[0m\u001b[31m \u001b[0m│\n",
              "│\u001b[34m          \u001b[0m│\u001b[35m                                                   \u001b[0m│\u001b[31m \u001b[0m\u001b[31mtherapeutic                                     \u001b[0m\u001b[31m \u001b[0m│\n",
              "├──────────┼───────────────────────────────────────────────────┼──────────────────────────────────────────────────┤\n",
              "│\u001b[34m \u001b[0m\u001b[34m       8\u001b[0m\u001b[34m \u001b[0m│\u001b[35m \u001b[0m\u001b[35mbipolar, olanzapine, antipsychotics,             \u001b[0m\u001b[35m \u001b[0m│\u001b[31m \u001b[0m\u001b[31mdepressive, research, efficacy, outcomes,       \u001b[0m\u001b[31m \u001b[0m│\n",
              "│\u001b[34m          \u001b[0m│\u001b[35m \u001b[0m\u001b[35maripiprazole, medications                        \u001b[0m\u001b[35m \u001b[0m│\u001b[31m \u001b[0m\u001b[31mstudies                                         \u001b[0m\u001b[31m \u001b[0m│\n",
              "├──────────┼───────────────────────────────────────────────────┼──────────────────────────────────────────────────┤\n",
              "│\u001b[34m \u001b[0m\u001b[34m       9\u001b[0m\u001b[34m \u001b[0m│\u001b[35m \u001b[0m\u001b[35mefficacy, use, strategies, effective, using      \u001b[0m\u001b[35m \u001b[0m│\u001b[31m \u001b[0m\u001b[31mdisorders, disorder, syndrome, disease, illness \u001b[0m\u001b[31m \u001b[0m│\n",
              "└──────────┴───────────────────────────────────────────────────┴──────────────────────────────────────────────────┘\n"
            ],
            "text/html": [
              "<pre style=\"white-space:pre;overflow-x:auto;line-height:normal;font-family:Menlo,'DejaVu Sans Mono',consolas,'Courier New',monospace\">┏━━━━━━━━━━┳━━━━━━━━━━━━━━━━━━━━━━━━━━━━━━━━━━━━━━━━━━━━━━━━━━━┳━━━━━━━━━━━━━━━━━━━━━━━━━━━━━━━━━━━━━━━━━━━━━━━━━━┓\n",
              "┃<span style=\"font-weight: bold\"> Topic ID </span>┃<span style=\"font-weight: bold\"> Highest Ranking                                   </span>┃<span style=\"font-weight: bold\"> Lowest Ranking                                   </span>┃\n",
              "┡━━━━━━━━━━╇━━━━━━━━━━━━━━━━━━━━━━━━━━━━━━━━━━━━━━━━━━━━━━━━━━━╇━━━━━━━━━━━━━━━━━━━━━━━━━━━━━━━━━━━━━━━━━━━━━━━━━━┩\n",
              "│<span style=\"color: #000080; text-decoration-color: #000080\">        0 </span>│<span style=\"color: #800080; text-decoration-color: #800080\"> schizophrenia, psychotropic, brain, psychiatric,  </span>│<span style=\"color: #800000; text-decoration-color: #800000\"> remission, weight, results, measures, outcome    </span>│\n",
              "│<span style=\"color: #000080; text-decoration-color: #000080\">          </span>│<span style=\"color: #800080; text-decoration-color: #800080\"> antipsychotic                                     </span>│<span style=\"color: #800000; text-decoration-color: #800000\">                                                  </span>│\n",
              "├──────────┼───────────────────────────────────────────────────┼──────────────────────────────────────────────────┤\n",
              "│<span style=\"color: #000080; text-decoration-color: #000080\">        1 </span>│<span style=\"color: #800080; text-decoration-color: #800080\"> bipolar, mood, cognitive, psychiatric, brain      </span>│<span style=\"color: #800000; text-decoration-color: #800000\"> associated, medications, treatments, weight,     </span>│\n",
              "│<span style=\"color: #000080; text-decoration-color: #000080\">          </span>│<span style=\"color: #800080; text-decoration-color: #800080\">                                                   </span>│<span style=\"color: #800000; text-decoration-color: #800000\"> aripiprazole                                     </span>│\n",
              "├──────────┼───────────────────────────────────────────────────┼──────────────────────────────────────────────────┤\n",
              "│<span style=\"color: #000080; text-decoration-color: #000080\">        2 </span>│<span style=\"color: #800080; text-decoration-color: #800080\"> measures, cognitive, compared, data, scale        </span>│<span style=\"color: #800000; text-decoration-color: #800000\"> antipsychotics, aripiprazole, olanzapine,        </span>│\n",
              "│<span style=\"color: #000080; text-decoration-color: #000080\">          </span>│<span style=\"color: #800080; text-decoration-color: #800080\">                                                   </span>│<span style=\"color: #800000; text-decoration-color: #800000\"> symptoms, antipsychotic                          </span>│\n",
              "├──────────┼───────────────────────────────────────────────────┼──────────────────────────────────────────────────┤\n",
              "│<span style=\"color: #000080; text-decoration-color: #000080\">        3 </span>│<span style=\"color: #800080; text-decoration-color: #800080\"> remission, mood, severe, symptoms, depression     </span>│<span style=\"color: #800000; text-decoration-color: #800000\"> antipsychotics, schizophrenia, antipsychotic,    </span>│\n",
              "│<span style=\"color: #000080; text-decoration-color: #000080\">          </span>│<span style=\"color: #800080; text-decoration-color: #800080\">                                                   </span>│<span style=\"color: #800000; text-decoration-color: #800000\"> olanzapine, predict                              </span>│\n",
              "├──────────┼───────────────────────────────────────────────────┼──────────────────────────────────────────────────┤\n",
              "│<span style=\"color: #000080; text-decoration-color: #000080\">        4 </span>│<span style=\"color: #800080; text-decoration-color: #800080\"> antidepressant, antidepressants, receptors,       </span>│<span style=\"color: #800000; text-decoration-color: #800000\"> patients, patient, clinical, illness, treated    </span>│\n",
              "│<span style=\"color: #000080; text-decoration-color: #000080\">          </span>│<span style=\"color: #800080; text-decoration-color: #800080\"> fluoxetine, receptor                              </span>│<span style=\"color: #800000; text-decoration-color: #800000\">                                                  </span>│\n",
              "├──────────┼───────────────────────────────────────────────────┼──────────────────────────────────────────────────┤\n",
              "│<span style=\"color: #000080; text-decoration-color: #000080\">        5 </span>│<span style=\"color: #800080; text-decoration-color: #800080\"> antidepressants, antidepressant, medications,     </span>│<span style=\"color: #800000; text-decoration-color: #800000\"> brain, mice, cognitive, receptors, receptor      </span>│\n",
              "│<span style=\"color: #000080; text-decoration-color: #000080\">          </span>│<span style=\"color: #800080; text-decoration-color: #800080\"> prescription, depressed                           </span>│<span style=\"color: #800000; text-decoration-color: #800000\">                                                  </span>│\n",
              "├──────────┼───────────────────────────────────────────────────┼──────────────────────────────────────────────────┤\n",
              "│<span style=\"color: #000080; text-decoration-color: #000080\">        6 </span>│<span style=\"color: #800080; text-decoration-color: #800080\"> 50, 10, 12, 20, years                             </span>│<span style=\"color: #800000; text-decoration-color: #800000\"> patient, medications, therapeutic, anxiety,      </span>│\n",
              "│<span style=\"color: #000080; text-decoration-color: #000080\">          </span>│<span style=\"color: #800080; text-decoration-color: #800080\">                                                   </span>│<span style=\"color: #800000; text-decoration-color: #800000\"> medication                                       </span>│\n",
              "├──────────┼───────────────────────────────────────────────────┼──────────────────────────────────────────────────┤\n",
              "│<span style=\"color: #000080; text-decoration-color: #000080\">        7 </span>│<span style=\"color: #800080; text-decoration-color: #800080\"> age, weight, health, risk, higher                 </span>│<span style=\"color: #800000; text-decoration-color: #800000\"> treatment, treatments, treated, remission,       </span>│\n",
              "│<span style=\"color: #000080; text-decoration-color: #000080\">          </span>│<span style=\"color: #800080; text-decoration-color: #800080\">                                                   </span>│<span style=\"color: #800000; text-decoration-color: #800000\"> therapeutic                                      </span>│\n",
              "├──────────┼───────────────────────────────────────────────────┼──────────────────────────────────────────────────┤\n",
              "│<span style=\"color: #000080; text-decoration-color: #000080\">        8 </span>│<span style=\"color: #800080; text-decoration-color: #800080\"> bipolar, olanzapine, antipsychotics,              </span>│<span style=\"color: #800000; text-decoration-color: #800000\"> depressive, research, efficacy, outcomes,        </span>│\n",
              "│<span style=\"color: #000080; text-decoration-color: #000080\">          </span>│<span style=\"color: #800080; text-decoration-color: #800080\"> aripiprazole, medications                         </span>│<span style=\"color: #800000; text-decoration-color: #800000\"> studies                                          </span>│\n",
              "├──────────┼───────────────────────────────────────────────────┼──────────────────────────────────────────────────┤\n",
              "│<span style=\"color: #000080; text-decoration-color: #000080\">        9 </span>│<span style=\"color: #800080; text-decoration-color: #800080\"> efficacy, use, strategies, effective, using       </span>│<span style=\"color: #800000; text-decoration-color: #800000\"> disorders, disorder, syndrome, disease, illness  </span>│\n",
              "└──────────┴───────────────────────────────────────────────────┴──────────────────────────────────────────────────┘\n",
              "</pre>\n"
            ]
          },
          "metadata": {}
        }
      ]
    },
    {
      "cell_type": "code",
      "source": [
        "# Define preprocessing function\n",
        "def preprocess_text(text):\n",
        "    # Implement preprocessing steps\n",
        "    return text\n",
        "\n",
        "# Collect articles\n",
        "search_term = \"(((mood) OR (depress*) OR (affective disorder)) OR ((psychosis) OR (schizo*) OR (psychotic))) AND ((psychedelic OR hallucinogen OR entheogen OR hallucinogenic OR psychotropic))\"\n",
        "results = pubmed.query(search_term)\n",
        "corpus = \"\"\n",
        "\n",
        "# Collect article texts\n",
        "for article in results:\n",
        "    articleDict = article.toDict()\n",
        "\n",
        "    # Combine title, abstract, and keywords into one text\n",
        "    text = f\"{articleDict['title']}\\n{articleDict.get('abstract', '')}\\n{' '.join(articleDict.get('keywords', []))}\"\n",
        "\n",
        "    # Append text to the corpus\n",
        "    corpus += text + \"\\n\"\n",
        "\n",
        "# Preprocess the corpus\n",
        "preprocessed_corpus = [preprocess_text(doc) for doc in corpus.split('\\n')]\n",
        "\n",
        "# Initialize and fit the SemanticSignalSeparation model\n",
        "model = SemanticSignalSeparation(10, encoder=\"all-MiniLM-L12-v2\")\n",
        "model.fit(preprocessed_corpus)\n",
        "\n",
        "# Print topics\n",
        "model.print_topics()\n",
        "\n"
      ],
      "metadata": {
        "colab": {
          "base_uri": "https://localhost:8080/",
          "referenced_widgets": [
            "a498358a21ff44b3b1d83c4b521fb157",
            "d7dd23a8bb7947ca9c3f8e55c4ddf433"
          ]
        },
        "id": "zG1J0Et4_utK",
        "outputId": "9a09a023-137f-4e1c-8ee9-940b66ab263f"
      },
      "execution_count": null,
      "outputs": [
        {
          "output_type": "display_data",
          "data": {
            "text/plain": [
              "Output()"
            ],
            "application/vnd.jupyter.widget-view+json": {
              "version_major": 2,
              "version_minor": 0,
              "model_id": "a498358a21ff44b3b1d83c4b521fb157"
            }
          },
          "metadata": {}
        },
        {
          "output_type": "display_data",
          "data": {
            "text/plain": [
              "\u001b[2;36m[15:50:24]\u001b[0m\u001b[2;36m \u001b[0mDocuments encoded.                                                                          \u001b]8;id=952364;file:///usr/local/lib/python3.10/dist-packages/turftopic/models/decomp.py\u001b\\\u001b[2mdecomp.py\u001b[0m\u001b]8;;\u001b\\\u001b[2m:\u001b[0m\u001b]8;id=936030;file:///usr/local/lib/python3.10/dist-packages/turftopic/models/decomp.py#75\u001b\\\u001b[2m75\u001b[0m\u001b]8;;\u001b\\\n"
            ],
            "text/html": [
              "<pre style=\"white-space:pre;overflow-x:auto;line-height:normal;font-family:Menlo,'DejaVu Sans Mono',consolas,'Courier New',monospace\"><span style=\"color: #7fbfbf; text-decoration-color: #7fbfbf\">[15:50:24] </span>Documents encoded.                                                                          <a href=\"file:///usr/local/lib/python3.10/dist-packages/turftopic/models/decomp.py\" target=\"_blank\"><span style=\"color: #7f7f7f; text-decoration-color: #7f7f7f\">decomp.py</span></a><span style=\"color: #7f7f7f; text-decoration-color: #7f7f7f\">:</span><a href=\"file:///usr/local/lib/python3.10/dist-packages/turftopic/models/decomp.py#75\" target=\"_blank\"><span style=\"color: #7f7f7f; text-decoration-color: #7f7f7f\">75</span></a>\n",
              "</pre>\n"
            ]
          },
          "metadata": {}
        },
        {
          "output_type": "display_data",
          "data": {
            "text/plain": [
              "/usr/local/lib/python3.10/dist-packages/sklearn/decomposition/_fastica.py:542: FutureWarning: Starting in v1.3, \n",
              "whiten='unit-variance' will be used by default.\n",
              "  warnings.warn(\n"
            ],
            "text/html": [
              "<pre style=\"white-space:pre;overflow-x:auto;line-height:normal;font-family:Menlo,'DejaVu Sans Mono',consolas,'Courier New',monospace\">/usr/local/lib/python3.10/dist-packages/sklearn/decomposition/_fastica.py:542: FutureWarning: Starting in v1.3, \n",
              "whiten='unit-variance' will be used by default.\n",
              "  warnings.warn(\n",
              "</pre>\n"
            ]
          },
          "metadata": {}
        },
        {
          "output_type": "display_data",
          "data": {
            "text/plain": [
              "\u001b[2;36m[15:50:25]\u001b[0m\u001b[2;36m \u001b[0mDecomposition done.                                                                         \u001b]8;id=767901;file:///usr/local/lib/python3.10/dist-packages/turftopic/models/decomp.py\u001b\\\u001b[2mdecomp.py\u001b[0m\u001b]8;;\u001b\\\u001b[2m:\u001b[0m\u001b]8;id=708984;file:///usr/local/lib/python3.10/dist-packages/turftopic/models/decomp.py#78\u001b\\\u001b[2m78\u001b[0m\u001b]8;;\u001b\\\n"
            ],
            "text/html": [
              "<pre style=\"white-space:pre;overflow-x:auto;line-height:normal;font-family:Menlo,'DejaVu Sans Mono',consolas,'Courier New',monospace\"><span style=\"color: #7fbfbf; text-decoration-color: #7fbfbf\">[15:50:25] </span>Decomposition done.                                                                         <a href=\"file:///usr/local/lib/python3.10/dist-packages/turftopic/models/decomp.py\" target=\"_blank\"><span style=\"color: #7f7f7f; text-decoration-color: #7f7f7f\">decomp.py</span></a><span style=\"color: #7f7f7f; text-decoration-color: #7f7f7f\">:</span><a href=\"file:///usr/local/lib/python3.10/dist-packages/turftopic/models/decomp.py#78\" target=\"_blank\"><span style=\"color: #7f7f7f; text-decoration-color: #7f7f7f\">78</span></a>\n",
              "</pre>\n"
            ]
          },
          "metadata": {}
        },
        {
          "output_type": "display_data",
          "data": {
            "text/plain": [
              "\u001b[2;36m          \u001b[0m\u001b[2;36m \u001b[0mTerm extraction done.                                                                       \u001b]8;id=469394;file:///usr/local/lib/python3.10/dist-packages/turftopic/models/decomp.py\u001b\\\u001b[2mdecomp.py\u001b[0m\u001b]8;;\u001b\\\u001b[2m:\u001b[0m\u001b]8;id=683331;file:///usr/local/lib/python3.10/dist-packages/turftopic/models/decomp.py#81\u001b\\\u001b[2m81\u001b[0m\u001b]8;;\u001b\\\n"
            ],
            "text/html": [
              "<pre style=\"white-space:pre;overflow-x:auto;line-height:normal;font-family:Menlo,'DejaVu Sans Mono',consolas,'Courier New',monospace\"><span style=\"color: #7fbfbf; text-decoration-color: #7fbfbf\">           </span>Term extraction done.                                                                       <a href=\"file:///usr/local/lib/python3.10/dist-packages/turftopic/models/decomp.py\" target=\"_blank\"><span style=\"color: #7f7f7f; text-decoration-color: #7f7f7f\">decomp.py</span></a><span style=\"color: #7f7f7f; text-decoration-color: #7f7f7f\">:</span><a href=\"file:///usr/local/lib/python3.10/dist-packages/turftopic/models/decomp.py#81\" target=\"_blank\"><span style=\"color: #7f7f7f; text-decoration-color: #7f7f7f\">81</span></a>\n",
              "</pre>\n"
            ]
          },
          "metadata": {}
        },
        {
          "output_type": "display_data",
          "data": {
            "text/plain": [
              "\u001b[2;36m[15:50:26]\u001b[0m\u001b[2;36m \u001b[0mVocabulary encoded.                                                                         \u001b]8;id=858084;file:///usr/local/lib/python3.10/dist-packages/turftopic/models/decomp.py\u001b\\\u001b[2mdecomp.py\u001b[0m\u001b]8;;\u001b\\\u001b[2m:\u001b[0m\u001b]8;id=261558;file:///usr/local/lib/python3.10/dist-packages/turftopic/models/decomp.py#84\u001b\\\u001b[2m84\u001b[0m\u001b]8;;\u001b\\\n"
            ],
            "text/html": [
              "<pre style=\"white-space:pre;overflow-x:auto;line-height:normal;font-family:Menlo,'DejaVu Sans Mono',consolas,'Courier New',monospace\"><span style=\"color: #7fbfbf; text-decoration-color: #7fbfbf\">[15:50:26] </span>Vocabulary encoded.                                                                         <a href=\"file:///usr/local/lib/python3.10/dist-packages/turftopic/models/decomp.py\" target=\"_blank\"><span style=\"color: #7f7f7f; text-decoration-color: #7f7f7f\">decomp.py</span></a><span style=\"color: #7f7f7f; text-decoration-color: #7f7f7f\">:</span><a href=\"file:///usr/local/lib/python3.10/dist-packages/turftopic/models/decomp.py#84\" target=\"_blank\"><span style=\"color: #7f7f7f; text-decoration-color: #7f7f7f\">84</span></a>\n",
              "</pre>\n"
            ]
          },
          "metadata": {}
        },
        {
          "output_type": "display_data",
          "data": {
            "text/plain": [
              "\u001b[2;36m          \u001b[0m\u001b[2;36m \u001b[0mModel fitting done.                                                                         \u001b]8;id=605273;file:///usr/local/lib/python3.10/dist-packages/turftopic/models/decomp.py\u001b\\\u001b[2mdecomp.py\u001b[0m\u001b]8;;\u001b\\\u001b[2m:\u001b[0m\u001b]8;id=68954;file:///usr/local/lib/python3.10/dist-packages/turftopic/models/decomp.py#88\u001b\\\u001b[2m88\u001b[0m\u001b]8;;\u001b\\\n"
            ],
            "text/html": [
              "<pre style=\"white-space:pre;overflow-x:auto;line-height:normal;font-family:Menlo,'DejaVu Sans Mono',consolas,'Courier New',monospace\"><span style=\"color: #7fbfbf; text-decoration-color: #7fbfbf\">           </span>Model fitting done.                                                                         <a href=\"file:///usr/local/lib/python3.10/dist-packages/turftopic/models/decomp.py\" target=\"_blank\"><span style=\"color: #7f7f7f; text-decoration-color: #7f7f7f\">decomp.py</span></a><span style=\"color: #7f7f7f; text-decoration-color: #7f7f7f\">:</span><a href=\"file:///usr/local/lib/python3.10/dist-packages/turftopic/models/decomp.py#88\" target=\"_blank\"><span style=\"color: #7f7f7f; text-decoration-color: #7f7f7f\">88</span></a>\n",
              "</pre>\n"
            ]
          },
          "metadata": {}
        },
        {
          "output_type": "display_data",
          "data": {
            "text/plain": [],
            "text/html": [
              "<pre style=\"white-space:pre;overflow-x:auto;line-height:normal;font-family:Menlo,'DejaVu Sans Mono',consolas,'Courier New',monospace\"></pre>\n"
            ]
          },
          "metadata": {}
        },
        {
          "output_type": "display_data",
          "data": {
            "text/plain": [
              "┏━━━━━━━━━━┳━━━━━━━━━━━━━━━━━━━━━━━━━━━━━━━━━━━━━━━━━━━━━━━━━━┳━━━━━━━━━━━━━━━━━━━━━━━━━━━━━━━━━━━━━━━━━━━━━━━━━━━┓\n",
              "┃\u001b[1m \u001b[0m\u001b[1mTopic ID\u001b[0m\u001b[1m \u001b[0m┃\u001b[1m \u001b[0m\u001b[1mHighest Ranking                                 \u001b[0m\u001b[1m \u001b[0m┃\u001b[1m \u001b[0m\u001b[1mLowest Ranking                                   \u001b[0m\u001b[1m \u001b[0m┃\n",
              "┡━━━━━━━━━━╇━━━━━━━━━━━━━━━━━━━━━━━━━━━━━━━━━━━━━━━━━━━━━━━━━━╇━━━━━━━━━━━━━━━━━━━━━━━━━━━━━━━━━━━━━━━━━━━━━━━━━━━┩\n",
              "│\u001b[34m \u001b[0m\u001b[34m       0\u001b[0m\u001b[34m \u001b[0m│\u001b[35m \u001b[0m\u001b[35mdepression, depressive, mood, antidepressant,   \u001b[0m\u001b[35m \u001b[0m│\u001b[31m \u001b[0m\u001b[31mcortex, valproate, brain, autism, children       \u001b[0m\u001b[31m \u001b[0m│\n",
              "│\u001b[34m          \u001b[0m│\u001b[35m \u001b[0m\u001b[35mremission                                       \u001b[0m\u001b[35m \u001b[0m│\u001b[31m                                                   \u001b[0m│\n",
              "├──────────┼──────────────────────────────────────────────────┼───────────────────────────────────────────────────┤\n",
              "│\u001b[34m \u001b[0m\u001b[34m       1\u001b[0m\u001b[34m \u001b[0m│\u001b[35m \u001b[0m\u001b[35mbenzodiazepines, anxiety, medications,          \u001b[0m\u001b[35m \u001b[0m│\u001b[31m \u001b[0m\u001b[31mpsilocybin, brain, remission, dose, receptor     \u001b[0m\u001b[31m \u001b[0m│\n",
              "│\u001b[34m          \u001b[0m│\u001b[35m \u001b[0m\u001b[35mantidepressants, medication                     \u001b[0m\u001b[35m \u001b[0m│\u001b[31m                                                   \u001b[0m│\n",
              "├──────────┼──────────────────────────────────────────────────┼───────────────────────────────────────────────────┤\n",
              "│\u001b[34m \u001b[0m\u001b[34m       2\u001b[0m\u001b[34m \u001b[0m│\u001b[35m \u001b[0m\u001b[35mvalproate, ketamine, prescribing, remission,    \u001b[0m\u001b[35m \u001b[0m│\u001b[31m \u001b[0m\u001b[31mbrain, cortex, psychiatric, schizophrenia,       \u001b[0m\u001b[31m \u001b[0m│\n",
              "│\u001b[34m          \u001b[0m│\u001b[35m \u001b[0m\u001b[35mesketamine                                      \u001b[0m\u001b[35m \u001b[0m│\u001b[31m \u001b[0m\u001b[31mpsychotropic                                     \u001b[0m\u001b[31m \u001b[0m│\n",
              "├──────────┼──────────────────────────────────────────────────┼───────────────────────────────────────────────────┤\n",
              "│\u001b[34m \u001b[0m\u001b[34m       3\u001b[0m\u001b[34m \u001b[0m│\u001b[35m \u001b[0m\u001b[35mantidepressants, benzodiazepines,               \u001b[0m\u001b[35m \u001b[0m│\u001b[31m \u001b[0m\u001b[31mpatients, clinicians, treated, treating, patient \u001b[0m\u001b[31m \u001b[0m│\n",
              "│\u001b[34m          \u001b[0m│\u001b[35m \u001b[0m\u001b[35mantidepressant, serotonin, sleep                \u001b[0m\u001b[35m \u001b[0m│\u001b[31m                                                   \u001b[0m│\n",
              "├──────────┼──────────────────────────────────────────────────┼───────────────────────────────────────────────────┤\n",
              "│\u001b[34m \u001b[0m\u001b[34m       4\u001b[0m\u001b[34m \u001b[0m│\u001b[35m \u001b[0m\u001b[35mcovid, care, depressive, autism, bipolar        \u001b[0m\u001b[35m \u001b[0m│\u001b[31m \u001b[0m\u001b[31mpsychedelic, psychedelics, ayahuasca, lsd,       \u001b[0m\u001b[31m \u001b[0m│\n",
              "│\u001b[34m          \u001b[0m│\u001b[35m                                                  \u001b[0m│\u001b[31m \u001b[0m\u001b[31mpsilocybin                                       \u001b[0m\u001b[31m \u001b[0m│\n",
              "├──────────┼──────────────────────────────────────────────────┼───────────────────────────────────────────────────┤\n",
              "│\u001b[34m \u001b[0m\u001b[34m       5\u001b[0m\u001b[34m \u001b[0m│\u001b[35m \u001b[0m\u001b[35mantipsychotics, clozapine, schizophrenia,       \u001b[0m\u001b[35m \u001b[0m│\u001b[31m \u001b[0m\u001b[31msleep, experience, interventions, performed, pain\u001b[0m\u001b[31m \u001b[0m│\n",
              "│\u001b[34m          \u001b[0m│\u001b[35m \u001b[0m\u001b[35mpsychotic, psilocybin                           \u001b[0m\u001b[35m \u001b[0m│\u001b[31m                                                   \u001b[0m│\n",
              "├──────────┼──────────────────────────────────────────────────┼───────────────────────────────────────────────────┤\n",
              "│\u001b[34m \u001b[0m\u001b[34m       6\u001b[0m\u001b[34m \u001b[0m│\u001b[35m \u001b[0m\u001b[35msyndrome, symptoms, illness, disorders,         \u001b[0m\u001b[35m \u001b[0m│\u001b[31m \u001b[0m\u001b[31mefficacy, research, interventions, sample,       \u001b[0m\u001b[31m \u001b[0m│\n",
              "│\u001b[34m          \u001b[0m│\u001b[35m \u001b[0m\u001b[35mpsychosis                                       \u001b[0m\u001b[35m \u001b[0m│\u001b[31m \u001b[0m\u001b[31mantidepressant                                   \u001b[0m\u001b[31m \u001b[0m│\n",
              "├──────────┼──────────────────────────────────────────────────┼───────────────────────────────────────────────────┤\n",
              "│\u001b[34m \u001b[0m\u001b[34m       7\u001b[0m\u001b[34m \u001b[0m│\u001b[35m \u001b[0m\u001b[35mbenzodiazepines, prescribing, antipsychotics,   \u001b[0m\u001b[35m \u001b[0m│\u001b[31m \u001b[0m\u001b[31munderstanding, time, present, post, long         \u001b[0m\u001b[31m \u001b[0m│\n",
              "│\u001b[34m          \u001b[0m│\u001b[35m \u001b[0m\u001b[35mpharmacological, prevalence                     \u001b[0m\u001b[35m \u001b[0m│\u001b[31m                                                   \u001b[0m│\n",
              "├──────────┼──────────────────────────────────────────────────┼───────────────────────────────────────────────────┤\n",
              "│\u001b[34m \u001b[0m\u001b[34m       8\u001b[0m\u001b[34m \u001b[0m│\u001b[35m \u001b[0m\u001b[35mself, blood, development, cortex, related       \u001b[0m\u001b[35m \u001b[0m│\u001b[31m \u001b[0m\u001b[31mantipsychotics, clozapine, medications,          \u001b[0m\u001b[31m \u001b[0m│\n",
              "│\u001b[34m          \u001b[0m│\u001b[35m                                                  \u001b[0m│\u001b[31m \u001b[0m\u001b[31mtreatment, prescribing                           \u001b[0m\u001b[31m \u001b[0m│\n",
              "├──────────┼──────────────────────────────────────────────────┼───────────────────────────────────────────────────┤\n",
              "│\u001b[34m \u001b[0m\u001b[34m       9\u001b[0m\u001b[34m \u001b[0m│\u001b[35m \u001b[0m\u001b[35mesketamine, ketamine, therapeutic, therapy,     \u001b[0m\u001b[35m \u001b[0m│\u001b[31m \u001b[0m\u001b[31m20, 10, 12, years, 30                            \u001b[0m\u001b[31m \u001b[0m│\n",
              "│\u001b[34m          \u001b[0m│\u001b[35m \u001b[0m\u001b[35mserotonin                                       \u001b[0m\u001b[35m \u001b[0m│\u001b[31m                                                   \u001b[0m│\n",
              "└──────────┴──────────────────────────────────────────────────┴───────────────────────────────────────────────────┘\n"
            ],
            "text/html": [
              "<pre style=\"white-space:pre;overflow-x:auto;line-height:normal;font-family:Menlo,'DejaVu Sans Mono',consolas,'Courier New',monospace\">┏━━━━━━━━━━┳━━━━━━━━━━━━━━━━━━━━━━━━━━━━━━━━━━━━━━━━━━━━━━━━━━┳━━━━━━━━━━━━━━━━━━━━━━━━━━━━━━━━━━━━━━━━━━━━━━━━━━━┓\n",
              "┃<span style=\"font-weight: bold\"> Topic ID </span>┃<span style=\"font-weight: bold\"> Highest Ranking                                  </span>┃<span style=\"font-weight: bold\"> Lowest Ranking                                    </span>┃\n",
              "┡━━━━━━━━━━╇━━━━━━━━━━━━━━━━━━━━━━━━━━━━━━━━━━━━━━━━━━━━━━━━━━╇━━━━━━━━━━━━━━━━━━━━━━━━━━━━━━━━━━━━━━━━━━━━━━━━━━━┩\n",
              "│<span style=\"color: #000080; text-decoration-color: #000080\">        0 </span>│<span style=\"color: #800080; text-decoration-color: #800080\"> depression, depressive, mood, antidepressant,    </span>│<span style=\"color: #800000; text-decoration-color: #800000\"> cortex, valproate, brain, autism, children        </span>│\n",
              "│<span style=\"color: #000080; text-decoration-color: #000080\">          </span>│<span style=\"color: #800080; text-decoration-color: #800080\"> remission                                        </span>│<span style=\"color: #800000; text-decoration-color: #800000\">                                                   </span>│\n",
              "├──────────┼──────────────────────────────────────────────────┼───────────────────────────────────────────────────┤\n",
              "│<span style=\"color: #000080; text-decoration-color: #000080\">        1 </span>│<span style=\"color: #800080; text-decoration-color: #800080\"> benzodiazepines, anxiety, medications,           </span>│<span style=\"color: #800000; text-decoration-color: #800000\"> psilocybin, brain, remission, dose, receptor      </span>│\n",
              "│<span style=\"color: #000080; text-decoration-color: #000080\">          </span>│<span style=\"color: #800080; text-decoration-color: #800080\"> antidepressants, medication                      </span>│<span style=\"color: #800000; text-decoration-color: #800000\">                                                   </span>│\n",
              "├──────────┼──────────────────────────────────────────────────┼───────────────────────────────────────────────────┤\n",
              "│<span style=\"color: #000080; text-decoration-color: #000080\">        2 </span>│<span style=\"color: #800080; text-decoration-color: #800080\"> valproate, ketamine, prescribing, remission,     </span>│<span style=\"color: #800000; text-decoration-color: #800000\"> brain, cortex, psychiatric, schizophrenia,        </span>│\n",
              "│<span style=\"color: #000080; text-decoration-color: #000080\">          </span>│<span style=\"color: #800080; text-decoration-color: #800080\"> esketamine                                       </span>│<span style=\"color: #800000; text-decoration-color: #800000\"> psychotropic                                      </span>│\n",
              "├──────────┼──────────────────────────────────────────────────┼───────────────────────────────────────────────────┤\n",
              "│<span style=\"color: #000080; text-decoration-color: #000080\">        3 </span>│<span style=\"color: #800080; text-decoration-color: #800080\"> antidepressants, benzodiazepines,                </span>│<span style=\"color: #800000; text-decoration-color: #800000\"> patients, clinicians, treated, treating, patient  </span>│\n",
              "│<span style=\"color: #000080; text-decoration-color: #000080\">          </span>│<span style=\"color: #800080; text-decoration-color: #800080\"> antidepressant, serotonin, sleep                 </span>│<span style=\"color: #800000; text-decoration-color: #800000\">                                                   </span>│\n",
              "├──────────┼──────────────────────────────────────────────────┼───────────────────────────────────────────────────┤\n",
              "│<span style=\"color: #000080; text-decoration-color: #000080\">        4 </span>│<span style=\"color: #800080; text-decoration-color: #800080\"> covid, care, depressive, autism, bipolar         </span>│<span style=\"color: #800000; text-decoration-color: #800000\"> psychedelic, psychedelics, ayahuasca, lsd,        </span>│\n",
              "│<span style=\"color: #000080; text-decoration-color: #000080\">          </span>│<span style=\"color: #800080; text-decoration-color: #800080\">                                                  </span>│<span style=\"color: #800000; text-decoration-color: #800000\"> psilocybin                                        </span>│\n",
              "├──────────┼──────────────────────────────────────────────────┼───────────────────────────────────────────────────┤\n",
              "│<span style=\"color: #000080; text-decoration-color: #000080\">        5 </span>│<span style=\"color: #800080; text-decoration-color: #800080\"> antipsychotics, clozapine, schizophrenia,        </span>│<span style=\"color: #800000; text-decoration-color: #800000\"> sleep, experience, interventions, performed, pain </span>│\n",
              "│<span style=\"color: #000080; text-decoration-color: #000080\">          </span>│<span style=\"color: #800080; text-decoration-color: #800080\"> psychotic, psilocybin                            </span>│<span style=\"color: #800000; text-decoration-color: #800000\">                                                   </span>│\n",
              "├──────────┼──────────────────────────────────────────────────┼───────────────────────────────────────────────────┤\n",
              "│<span style=\"color: #000080; text-decoration-color: #000080\">        6 </span>│<span style=\"color: #800080; text-decoration-color: #800080\"> syndrome, symptoms, illness, disorders,          </span>│<span style=\"color: #800000; text-decoration-color: #800000\"> efficacy, research, interventions, sample,        </span>│\n",
              "│<span style=\"color: #000080; text-decoration-color: #000080\">          </span>│<span style=\"color: #800080; text-decoration-color: #800080\"> psychosis                                        </span>│<span style=\"color: #800000; text-decoration-color: #800000\"> antidepressant                                    </span>│\n",
              "├──────────┼──────────────────────────────────────────────────┼───────────────────────────────────────────────────┤\n",
              "│<span style=\"color: #000080; text-decoration-color: #000080\">        7 </span>│<span style=\"color: #800080; text-decoration-color: #800080\"> benzodiazepines, prescribing, antipsychotics,    </span>│<span style=\"color: #800000; text-decoration-color: #800000\"> understanding, time, present, post, long          </span>│\n",
              "│<span style=\"color: #000080; text-decoration-color: #000080\">          </span>│<span style=\"color: #800080; text-decoration-color: #800080\"> pharmacological, prevalence                      </span>│<span style=\"color: #800000; text-decoration-color: #800000\">                                                   </span>│\n",
              "├──────────┼──────────────────────────────────────────────────┼───────────────────────────────────────────────────┤\n",
              "│<span style=\"color: #000080; text-decoration-color: #000080\">        8 </span>│<span style=\"color: #800080; text-decoration-color: #800080\"> self, blood, development, cortex, related        </span>│<span style=\"color: #800000; text-decoration-color: #800000\"> antipsychotics, clozapine, medications,           </span>│\n",
              "│<span style=\"color: #000080; text-decoration-color: #000080\">          </span>│<span style=\"color: #800080; text-decoration-color: #800080\">                                                  </span>│<span style=\"color: #800000; text-decoration-color: #800000\"> treatment, prescribing                            </span>│\n",
              "├──────────┼──────────────────────────────────────────────────┼───────────────────────────────────────────────────┤\n",
              "│<span style=\"color: #000080; text-decoration-color: #000080\">        9 </span>│<span style=\"color: #800080; text-decoration-color: #800080\"> esketamine, ketamine, therapeutic, therapy,      </span>│<span style=\"color: #800000; text-decoration-color: #800000\"> 20, 10, 12, years, 30                             </span>│\n",
              "│<span style=\"color: #000080; text-decoration-color: #000080\">          </span>│<span style=\"color: #800080; text-decoration-color: #800080\"> serotonin                                        </span>│<span style=\"color: #800000; text-decoration-color: #800000\">                                                   </span>│\n",
              "└──────────┴──────────────────────────────────────────────────┴───────────────────────────────────────────────────┘\n",
              "</pre>\n"
            ]
          },
          "metadata": {}
        }
      ]
    }
  ]
}